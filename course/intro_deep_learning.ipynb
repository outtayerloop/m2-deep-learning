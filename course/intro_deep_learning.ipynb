{
  "nbformat": 4,
  "nbformat_minor": 0,
  "metadata": {
    "colab": {
      "name": "Intro_deep_learning.ipynb",
      "provenance": []
    },
    "kernelspec": {
      "name": "python3",
      "display_name": "Python 3"
    },
    "language_info": {
      "name": "python"
    }
  },
  "cells": [
    {
      "cell_type": "code",
      "metadata": {
        "id": "qOi0CYiPQQRK"
      },
      "source": [
        ""
      ],
      "execution_count": null,
      "outputs": []
    },
    {
      "cell_type": "markdown",
      "metadata": {
        "id": "_9kXBMlZQR5C"
      },
      "source": [
        "Formule régression linéaire : \n",
        "\n",
        "$ \\hat{y} = \\theta_0 + \\theta_1 * X_1 + \\theta_2 * X_2 + ... \\theta_n * X_n $ \n",
        "\n",
        "\n",
        "Formule régression logistique 🇰\n",
        "\n",
        "$ \\hat{y} = \\sigma(\\theta_0 + \\theta_1 * X_1 + \\theta_2 * X_2 + ... \\theta_n * X_n) $ \n",
        "\n",
        "où \n",
        "\n",
        "$\\sigma(x) = \\frac{1}{1 + e^{-x}} $ \n",
        "\n",
        "\n",
        "Formule du neurone sigmoid \n",
        "\n",
        "$ \\hat{y} = NL(w_0 + w_1 * X_1 + w_2 * X_2 + ... + w_n * X_n ) $ \n",
        "\n",
        "\n"
      ]
    },
    {
      "cell_type": "code",
      "metadata": {
        "colab": {
          "base_uri": "https://localhost:8080/"
        },
        "id": "l4cyFMAvQS8X",
        "outputId": "bfdeafbf-df59-45d6-8073-2e98f6b772a2"
      },
      "source": [
        "\n",
        "import numpy as np \n",
        "\n",
        "def prediction_linear_regression(X, theta):\n",
        "\n",
        "  return np.sum(X * theta)\n",
        "\n",
        "X = np.array([1, 0.1, 2, 3])\n",
        "theta = np.array([-1, 1, -1, 0.5])\n",
        "\n",
        "\n",
        "y_pred = prediction_linear_regression(X, theta)\n",
        "\n",
        "y_pred\n"
      ],
      "execution_count": null,
      "outputs": [
        {
          "output_type": "execute_result",
          "data": {
            "text/plain": [
              "-1.4"
            ]
          },
          "metadata": {},
          "execution_count": 3
        }
      ]
    },
    {
      "cell_type": "code",
      "metadata": {
        "colab": {
          "base_uri": "https://localhost:8080/"
        },
        "id": "XukO5NFIRpO1",
        "outputId": "301274d0-dc4a-4b6c-afdf-415443b70ffc"
      },
      "source": [
        "\n",
        "def sigmoid(x): \n",
        "\n",
        "  return 1 / (1 + np.exp(-x))\n",
        "\n",
        "\n",
        "def prediction_regression_logistique(X, theta):\n",
        "\n",
        "  combinaison_lineaire = np.sum(X * theta)\n",
        "  y_pred = sigmoid(combinaison_lineaire)\n",
        "\n",
        "  return y_pred\n",
        "\n",
        "\n",
        "X = np.array([1, 1, -1, -1])\n",
        "theta = np.array([0.5, 0.5, 0.5, 0.5])\n",
        "print(prediction_regression_logistique(X, theta))\n"
      ],
      "execution_count": null,
      "outputs": [
        {
          "output_type": "stream",
          "name": "stdout",
          "text": [
            "0.5\n"
          ]
        }
      ]
    },
    {
      "cell_type": "code",
      "metadata": {
        "id": "Za_d8Nn5SPBI"
      },
      "source": [
        "def ReLu(x): #max(0, x)\n",
        "\n",
        "  result = x.copy()\n",
        "  result[x <= 0] = 0\n",
        "\n",
        "  return result\n",
        "\n",
        "\n",
        "def neurone_sigmoid(X, weights):\n",
        "\n",
        "  combinaison_lineaire = np.sum(X * weights) \n",
        "\n",
        "  non_lineaire = ReLu\n",
        "  return non_lineaire(combinaison_lineaire) \n",
        "\n",
        "\n",
        "\n"
      ],
      "execution_count": null,
      "outputs": []
    },
    {
      "cell_type": "code",
      "metadata": {
        "id": "whIiLw0DUGrI"
      },
      "source": [
        "from sklearn.linear_model import LogisticRegression\n",
        "\n",
        "model = LogisticRegression()"
      ],
      "execution_count": null,
      "outputs": []
    },
    {
      "cell_type": "code",
      "metadata": {
        "colab": {
          "base_uri": "https://localhost:8080/"
        },
        "id": "78kS1GmDT9Wg",
        "outputId": "65473583-c74a-476b-e16f-4f4b00f2be9f"
      },
      "source": [
        "from tensorflow.keras import Sequential\n",
        "from tensorflow.keras.layers import Dense\n",
        "\n",
        "model = Sequential() # un peu comme scikit-learn\n",
        "\n",
        "model.add(Dense(800, activation=\"relu\", input_shape=[10]))\n",
        "model.add(Dense(500, activation=\"relu\"))\n",
        "model.add(Dense(10, activation=\"softmax\"))\n",
        "\n",
        "\n",
        "model.compile(optimizer=\"sgd\", loss=\"sparse_categerical_crossentropy\")\n",
        "\n",
        "model.summary()\n",
        "\n"
      ],
      "execution_count": null,
      "outputs": [
        {
          "output_type": "stream",
          "name": "stdout",
          "text": [
            "Model: \"sequential_4\"\n",
            "_________________________________________________________________\n",
            " Layer (type)                Output Shape              Param #   \n",
            "=================================================================\n",
            " dense_12 (Dense)            (None, 800)               8800      \n",
            "                                                                 \n",
            " dense_13 (Dense)            (None, 500)               400500    \n",
            "                                                                 \n",
            " dense_14 (Dense)            (None, 10)                5010      \n",
            "                                                                 \n",
            "=================================================================\n",
            "Total params: 414,310\n",
            "Trainable params: 414,310\n",
            "Non-trainable params: 0\n",
            "_________________________________________________________________\n"
          ]
        }
      ]
    },
    {
      "cell_type": "code",
      "metadata": {
        "id": "yJZSeKNaUkfo"
      },
      "source": [
        "model = Sequential() # un peu comme scikit-learn\n",
        "\n",
        "model.add(Dense(50, activation=\"relu\", input_shape=(200, 200, 3 )))\n",
        "model.add(Dense(30, activation=\"relu\"))\n",
        "model.add(Dense(10, activation=\"softmax\"))"
      ],
      "execution_count": null,
      "outputs": []
    },
    {
      "cell_type": "code",
      "metadata": {
        "colab": {
          "base_uri": "https://localhost:8080/"
        },
        "id": "3fYKfFeXWDc5",
        "outputId": "1aae458e-728c-4024-a5cd-79ff843b48ee"
      },
      "source": [
        "a = (10)\n",
        "b = (10,)\n",
        "\n",
        "print(type(a), type(b))"
      ],
      "execution_count": null,
      "outputs": [
        {
          "output_type": "stream",
          "name": "stdout",
          "text": [
            "<class 'int'> <class 'tuple'>\n"
          ]
        }
      ]
    },
    {
      "cell_type": "code",
      "metadata": {
        "id": "Lua8k4uFWHhg"
      },
      "source": [
        "## regression model\n",
        "\n",
        "from tensorflow.keras import Sequential\n",
        "from tensorflow.keras.layers import Dense\n",
        "\n",
        "model = Sequential() # un peu comme scikit-learn\n",
        "\n",
        "model.add(Dense(50, activation=\"relu\", input_shape=[4])) # 4 features: (size, nb_rooms, garden, garage)\n",
        "model.add(Dense(30, activation=\"relu\"))\n",
        "model.add(Dense(1, activation=\"linear\")) # linear\n",
        "\n",
        "model.compile(optimizer=\"sgd\", loss=\"mse\") #MEAN SQUARED ERROR\n",
        "\n",
        "\n",
        "model.fit(X, y)"
      ],
      "execution_count": null,
      "outputs": []
    },
    {
      "cell_type": "code",
      "metadata": {
        "id": "ohvXEbWRja83"
      },
      "source": [
        "## A ten class - classification problem\n",
        "\n",
        "\n",
        "from tensorflow.keras import Sequential\n",
        "from tensorflow.keras.layers import Dense\n",
        "\n",
        "model = Sequential() # un peu comme scikit-learn\n",
        "\n",
        "model.add(Dense(50, activation=\"relu\", input_shape=[10]))\n",
        "model.add(Dense(30, activation=\"relu\"))\n",
        "model.add(Dense(10, activation=\"softmax\")) #10 neurones because of 10 classes (cf mnist)\n",
        "\n",
        "\n",
        "model.compile(optimizer=\"sgd\", loss=\"sparse_categorical_crossentropy\")\n",
        "\n",
        "model.summary()"
      ],
      "execution_count": null,
      "outputs": []
    }
  ]
}