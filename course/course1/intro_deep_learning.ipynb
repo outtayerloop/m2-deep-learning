{
  "nbformat": 4,
  "nbformat_minor": 0,
  "metadata": {
    "colab": {
      "name": "Intro_deep_learning.ipynb",
      "provenance": []
    },
    "kernelspec": {
      "name": "python3",
      "display_name": "Python 3"
    },
    "language_info": {
      "name": "python"
    }
  },
  "cells": [
    {
      "cell_type": "code",
      "metadata": {
        "id": "qOi0CYiPQQRK"
      },
      "source": [
        ""
      ],
      "execution_count": null,
      "outputs": []
    },
    {
      "cell_type": "markdown",
      "metadata": {
        "id": "_9kXBMlZQR5C"
      },
      "source": [
        "Formule régression linéaire : \n",
        "\n",
        "$ \\hat{y} = \\theta_0 + \\theta_1 * X_1 + \\theta_2 * X_2 + ... \\theta_n * X_n $ \n",
        "\n",
        "\n",
        "Formule régression logistique 🇰\n",
        "\n",
        "$ \\hat{y} = \\sigma(\\theta_0 + \\theta_1 * X_1 + \\theta_2 * X_2 + ... \\theta_n * X_n) $ \n",
        "\n",
        "où \n",
        "\n",
        "$\\sigma(x) = \\frac{1}{1 + e^{-x}} $ \n",
        "\n",
        "\n",
        "Formule du neurone sigmoid \n",
        "\n",
        "$ \\hat{y} = NL(w_0 + w_1 * X_1 + w_2 * X_2 + ... + w_n * X_n ) $ \n",
        "\n",
        "\n"
      ]
    },
    {
      "cell_type": "code",
      "metadata": {
        "colab": {
          "base_uri": "https://localhost:8080/"
        },
        "id": "l4cyFMAvQS8X",
        "outputId": "bfdeafbf-df59-45d6-8073-2e98f6b772a2"
      },
      "source": [
        "\n",
        "import numpy as np \n",
        "\n",
        "def prediction_linear_regression(X, theta):\n",
        "\n",
        "  return np.sum(X * theta)\n",
        "\n",
        "X = np.array([1, 0.1, 2, 3])\n",
        "theta = np.array([-1, 1, -1, 0.5])\n",
        "\n",
        "\n",
        "y_pred = prediction_linear_regression(X, theta)\n",
        "\n",
        "y_pred\n"
      ],
      "execution_count": null,
      "outputs": [
        {
          "output_type": "execute_result",
          "data": {
            "text/plain": [
              "-1.4"
            ]
          },
          "metadata": {},
          "execution_count": 3
        }
      ]
    },
    {
      "cell_type": "code",
      "metadata": {
        "colab": {
          "base_uri": "https://localhost:8080/"
        },
        "id": "XukO5NFIRpO1",
        "outputId": "301274d0-dc4a-4b6c-afdf-415443b70ffc"
      },
      "source": [
        "\n",
        "def sigmoid(x): \n",
        "\n",
        "  return 1 / (1 + np.exp(-x))\n",
        "\n",
        "\n",
        "def prediction_regression_logistique(X, theta):\n",
        "\n",
        "  combinaison_lineaire = np.sum(X * theta)\n",
        "  y_pred = sigmoid(combinaison_lineaire)\n",
        "\n",
        "  return y_pred\n",
        "\n",
        "\n",
        "X = np.array([1, 1, -1, -1])\n",
        "theta = np.array([0.5, 0.5, 0.5, 0.5])\n",
        "print(prediction_regression_logistique(X, theta))\n"
      ],
      "execution_count": null,
      "outputs": [
        {
          "output_type": "stream",
          "name": "stdout",
          "text": [
            "0.5\n"
          ]
        }
      ]
    },
    {
      "cell_type": "code",
      "metadata": {
        "id": "Za_d8Nn5SPBI"
      },
      "source": [
        "def ReLu(x): #max(0, x)\n",
        "\n",
        "  result = x.copy()\n",
        "  result[x <= 0] = 0\n",
        "\n",
        "  return result\n",
        "\n",
        "\n",
        "def neurone_sigmoid(X, weights):\n",
        "\n",
        "  combinaison_lineaire = np.sum(X * weights) \n",
        "\n",
        "  non_lineaire = ReLu\n",
        "  return non_lineaire(combinaison_lineaire) \n",
        "\n",
        "\n",
        "\n"
      ],
      "execution_count": null,
      "outputs": []
    },
    {
      "cell_type": "code",
      "metadata": {
        "id": "whIiLw0DUGrI"
      },
      "source": [
        "from sklearn.linear_model import LogisticRegression\n",
        "\n",
        "model = LogisticRegression()"
      ],
      "execution_count": null,
      "outputs": []
    },
    {
      "cell_type": "code",
      "metadata": {
        "colab": {
          "base_uri": "https://localhost:8080/"
        },
        "id": "78kS1GmDT9Wg",
        "outputId": "277b1a2f-1b7b-41a0-f936-f9e900ad46c6"
      },
      "source": [
        "from tensorflow.keras import Sequential\n",
        "from tensorflow.keras.layers import Dense\n",
        "\n",
        "model = Sequential() # un peu comme scikit-learn\n",
        "\n",
        "model.add(Dense(800, activation=\"sigmoid\", input_shape=[10]))\n",
        "model.add(Dense(500, activation=\"relu\"))\n",
        "model.add(Dense(10, activation=\"softmax\"))\n",
        "\n",
        "\n",
        "\n",
        "from tensorflow.keras.optimizers import SGD\n",
        "\n",
        "\n",
        "optimizer = SGD(learning_rate=0.3)\n",
        "#model.compile(optimizer=\"sgd\", loss=\"sparse_categerical_crossentropy\")\n",
        "\n",
        "\n",
        "\n",
        "model.compile(optimizer=optimizer, loss=\"sparse_categorical_crossentropy\")\n",
        "model.summary()\n",
        "\n"
      ],
      "execution_count": null,
      "outputs": [
        {
          "output_type": "stream",
          "name": "stdout",
          "text": [
            "Model: \"sequential_1\"\n",
            "_________________________________________________________________\n",
            " Layer (type)                Output Shape              Param #   \n",
            "=================================================================\n",
            " dense_3 (Dense)             (None, 800)               8800      \n",
            "                                                                 \n",
            " dense_4 (Dense)             (None, 500)               400500    \n",
            "                                                                 \n",
            " dense_5 (Dense)             (None, 10)                5010      \n",
            "                                                                 \n",
            "=================================================================\n",
            "Total params: 414,310\n",
            "Trainable params: 414,310\n",
            "Non-trainable params: 0\n",
            "_________________________________________________________________\n"
          ]
        }
      ]
    },
    {
      "cell_type": "code",
      "metadata": {
        "id": "yJZSeKNaUkfo"
      },
      "source": [
        "model = Sequential() # un peu comme scikit-learn\n",
        "\n",
        "model.add(Dense(50, activation=\"relu\", input_shape=(200, 200, 3 )))\n",
        "model.add(Dense(30, activation=\"relu\"))\n",
        "model.add(Dense(10, activation=\"softmax\"))"
      ],
      "execution_count": null,
      "outputs": []
    },
    {
      "cell_type": "code",
      "metadata": {
        "colab": {
          "base_uri": "https://localhost:8080/"
        },
        "id": "3fYKfFeXWDc5",
        "outputId": "1aae458e-728c-4024-a5cd-79ff843b48ee"
      },
      "source": [
        "a = (10)\n",
        "b = (10,)\n",
        "\n",
        "print(type(a), type(b))"
      ],
      "execution_count": null,
      "outputs": [
        {
          "output_type": "stream",
          "name": "stdout",
          "text": [
            "<class 'int'> <class 'tuple'>\n"
          ]
        }
      ]
    },
    {
      "cell_type": "code",
      "metadata": {
        "id": "Lua8k4uFWHhg"
      },
      "source": [
        "## regression model\n",
        "\n",
        "from tensorflow.keras import Sequential\n",
        "from tensorflow.keras.layers import Dense\n",
        "\n",
        "model = Sequential() # un peu comme scikit-learn\n",
        "\n",
        "model.add(Dense(50, activation=\"relu\", input_shape=[4])) # 4 features: (size, nb_rooms, garden, garage)\n",
        "model.add(Dense(30, activation=\"relu\"))\n",
        "model.add(Dense(1, activation=\"linear\")) # linear\n",
        "\n",
        "model.compile(optimizer=\"sgd\", loss=\"mse\") #MEAN SQUARED ERROR\n",
        "\n",
        "\n",
        "model.fit(X, y)"
      ],
      "execution_count": null,
      "outputs": []
    },
    {
      "cell_type": "code",
      "metadata": {
        "id": "ohvXEbWRja83"
      },
      "source": [
        "## A ten class - classification problem\n",
        "\n",
        "\n",
        "from tensorflow.keras import Sequential\n",
        "from tensorflow.keras.layers import Dense\n",
        "\n",
        "model = Sequential() # un peu comme scikit-learn\n",
        "\n",
        "model.add(Dense(50, activation=\"relu\", input_shape=[28**2]))\n",
        "model.add(Dense(30, activation=\"relu\"))\n",
        "model.add(Dense(10, activation=\"softmax\")) #10 neurones because of 10 classes (cf mnist)\n",
        "\n",
        "\n",
        "model.compile(optimizer=\"sgd\", loss=\"sparse_categorical_crossentropy\")\n",
        "\n",
        "model.summary()"
      ],
      "execution_count": null,
      "outputs": []
    },
    {
      "cell_type": "code",
      "metadata": {
        "colab": {
          "base_uri": "https://localhost:8080/"
        },
        "id": "EIa-VHgfDKOO",
        "outputId": "1225985e-636c-45db-faa2-a0e9fc322877"
      },
      "source": [
        "from tensorflow.keras.datasets.fashion_mnist import load_data\n",
        "\n",
        "\n",
        "data = load_data()\n"
      ],
      "execution_count": null,
      "outputs": [
        {
          "output_type": "stream",
          "name": "stdout",
          "text": [
            "Downloading data from https://storage.googleapis.com/tensorflow/tf-keras-datasets/train-labels-idx1-ubyte.gz\n",
            "32768/29515 [=================================] - 0s 0us/step\n",
            "40960/29515 [=========================================] - 0s 0us/step\n",
            "Downloading data from https://storage.googleapis.com/tensorflow/tf-keras-datasets/train-images-idx3-ubyte.gz\n",
            "26427392/26421880 [==============================] - 0s 0us/step\n",
            "26435584/26421880 [==============================] - 0s 0us/step\n",
            "Downloading data from https://storage.googleapis.com/tensorflow/tf-keras-datasets/t10k-labels-idx1-ubyte.gz\n",
            "16384/5148 [===============================================================================================] - 0s 0us/step\n",
            "Downloading data from https://storage.googleapis.com/tensorflow/tf-keras-datasets/t10k-images-idx3-ubyte.gz\n",
            "4423680/4422102 [==============================] - 0s 0us/step\n",
            "4431872/4422102 [==============================] - 0s 0us/step\n"
          ]
        }
      ]
    },
    {
      "cell_type": "code",
      "metadata": {
        "colab": {
          "base_uri": "https://localhost:8080/"
        },
        "id": "e4tGEzxYDPDl",
        "outputId": "9042c4a4-4605-4fb2-9953-7863c65864dd"
      },
      "source": [
        "print(type(data))"
      ],
      "execution_count": null,
      "outputs": [
        {
          "output_type": "stream",
          "name": "stdout",
          "text": [
            "<class 'tuple'>\n"
          ]
        }
      ]
    },
    {
      "cell_type": "code",
      "metadata": {
        "colab": {
          "base_uri": "https://localhost:8080/"
        },
        "id": "XUuMwz_yDTr0",
        "outputId": "6898115f-9aa5-4c5a-c208-3498f468516e"
      },
      "source": [
        "len(data)"
      ],
      "execution_count": null,
      "outputs": [
        {
          "output_type": "execute_result",
          "data": {
            "text/plain": [
              "2"
            ]
          },
          "metadata": {},
          "execution_count": 7
        }
      ]
    },
    {
      "cell_type": "code",
      "metadata": {
        "colab": {
          "base_uri": "https://localhost:8080/"
        },
        "id": "DZ4fkgZmDUre",
        "outputId": "1d6bdcad-b9dc-4fab-e1d1-5caadf92c83a"
      },
      "source": [
        "train, test = data\n",
        "\n",
        "\n",
        "print(len(train))"
      ],
      "execution_count": null,
      "outputs": [
        {
          "output_type": "stream",
          "name": "stdout",
          "text": [
            "2\n"
          ]
        }
      ]
    },
    {
      "cell_type": "code",
      "metadata": {
        "colab": {
          "base_uri": "https://localhost:8080/"
        },
        "id": "GWkS0NkjDXcJ",
        "outputId": "b31f004e-6337-417e-9e56-bf606511b7b2"
      },
      "source": [
        "X_train, y_train = train\n",
        "\n",
        "type(X_train), X_train.shape"
      ],
      "execution_count": null,
      "outputs": [
        {
          "output_type": "execute_result",
          "data": {
            "text/plain": [
              "(numpy.ndarray, (60000, 28, 28))"
            ]
          },
          "metadata": {},
          "execution_count": 10
        }
      ]
    },
    {
      "cell_type": "code",
      "metadata": {
        "colab": {
          "base_uri": "https://localhost:8080/"
        },
        "id": "UFxfPw5VEJvC",
        "outputId": "cd2e6d1a-0004-4a60-e65a-b026ad1188a9"
      },
      "source": [
        "y_train.shape"
      ],
      "execution_count": null,
      "outputs": [
        {
          "output_type": "execute_result",
          "data": {
            "text/plain": [
              "(60000,)"
            ]
          },
          "metadata": {},
          "execution_count": 12
        }
      ]
    },
    {
      "cell_type": "code",
      "metadata": {
        "colab": {
          "base_uri": "https://localhost:8080/"
        },
        "id": "WXTjc1PlENNC",
        "outputId": "43c8d7a8-6869-4103-eb24-64f0afa67f2e"
      },
      "source": [
        "y_train[1]"
      ],
      "execution_count": null,
      "outputs": [
        {
          "output_type": "execute_result",
          "data": {
            "text/plain": [
              "0"
            ]
          },
          "metadata": {},
          "execution_count": 16
        }
      ]
    },
    {
      "cell_type": "code",
      "metadata": {
        "colab": {
          "base_uri": "https://localhost:8080/",
          "height": 283
        },
        "id": "kUUi0NNgDaBz",
        "outputId": "46a5a05b-cf5e-4d41-c000-72db0940e5cd"
      },
      "source": [
        "import matplotlib.pyplot as plt \n",
        "\n",
        "plt.imshow(X_train[1], cmap=\"gray\")"
      ],
      "execution_count": null,
      "outputs": [
        {
          "output_type": "execute_result",
          "data": {
            "text/plain": [
              "<matplotlib.image.AxesImage at 0x7fa3ad2e29d0>"
            ]
          },
          "metadata": {},
          "execution_count": 15
        },
        {
          "output_type": "display_data",
          "data": {
            "image/png": "[encoded data removed]",
            "text/plain": [
              "<Figure size 432x288 with 1 Axes>"
            ]
          },
          "metadata": {
            "needs_background": "light"
          }
        }
      ]
    },
    {
      "cell_type": "code",
      "metadata": {
        "id": "MGPXJRxcDhqK"
      },
      "source": [
        "##ONE MARK IT IS 2D IMAGES  DENSE LAYERS WANT 1D DATA \n",
        "\n",
        "#We ahve to reshape the data\n",
        "\n",
        "\n",
        "X_train = X_train.reshape(60000, 28**2)"
      ],
      "execution_count": null,
      "outputs": []
    },
    {
      "cell_type": "code",
      "metadata": {
        "colab": {
          "base_uri": "https://localhost:8080/"
        },
        "id": "iDNqKRtIEk3x",
        "outputId": "c0a404e9-d3dd-4e35-cfea-61d041d85f87"
      },
      "source": [
        "import numpy as np\n",
        "m = np.random.randn(10, 5)\n",
        "\n",
        "\n",
        "m2 = m.reshape(25, 2)\n",
        "\n",
        "m3 = m.reshape(-1, 2) #calcul le bon nombre d'élément pour la première dimension\n",
        "\n",
        "m2.shape, m3.shape"
      ],
      "execution_count": null,
      "outputs": [
        {
          "output_type": "execute_result",
          "data": {
            "text/plain": [
              "((25, 2), (25, 2))"
            ]
          },
          "metadata": {},
          "execution_count": 20
        }
      ]
    },
    {
      "cell_type": "code",
      "metadata": {
        "id": "sPDTdMudE930"
      },
      "source": [
        ""
      ],
      "execution_count": null,
      "outputs": []
    }
  ]
}