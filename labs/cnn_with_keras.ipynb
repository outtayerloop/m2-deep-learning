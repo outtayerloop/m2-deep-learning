{
  "nbformat": 4,
  "nbformat_minor": 0,
  "metadata": {
    "orig_nbformat": 2,
    "deepnote": {
      "is_reactive": false
    },
    "deepnote_notebook_id": "c2b36cfe-fe7a-4b7d-bdf2-23c45a65921b",
    "deepnote_execution_queue": [],
    "colab": {
      "name": "2.CNN_with_keras.ipynb",
      "provenance": []
    },
    "language_info": {
      "name": "python"
    },
    "kernelspec": {
      "name": "python3",
      "display_name": "Python 3"
    },
    "accelerator": "GPU"
  },
  "cells": [
    {
      "cell_type": "markdown",
      "metadata": {
        "tags": [],
        "cell_id": "00000-f4ae0f24-c175-4934-a5dc-f91915d7451c",
        "deepnote_cell_type": "markdown",
        "id": "dqE3CaJmJne6"
      },
      "source": [
        "## Réseaux de neurones convolutionnels \n",
        "\n",
        "Maintenant qu'on a vu comment fonctionnait une convolution, on va entraîner nos premiers réseaux de neurones convolutionnels avec Keras\n",
        "\n"
      ]
    },
    {
      "cell_type": "markdown",
      "metadata": {
        "tags": [],
        "cell_id": "00001-6393f959-96b2-4e53-ab18-9e8f4d01349f",
        "deepnote_cell_type": "markdown",
        "id": "2aFnE_aLJnfH"
      },
      "source": [
        "Télécharger le dataset cifar 10 en utilisant le module datasets de keras"
      ]
    },
    {
      "cell_type": "code",
      "metadata": {
        "tags": [],
        "cell_id": "00003-326e3e50-21eb-4895-8c91-1e494dfc430d",
        "deepnote_cell_type": "code",
        "colab": {
          "base_uri": "https://localhost:8080/"
        },
        "id": "OMnQHTWnJnfK",
        "outputId": "8176799a-0564-4dfd-bbad-2f00c0630e36"
      },
      "source": [
        "from tensorflow.keras.datasets.cifar10 import load_data\n",
        "\n",
        "data = load_data()"
      ],
      "execution_count": 1,
      "outputs": [
        {
          "output_type": "stream",
          "name": "stdout",
          "text": [
            "Downloading data from https://www.cs.toronto.edu/~kriz/cifar-10-python.tar.gz\n",
            "170500096/170498071 [==============================] - 2s 0us/step\n",
            "170508288/170498071 [==============================] - 2s 0us/step\n"
          ]
        }
      ]
    },
    {
      "cell_type": "markdown",
      "metadata": {
        "tags": [],
        "cell_id": "00002-ae1b9bff-fc29-4630-b648-8e02e2de073a",
        "deepnote_cell_type": "markdown",
        "id": "AQh07hH6JnfL"
      },
      "source": [
        "Récupérer le jeu de train et de test dans des variables train et test"
      ]
    },
    {
      "cell_type": "code",
      "metadata": {
        "tags": [],
        "cell_id": "00005-207ce46a-58df-467d-8ba5-6dad039aea16",
        "deepnote_cell_type": "code",
        "id": "n_pPGGNHJnfM"
      },
      "source": [
        "train, test = data"
      ],
      "execution_count": 27,
      "outputs": []
    },
    {
      "cell_type": "markdown",
      "metadata": {
        "tags": [],
        "cell_id": "00003-ff0a4fbe-661e-44e9-8570-29f8ae4745a2",
        "deepnote_cell_type": "markdown",
        "id": "zXSNWjmJJnfN"
      },
      "source": [
        "Afficher une ou deux images du jeu de train avec matplotlib "
      ]
    },
    {
      "cell_type": "code",
      "metadata": {
        "tags": [],
        "cell_id": "00007-2e5d6485-e60d-47e0-9855-6d17eaef16f7",
        "deepnote_cell_type": "code",
        "id": "bqPvDQ6tJnfO"
      },
      "source": [
        "import matplotlib.pyplot as plt\n",
        "\n",
        "X_train, y_train = train\n",
        "X_test, y_test = test"
      ],
      "execution_count": 28,
      "outputs": []
    },
    {
      "cell_type": "code",
      "metadata": {
        "colab": {
          "base_uri": "https://localhost:8080/"
        },
        "id": "nir2HIgyLuhq",
        "outputId": "eaf9c143-6e25-4760-b2fb-07bb346830aa"
      },
      "source": [
        "X_train.shape"
      ],
      "execution_count": 29,
      "outputs": [
        {
          "output_type": "execute_result",
          "data": {
            "text/plain": [
              "(50000, 32, 32, 3)"
            ]
          },
          "metadata": {},
          "execution_count": 29
        }
      ]
    },
    {
      "cell_type": "code",
      "metadata": {
        "colab": {
          "base_uri": "https://localhost:8080/"
        },
        "id": "01IwcpoPRUV5",
        "outputId": "ec6be839-e79d-4d71-cf56-55bd90f11de7"
      },
      "source": [
        "X_test.shape"
      ],
      "execution_count": 30,
      "outputs": [
        {
          "output_type": "execute_result",
          "data": {
            "text/plain": [
              "(10000, 32, 32, 3)"
            ]
          },
          "metadata": {},
          "execution_count": 30
        }
      ]
    },
    {
      "cell_type": "code",
      "metadata": {
        "colab": {
          "base_uri": "https://localhost:8080/",
          "height": 283
        },
        "id": "cCyXGpiKK_s_",
        "outputId": "28c4411c-c4d9-4ff7-997c-4d744dfa15b5"
      },
      "source": [
        "plt.imshow(X_train[0])"
      ],
      "execution_count": 6,
      "outputs": [
        {
          "output_type": "execute_result",
          "data": {
            "text/plain": [
              "<matplotlib.image.AxesImage at 0x7fd4b1691250>"
            ]
          },
          "metadata": {},
          "execution_count": 6
        },
        {
          "output_type": "display_data",
          "data": {
            "image/png": "[encoded data removed]",
            "text/plain": [
              "<Figure size 432x288 with 1 Axes>"
            ]
          },
          "metadata": {
            "needs_background": "light"
          }
        }
      ]
    },
    {
      "cell_type": "code",
      "metadata": {
        "colab": {
          "base_uri": "https://localhost:8080/",
          "height": 283
        },
        "id": "APF_uUp2K99Y",
        "outputId": "2a01df9f-f87a-4a34-e1bc-3482f987159d"
      },
      "source": [
        "plt.imshow(X_train[1])"
      ],
      "execution_count": 7,
      "outputs": [
        {
          "output_type": "execute_result",
          "data": {
            "text/plain": [
              "<matplotlib.image.AxesImage at 0x7fd4b11f4590>"
            ]
          },
          "metadata": {},
          "execution_count": 7
        },
        {
          "output_type": "display_data",
          "data": {
            "image/png": "[encoded data removed]",
            "text/plain": [
              "<Figure size 432x288 with 1 Axes>"
            ]
          },
          "metadata": {
            "needs_background": "light"
          }
        }
      ]
    },
    {
      "cell_type": "markdown",
      "metadata": {
        "tags": [],
        "cell_id": "00004-84e99b4f-fa59-467f-8e44-279af52a6ee0",
        "deepnote_cell_type": "markdown",
        "id": "tqlP0i4AJnfP"
      },
      "source": [
        "Si les données prennent des valeurs en 0 et 255 faire une normalisation des données"
      ]
    },
    {
      "cell_type": "code",
      "metadata": {
        "id": "ryrdbpZANkcZ"
      },
      "source": [
        "images_count, image_height, image_width, color_count = X_train.shape"
      ],
      "execution_count": 8,
      "outputs": []
    },
    {
      "cell_type": "code",
      "metadata": {
        "tags": [],
        "cell_id": "00009-4e421fc8-4ecf-48dc-adeb-90866acecc81",
        "deepnote_cell_type": "code",
        "id": "uYal6wdYJnfQ"
      },
      "source": [
        "X_train = X_train / 255\n",
        "X_test = X_test / 255"
      ],
      "execution_count": 9,
      "outputs": []
    },
    {
      "cell_type": "markdown",
      "metadata": {
        "tags": [],
        "cell_id": "00005-d7707839-9067-4bdb-91ee-138e9234ce27",
        "deepnote_cell_type": "markdown",
        "id": "Ifseq6S8JnfR"
      },
      "source": [
        "Créer un premier réseau de neurones convolutionnel à trois couches \n",
        "- Une couche convolutionnelle avec 32 neurones et une activation relu\n",
        "- Une couche Dense ave 300 neurones relu\n",
        "- Une couche Dense finale à spécifier vous même\n",
        "\n",
        "Il faudra penser à spécifier input_shape pour la première couche"
      ]
    },
    {
      "cell_type": "code",
      "metadata": {
        "colab": {
          "base_uri": "https://localhost:8080/"
        },
        "id": "676ct2ouOSBV",
        "outputId": "d8d88056-0200-41a8-f331-76590404e83c"
      },
      "source": [
        "import numpy as np\n",
        "class_values = np.unique(data[0][1]) # or else len(set(y_train))\n",
        "class_count = len(np.array(class_values))\n",
        "class_count, class_values"
      ],
      "execution_count": 10,
      "outputs": [
        {
          "output_type": "execute_result",
          "data": {
            "text/plain": [
              "(10, array([0, 1, 2, 3, 4, 5, 6, 7, 8, 9], dtype=uint8))"
            ]
          },
          "metadata": {},
          "execution_count": 10
        }
      ]
    },
    {
      "cell_type": "code",
      "metadata": {
        "tags": [],
        "cell_id": "00011-cb16d373-f242-42ce-af8b-ab232fa83538",
        "deepnote_cell_type": "code",
        "id": "HjADutBzJnfU"
      },
      "source": [
        "from tensorflow.keras import Sequential\n",
        "from tensorflow.keras.layers import Dense, Flatten, Conv2D"
      ],
      "execution_count": 12,
      "outputs": []
    },
    {
      "cell_type": "code",
      "metadata": {
        "id": "mCdBBTcZW_1q"
      },
      "source": [
        "model = Sequential()\n",
        "model.add(Conv2D(32, activation='relu', kernel_size=[3,3], input_shape=[image_height, image_width, color_count]))\n",
        "model.add(Flatten())\n",
        "model.add(Dense(units=300, activation='relu'))\n",
        "model.add(Dense(units=class_count, activation='softmax')) # as many neurones as classes\n",
        "# softmax normalizes the model's outputs so that it looks like a proba distribution with Sum(output_i) = 1"
      ],
      "execution_count": null,
      "outputs": []
    },
    {
      "cell_type": "markdown",
      "metadata": {
        "tags": [],
        "cell_id": "00006-9e995349-8162-46c3-aa4f-0dd7137b2578",
        "deepnote_cell_type": "markdown",
        "id": "ft4zz1y3JnfW"
      },
      "source": [
        "Compiler le modèle avec la bonne loss et l'optimizer sgd"
      ]
    },
    {
      "cell_type": "code",
      "metadata": {
        "tags": [],
        "cell_id": "00013-c9507bdd-afdf-4f49-966c-1c7a689d7fb6",
        "deepnote_cell_type": "code",
        "id": "miQPKc-GJnfX"
      },
      "source": [
        "model.compile(optimizer='sgd', loss='sparse_categorical_crossentropy', metrics=['accuracy']) \n",
        "# categorical_crossentropy : used when class values are already one-hot-encoded\n",
        "# sparse_categorical_crossentropy : used when class values are not already one-hot-encoded"
      ],
      "execution_count": 132,
      "outputs": []
    },
    {
      "cell_type": "markdown",
      "metadata": {
        "tags": [],
        "cell_id": "00012-83da7379-d913-49ee-ba8f-75d88ca2a857",
        "deepnote_cell_type": "markdown",
        "id": "Fg_jQeTwJnfY"
      },
      "source": [
        "Entrainer le modèle sur les données de train. Vous pourrez utiliser l'argument validation_data pour mesurer également la performance sur les données de test. Spécifier l'argument metrics pour afficher l'accuracy également"
      ]
    },
    {
      "cell_type": "code",
      "metadata": {
        "tags": [],
        "cell_id": "00015-f88735bf-5e08-4ae2-8978-fbe9248528c9",
        "deepnote_cell_type": "code",
        "colab": {
          "base_uri": "https://localhost:8080/"
        },
        "id": "jeo_M3saJnfZ",
        "outputId": "4af74337-d23b-4f2a-e150-e8ac60d91225"
      },
      "source": [
        "model_history = model.fit(X_train, y_train, epochs=10, validation_data=(X_test, y_test))\n",
        "model_history"
      ],
      "execution_count": 134,
      "outputs": [
        {
          "output_type": "stream",
          "name": "stdout",
          "text": [
            "Epoch 1/10\n",
            "1563/1563 [==============================] - 143s 91ms/step - loss: 1.7897 - accuracy: 0.3635 - val_loss: 1.5994 - val_accuracy: 0.4247\n",
            "Epoch 2/10\n",
            "1563/1563 [==============================] - 139s 89ms/step - loss: 1.4998 - accuracy: 0.4734 - val_loss: 1.3823 - val_accuracy: 0.5078\n",
            "Epoch 3/10\n",
            "1563/1563 [==============================] - 138s 88ms/step - loss: 1.3315 - accuracy: 0.5321 - val_loss: 1.2949 - val_accuracy: 0.5358\n",
            "Epoch 4/10\n",
            "1563/1563 [==============================] - 139s 89ms/step - loss: 1.2165 - accuracy: 0.5738 - val_loss: 1.2203 - val_accuracy: 0.5663\n",
            "Epoch 5/10\n",
            "1563/1563 [==============================] - 140s 89ms/step - loss: 1.1253 - accuracy: 0.6086 - val_loss: 1.2230 - val_accuracy: 0.5638\n",
            "Epoch 6/10\n",
            "1563/1563 [==============================] - 139s 89ms/step - loss: 1.0479 - accuracy: 0.6359 - val_loss: 1.1355 - val_accuracy: 0.6021\n",
            "Epoch 7/10\n",
            "1563/1563 [==============================] - 138s 88ms/step - loss: 0.9765 - accuracy: 0.6613 - val_loss: 1.1468 - val_accuracy: 0.5996\n",
            "Epoch 8/10\n",
            "1563/1563 [==============================] - 139s 89ms/step - loss: 0.9021 - accuracy: 0.6892 - val_loss: 1.1817 - val_accuracy: 0.5906\n",
            "Epoch 9/10\n",
            "1563/1563 [==============================] - 138s 88ms/step - loss: 0.8314 - accuracy: 0.7152 - val_loss: 1.1296 - val_accuracy: 0.6099\n",
            "Epoch 10/10\n",
            "1563/1563 [==============================] - 139s 89ms/step - loss: 0.7572 - accuracy: 0.7422 - val_loss: 1.1813 - val_accuracy: 0.5907\n"
          ]
        },
        {
          "output_type": "execute_result",
          "data": {
            "text/plain": [
              "<keras.callbacks.History at 0x7f630f916410>"
            ]
          },
          "metadata": {},
          "execution_count": 134
        }
      ]
    },
    {
      "cell_type": "markdown",
      "metadata": {
        "tags": [],
        "cell_id": "00013-4e7e941b-2c24-4fa5-b6bb-63767bd093a5",
        "deepnote_cell_type": "markdown",
        "id": "B6R3IUk4Jnfa"
      },
      "source": [
        "Faire un second modèle avec au moins une couche convolutionnelle supplémentaire et une couche dense supplémentaire (sans trop d'excès). Réentraîner le modèle. Les performances sont elles meilleures ? "
      ]
    },
    {
      "cell_type": "code",
      "metadata": {
        "id": "WlUj9EAZW2Ah"
      },
      "source": [
        "bigger_model = Sequential()\n",
        "bigger_model.add(Conv2D(32, activation='relu', kernel_size=[3,3], input_shape=[image_height, image_width, color_count]))\n",
        "bigger_model.add(Conv2D(32, activation='relu', kernel_size=[3,3]))\n",
        "bigger_model.add(Flatten())\n",
        "bigger_model.add(Dense(units=300, activation='relu'))\n",
        "bigger_model.add(Dense(units=300, activation='relu'))\n",
        "bigger_model.add(Dense(units=class_count, activation='softmax')) # as many neurones as classes\n",
        "# softmax normalizes the model's outputs so that it looks like a proba distribution with Sum(output_i) = 1"
      ],
      "execution_count": 13,
      "outputs": []
    },
    {
      "cell_type": "code",
      "metadata": {
        "id": "7HEae_QXY1JI"
      },
      "source": [
        "bigger_model.compile(optimizer='sgd', loss='sparse_categorical_crossentropy', metrics=['accuracy']) \n",
        "# categorical_crossentropy : used when class values are already one-hot-encoded\n",
        "# sparse_categorical_crossentropy : used when class values are not already one-hot-encoded"
      ],
      "execution_count": 14,
      "outputs": []
    },
    {
      "cell_type": "code",
      "metadata": {
        "colab": {
          "base_uri": "https://localhost:8080/"
        },
        "id": "U2t2iXXRYjyO",
        "outputId": "2b7a1ded-ee5a-405e-ca09-a9a53067bee6"
      },
      "source": [
        "bigger_model_history = bigger_model.fit(X_train, y_train, epochs=10, validation_data=(X_test, y_test))\n",
        "bigger_model_history"
      ],
      "execution_count": 15,
      "outputs": [
        {
          "output_type": "stream",
          "name": "stdout",
          "text": [
            "Epoch 1/10\n",
            "1563/1563 [==============================] - 25s 10ms/step - loss: 1.8061 - accuracy: 0.3506 - val_loss: 1.6884 - val_accuracy: 0.3896\n",
            "Epoch 2/10\n",
            "1563/1563 [==============================] - 15s 10ms/step - loss: 1.4859 - accuracy: 0.4710 - val_loss: 1.4483 - val_accuracy: 0.4805\n",
            "Epoch 3/10\n",
            "1563/1563 [==============================] - 15s 10ms/step - loss: 1.3267 - accuracy: 0.5303 - val_loss: 1.3323 - val_accuracy: 0.5266\n",
            "Epoch 4/10\n",
            "1563/1563 [==============================] - 15s 10ms/step - loss: 1.2045 - accuracy: 0.5735 - val_loss: 1.2362 - val_accuracy: 0.5581\n",
            "Epoch 5/10\n",
            "1563/1563 [==============================] - 15s 10ms/step - loss: 1.0869 - accuracy: 0.6150 - val_loss: 1.1335 - val_accuracy: 0.5955\n",
            "Epoch 6/10\n",
            "1563/1563 [==============================] - 15s 10ms/step - loss: 0.9751 - accuracy: 0.6549 - val_loss: 1.1446 - val_accuracy: 0.5946\n",
            "Epoch 7/10\n",
            "1563/1563 [==============================] - 15s 10ms/step - loss: 0.8619 - accuracy: 0.6972 - val_loss: 1.0855 - val_accuracy: 0.6170\n",
            "Epoch 8/10\n",
            "1563/1563 [==============================] - 15s 10ms/step - loss: 0.7478 - accuracy: 0.7392 - val_loss: 1.1430 - val_accuracy: 0.6140\n",
            "Epoch 9/10\n",
            "1563/1563 [==============================] - 15s 10ms/step - loss: 0.6320 - accuracy: 0.7806 - val_loss: 1.1076 - val_accuracy: 0.6327\n",
            "Epoch 10/10\n",
            "1563/1563 [==============================] - 15s 10ms/step - loss: 0.5109 - accuracy: 0.8245 - val_loss: 1.2625 - val_accuracy: 0.6140\n"
          ]
        },
        {
          "output_type": "execute_result",
          "data": {
            "text/plain": [
              "<keras.callbacks.History at 0x7fd4a02f3c10>"
            ]
          },
          "metadata": {},
          "execution_count": 15
        }
      ]
    },
    {
      "cell_type": "markdown",
      "metadata": {
        "id": "7y_K-C0rbjKm"
      },
      "source": [
        "L'accuracy semble s'être améliorée et la loss finale aussi (mais pas tellement en validation où les 2 sont pires)"
      ]
    },
    {
      "cell_type": "markdown",
      "metadata": {
        "tags": [],
        "cell_id": "00017-30d47c2e-bd32-498b-acc5-af5d820db117",
        "deepnote_cell_type": "markdown",
        "id": "L5xwNYZkJnfc"
      },
      "source": [
        "## Le pooling \n",
        "\n",
        "\n",
        "Reprendre le modèle précédent et afficher le nombre de paramètre qu'il possède avec model.summary()"
      ]
    },
    {
      "cell_type": "code",
      "metadata": {
        "tags": [],
        "cell_id": "00018-071584ef-3cfb-4c71-b531-b7307910cd75",
        "deepnote_cell_type": "code",
        "colab": {
          "base_uri": "https://localhost:8080/"
        },
        "id": "dd1ckjrsJnfd",
        "outputId": "2ac7b424-2d39-4007-ed90-550fe37f0513"
      },
      "source": [
        "bigger_model.summary()"
      ],
      "execution_count": 16,
      "outputs": [
        {
          "output_type": "stream",
          "name": "stdout",
          "text": [
            "Model: \"sequential\"\n",
            "_________________________________________________________________\n",
            " Layer (type)                Output Shape              Param #   \n",
            "=================================================================\n",
            " conv2d (Conv2D)             (None, 30, 30, 32)        896       \n",
            "                                                                 \n",
            " conv2d_1 (Conv2D)           (None, 28, 28, 32)        9248      \n",
            "                                                                 \n",
            " flatten (Flatten)           (None, 25088)             0         \n",
            "                                                                 \n",
            " dense (Dense)               (None, 300)               7526700   \n",
            "                                                                 \n",
            " dense_1 (Dense)             (None, 300)               90300     \n",
            "                                                                 \n",
            " dense_2 (Dense)             (None, 10)                3010      \n",
            "                                                                 \n",
            "=================================================================\n",
            "Total params: 7,630,154\n",
            "Trainable params: 7,630,154\n",
            "Non-trainable params: 0\n",
            "_________________________________________________________________\n"
          ]
        }
      ]
    },
    {
      "cell_type": "markdown",
      "metadata": {
        "tags": [],
        "cell_id": "00018-6f626119-2c68-4b9d-a891-c36227587732",
        "deepnote_cell_type": "markdown",
        "id": "HhaGfPgEJnfe"
      },
      "source": [
        "Faire un nouveau modèle qui reprend le modèle précédent en ajoutant une couche de pooling entre les deux couches convolutionnelles. Prendre pool size = (2, 2) \n",
        "\n",
        "Afficher à nouveau le nombre de paramètres du modèles. \n",
        "\n"
      ]
    },
    {
      "cell_type": "code",
      "metadata": {
        "id": "Tj0HV1n4ZKNK"
      },
      "source": [
        "from tensorflow.keras.layers import MaxPooling2D"
      ],
      "execution_count": 17,
      "outputs": []
    },
    {
      "cell_type": "code",
      "metadata": {
        "tags": [],
        "cell_id": "00020-da378b6d-66a9-47e0-b797-f52925a5d3a3",
        "deepnote_cell_type": "code",
        "id": "VotZ7MyfJnff"
      },
      "source": [
        "pooled_bigger_model_2_2 = Sequential()\n",
        "pooled_bigger_model_2_2.add(Conv2D(32, activation='relu', kernel_size=[3,3], input_shape=[image_height, image_width, color_count]))\n",
        "pooled_bigger_model_2_2.add(MaxPooling2D(pool_size=(2,2)))\n",
        "pooled_bigger_model_2_2.add(Conv2D(32, activation='relu', kernel_size=[3,3]))\n",
        "pooled_bigger_model_2_2.add(Flatten())\n",
        "pooled_bigger_model_2_2.add(Dense(units=300, activation='relu'))\n",
        "pooled_bigger_model_2_2.add(Dense(units=300, activation='relu'))\n",
        "pooled_bigger_model_2_2.add(Dense(units=class_count, activation='softmax')) # as many neurones as classes\n",
        "# softmax normalizes the model's outputs so that it looks like a proba distribution with Sum(output_i) = 1"
      ],
      "execution_count": 18,
      "outputs": []
    },
    {
      "cell_type": "code",
      "metadata": {
        "id": "j_531TRoZ4rR"
      },
      "source": [
        "pooled_bigger_model_2_2.compile(optimizer='sgd', loss='sparse_categorical_crossentropy', metrics=['accuracy']) \n",
        "# categorical_crossentropy : used when class values are already one-hot-encoded\n",
        "# sparse_categorical_crossentropy : used when class values are not already one-hot-encoded"
      ],
      "execution_count": 19,
      "outputs": []
    },
    {
      "cell_type": "code",
      "metadata": {
        "colab": {
          "base_uri": "https://localhost:8080/"
        },
        "id": "fj0DG-RWZqhX",
        "outputId": "62de796e-0d77-4a62-cc1d-2aed44bff1b8"
      },
      "source": [
        "pooled_bigger_model_2_2.summary()"
      ],
      "execution_count": 20,
      "outputs": [
        {
          "output_type": "stream",
          "name": "stdout",
          "text": [
            "Model: \"sequential_1\"\n",
            "_________________________________________________________________\n",
            " Layer (type)                Output Shape              Param #   \n",
            "=================================================================\n",
            " conv2d_2 (Conv2D)           (None, 30, 30, 32)        896       \n",
            "                                                                 \n",
            " max_pooling2d (MaxPooling2D  (None, 15, 15, 32)       0         \n",
            " )                                                               \n",
            "                                                                 \n",
            " conv2d_3 (Conv2D)           (None, 13, 13, 32)        9248      \n",
            "                                                                 \n",
            " flatten_1 (Flatten)         (None, 5408)              0         \n",
            "                                                                 \n",
            " dense_3 (Dense)             (None, 300)               1622700   \n",
            "                                                                 \n",
            " dense_4 (Dense)             (None, 300)               90300     \n",
            "                                                                 \n",
            " dense_5 (Dense)             (None, 10)                3010      \n",
            "                                                                 \n",
            "=================================================================\n",
            "Total params: 1,726,154\n",
            "Trainable params: 1,726,154\n",
            "Non-trainable params: 0\n",
            "_________________________________________________________________\n"
          ]
        }
      ]
    },
    {
      "cell_type": "markdown",
      "metadata": {
        "tags": [],
        "cell_id": "00021-244820b9-9c04-4340-ae1c-7601db849653",
        "deepnote_cell_type": "markdown",
        "id": "Zk1nsU63Jnfg"
      },
      "source": [
        "Faire pareil et prend pool size = (4, 4) et afficher à nouveau le nombre de paramètres du modèle. "
      ]
    },
    {
      "cell_type": "code",
      "metadata": {
        "tags": [],
        "cell_id": "00022-6456822d-449d-4b90-9905-69090fafe357",
        "deepnote_cell_type": "code",
        "id": "dUooDyW2Jnfh"
      },
      "source": [
        "pooled_bigger_model_4_4 = Sequential()\n",
        "pooled_bigger_model_4_4.add(Conv2D(32, activation='relu', kernel_size=[3,3], input_shape=[image_height, image_width, color_count]))\n",
        "pooled_bigger_model_4_4.add(MaxPooling2D(pool_size=(4,4)))\n",
        "pooled_bigger_model_4_4.add(Conv2D(32, activation='relu', kernel_size=[3,3]))\n",
        "pooled_bigger_model_4_4.add(Flatten())\n",
        "pooled_bigger_model_4_4.add(Dense(units=300, activation='relu'))\n",
        "pooled_bigger_model_4_4.add(Dense(units=300, activation='relu'))\n",
        "pooled_bigger_model_4_4.add(Dense(units=class_count, activation='softmax')) # as many neurones as classes\n",
        "# softmax normalizes the model's outputs so that it looks like a proba distribution with Sum(output_i) = 1"
      ],
      "execution_count": 21,
      "outputs": []
    },
    {
      "cell_type": "code",
      "metadata": {
        "id": "xTCX4weAZ8J5"
      },
      "source": [
        "pooled_bigger_model_4_4.compile(optimizer='sgd', loss='sparse_categorical_crossentropy', metrics=['accuracy']) \n",
        "# categorical_crossentropy : used when class values are already one-hot-encoded\n",
        "# sparse_categorical_crossentropy : used when class values are not already one-hot-encoded"
      ],
      "execution_count": 23,
      "outputs": []
    },
    {
      "cell_type": "code",
      "metadata": {
        "colab": {
          "base_uri": "https://localhost:8080/"
        },
        "id": "i72YIEaDZ3if",
        "outputId": "1e885c58-db53-4ddb-e85b-6986836416b1"
      },
      "source": [
        "pooled_bigger_model_4_4.summary()"
      ],
      "execution_count": 25,
      "outputs": [
        {
          "output_type": "stream",
          "name": "stdout",
          "text": [
            "Model: \"sequential_2\"\n",
            "_________________________________________________________________\n",
            " Layer (type)                Output Shape              Param #   \n",
            "=================================================================\n",
            " conv2d_4 (Conv2D)           (None, 30, 30, 32)        896       \n",
            "                                                                 \n",
            " max_pooling2d_1 (MaxPooling  (None, 7, 7, 32)         0         \n",
            " 2D)                                                             \n",
            "                                                                 \n",
            " conv2d_5 (Conv2D)           (None, 5, 5, 32)          9248      \n",
            "                                                                 \n",
            " flatten_2 (Flatten)         (None, 800)               0         \n",
            "                                                                 \n",
            " dense_6 (Dense)             (None, 300)               240300    \n",
            "                                                                 \n",
            " dense_7 (Dense)             (None, 300)               90300     \n",
            "                                                                 \n",
            " dense_8 (Dense)             (None, 10)                3010      \n",
            "                                                                 \n",
            "=================================================================\n",
            "Total params: 343,754\n",
            "Trainable params: 343,754\n",
            "Non-trainable params: 0\n",
            "_________________________________________________________________\n"
          ]
        }
      ]
    },
    {
      "cell_type": "markdown",
      "metadata": {
        "tags": [],
        "cell_id": "00019-3d46a197-045f-4bcf-9950-1c61f8b4a08c",
        "deepnote_cell_type": "markdown",
        "id": "HXpwd1axJnfi"
      },
      "source": [
        "Pouvez vous expliquer pourquoi le nombre de paramètre a varié de la manière dont il l'a fait ? "
      ]
    },
    {
      "cell_type": "markdown",
      "metadata": {
        "id": "v81fzNvPnoil"
      },
      "source": [
        "- Sortie des couches convolutionnelles : (nb_neurones couche dense * (nb_params_sortie_couche_conv + 1) => + 1 pour le biais\n",
        "- Same pour sortie d'une couche dense à une autre : (nb_neurones couche dense * (nb_params_sortie_couche_dense_preced + 1)\n",
        "- Cela diminue le nb de params dans la dernière couche dense"
      ]
    },
    {
      "cell_type": "markdown",
      "metadata": {
        "tags": [],
        "cell_id": "00022-bae75ad1-428a-4281-bf08-ade43e6d8d9f",
        "deepnote_cell_type": "markdown",
        "id": "YRlTql0VJnfj"
      },
      "source": [
        "Réentraîner le modèle de la même manière que le modèle précédent. Les performances ont-elles évoluées ? Comment ? "
      ]
    },
    {
      "cell_type": "code",
      "metadata": {
        "tags": [],
        "cell_id": "00024-6da2ce0c-a54f-4fe6-96d0-da5298a73761",
        "deepnote_cell_type": "code",
        "colab": {
          "base_uri": "https://localhost:8080/"
        },
        "id": "q612PkhpJnfk",
        "outputId": "090c48c6-c2cf-49b3-d549-0b1a3531941b"
      },
      "source": [
        "pooled_bigger_model_4_4_history = pooled_bigger_model_4_4.fit(X_train, y_train, epochs=10, validation_data=(X_test, y_test))\n",
        "pooled_bigger_model_4_4_history"
      ],
      "execution_count": 26,
      "outputs": [
        {
          "output_type": "stream",
          "name": "stdout",
          "text": [
            "Epoch 1/10\n",
            "1563/1563 [==============================] - 10s 6ms/step - loss: 2.0194 - accuracy: 0.2612 - val_loss: 1.7884 - val_accuracy: 0.3572\n",
            "Epoch 2/10\n",
            "1563/1563 [==============================] - 9s 6ms/step - loss: 1.6131 - accuracy: 0.4200 - val_loss: 1.6558 - val_accuracy: 0.4104\n",
            "Epoch 3/10\n",
            "1563/1563 [==============================] - 9s 6ms/step - loss: 1.4313 - accuracy: 0.4882 - val_loss: 1.3722 - val_accuracy: 0.5072\n",
            "Epoch 4/10\n",
            "1563/1563 [==============================] - 9s 6ms/step - loss: 1.3329 - accuracy: 0.5263 - val_loss: 1.2947 - val_accuracy: 0.5351\n",
            "Epoch 5/10\n",
            "1563/1563 [==============================] - 9s 6ms/step - loss: 1.2646 - accuracy: 0.5494 - val_loss: 1.2601 - val_accuracy: 0.5579\n",
            "Epoch 6/10\n",
            "1563/1563 [==============================] - 10s 6ms/step - loss: 1.2102 - accuracy: 0.5705 - val_loss: 1.2512 - val_accuracy: 0.5551\n",
            "Epoch 7/10\n",
            "1563/1563 [==============================] - 10s 6ms/step - loss: 1.1551 - accuracy: 0.5908 - val_loss: 1.1458 - val_accuracy: 0.5997\n",
            "Epoch 8/10\n",
            "1563/1563 [==============================] - 9s 6ms/step - loss: 1.1065 - accuracy: 0.6074 - val_loss: 1.1570 - val_accuracy: 0.5949\n",
            "Epoch 9/10\n",
            "1563/1563 [==============================] - 9s 6ms/step - loss: 1.0562 - accuracy: 0.6274 - val_loss: 1.1487 - val_accuracy: 0.5946\n",
            "Epoch 10/10\n",
            "1563/1563 [==============================] - 9s 6ms/step - loss: 1.0122 - accuracy: 0.6439 - val_loss: 1.1512 - val_accuracy: 0.5946\n"
          ]
        },
        {
          "output_type": "execute_result",
          "data": {
            "text/plain": [
              "<keras.callbacks.History at 0x7fd4a0067a90>"
            ]
          },
          "metadata": {},
          "execution_count": 26
        }
      ]
    },
    {
      "cell_type": "markdown",
      "metadata": {
        "tags": [],
        "created_in_deepnote_cell": true,
        "deepnote_cell_type": "markdown",
        "id": "U2Hct4qeJnfk"
      },
      "source": [
        "<a style='text-decoration:none;line-height:16px;display:flex;color:#5B5B62;padding:10px;justify-content:end;' href='https://deepnote.com?utm_source=created-in-deepnote-cell&projectId=6b859965-b858-4b8d-a841-009599aef86e' target=\"_blank\">\n",
        "<img alt='Created in deepnote.com' style='display:inline;max-height:16px;margin:0px;margin-right:7.5px;' src='data:image/svg+xml;base64,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' > </img>\n",
        "Created in <span style='font-weight:600;margin-left:4px;'>Deepnote</span></a>"
      ]
    }
  ]
}