{
  "cells": [
    {
      "cell_type": "markdown",
      "source": [
        "## Transfert learning \n",
        "\n",
        "Transfert learning is a method consisting in re-using a trained model. The trained model will be retrained on the target dataset. \n",
        "\n",
        "For instance, let's say you want to train  classification tasks about cars. You could take a neural network already trained on generic image classification and train it again on your dataset.\n",
        "\n",
        "The basic idea is that it will be quicker to train a \"competent\" network in a similar task than from starting from an empty \"brain\". \n",
        "\n",
        "In this notebook we will use this method and try to see the various methods\n",
        "\n",
        "**In order to do this notebook, you may want to do the Keras Api Fonctionnelle on Nowledgeable**"
      ],
      "metadata": {
        "tags": [],
        "cell_id": "00000-df2d96f5-f813-47b6-a1a1-43cf74d4030a",
        "deepnote_cell_type": "markdown",
        "id": "5VRSmdYMQ8y8"
      }
    },
    {
      "cell_type": "markdown",
      "source": [
        "Keras has various pretrained models available at https://keras.io/api/applications/\n",
        "\n",
        "We will use theses pretrained model as it they were a simple layer. \n",
        "\n",
        "\n",
        "We will start with mobilenet\n",
        "\n"
      ],
      "metadata": {
        "tags": [],
        "cell_id": "00001-1804e518-06a9-4890-8036-1740b978cba1",
        "deepnote_cell_type": "markdown",
        "id": "eGRwgrJQQ8zA"
      }
    },
    {
      "cell_type": "markdown",
      "source": [
        "From the keras.applications module, load the the mobile net network into a variable named base_model\n",
        "\n",
        "Use include_top = False so that the Dense layers are removed"
      ],
      "metadata": {
        "tags": [],
        "cell_id": "00002-d7a8e41b-cd53-48e7-8931-0d918698f3cd",
        "deepnote_cell_type": "markdown",
        "id": "cPD1J-NzQ8zA"
      }
    },
    {
      "cell_type": "code",
      "source": [
        "from tensorflow.keras import Model, Input\n",
        "from tensorflow.keras.applications import MobileNetV2"
      ],
      "metadata": {
        "id": "oJkoMJOuWlku"
      },
      "execution_count": 1,
      "outputs": []
    },
    {
      "cell_type": "code",
      "source": [
        "from tensorflow.keras.datasets.cifar10 import load_data\n",
        "\n",
        "data = load_data()"
      ],
      "metadata": {
        "id": "JirNQ6Kwg9p4",
        "colab": {
          "base_uri": "https://localhost:8080/"
        },
        "outputId": "c2bc16f2-1d5a-4099-e61e-7c8ae8be9b32"
      },
      "execution_count": 2,
      "outputs": [
        {
          "output_type": "stream",
          "name": "stdout",
          "text": [
            "Downloading data from https://www.cs.toronto.edu/~kriz/cifar-10-python.tar.gz\n",
            "170500096/170498071 [==============================] - 11s 0us/step\n",
            "170508288/170498071 [==============================] - 11s 0us/step\n"
          ]
        }
      ]
    },
    {
      "cell_type": "code",
      "source": [
        "train, test = data"
      ],
      "metadata": {
        "id": "MW4bJI34hEdY"
      },
      "execution_count": 3,
      "outputs": []
    },
    {
      "cell_type": "code",
      "source": [
        "import matplotlib.pyplot as plt\n",
        "\n",
        "X_train, y_train = train\n",
        "X_test, y_test = test"
      ],
      "metadata": {
        "id": "86hWn6mFhHoI"
      },
      "execution_count": 4,
      "outputs": []
    },
    {
      "cell_type": "code",
      "source": [
        "X_train.shape"
      ],
      "metadata": {
        "colab": {
          "base_uri": "https://localhost:8080/"
        },
        "id": "sQ4aLRAPhKBY",
        "outputId": "f3416445-5f03-4ce2-e94d-90d198a2a964"
      },
      "execution_count": 5,
      "outputs": [
        {
          "output_type": "execute_result",
          "data": {
            "text/plain": [
              "(50000, 32, 32, 3)"
            ]
          },
          "metadata": {},
          "execution_count": 5
        }
      ]
    },
    {
      "cell_type": "code",
      "source": [
        "X_test.shape"
      ],
      "metadata": {
        "colab": {
          "base_uri": "https://localhost:8080/"
        },
        "id": "IeCiFgUHhKtA",
        "outputId": "a9c2f08e-1d86-4fa9-8d61-7aa6e0746a6b"
      },
      "execution_count": 6,
      "outputs": [
        {
          "output_type": "execute_result",
          "data": {
            "text/plain": [
              "(10000, 32, 32, 3)"
            ]
          },
          "metadata": {},
          "execution_count": 6
        }
      ]
    },
    {
      "cell_type": "code",
      "source": [
        "plt.imshow(X_train[0])"
      ],
      "metadata": {
        "colab": {
          "base_uri": "https://localhost:8080/",
          "height": 283
        },
        "id": "pGkazCrihMvR",
        "outputId": "c2381cb0-e236-4bc5-a1c3-e7c2df09021c"
      },
      "execution_count": 7,
      "outputs": [
        {
          "output_type": "execute_result",
          "data": {
            "text/plain": [
              "<matplotlib.image.AxesImage at 0x7fd8499dc850>"
            ]
          },
          "metadata": {},
          "execution_count": 7
        },
        {
          "output_type": "display_data",
          "data": {
            "image/png": "[encoded data removed]",
            "text/plain": [
              "<Figure size 432x288 with 1 Axes>"
            ]
          },
          "metadata": {
            "needs_background": "light"
          }
        }
      ]
    },
    {
      "cell_type": "code",
      "source": [
        "plt.imshow(X_train[1])"
      ],
      "metadata": {
        "colab": {
          "base_uri": "https://localhost:8080/",
          "height": 283
        },
        "id": "6TpnmaCAhPI2",
        "outputId": "536f8028-1f24-4e91-e4ac-0f0d02dfcba8"
      },
      "execution_count": 8,
      "outputs": [
        {
          "output_type": "execute_result",
          "data": {
            "text/plain": [
              "<matplotlib.image.AxesImage at 0x7fd8494c78d0>"
            ]
          },
          "metadata": {},
          "execution_count": 8
        },
        {
          "output_type": "display_data",
          "data": {
            "image/png": "[encoded data removed]",
            "text/plain": [
              "<Figure size 432x288 with 1 Axes>"
            ]
          },
          "metadata": {
            "needs_background": "light"
          }
        }
      ]
    },
    {
      "cell_type": "code",
      "source": [
        "images_count, image_height, image_width, color_count = X_train.shape"
      ],
      "metadata": {
        "id": "dzWis-_phR0P"
      },
      "execution_count": 9,
      "outputs": []
    },
    {
      "cell_type": "code",
      "source": [
        "X_train = X_train / 255\n",
        "X_test = X_test / 255"
      ],
      "metadata": {
        "id": "8vf0995BhUP_"
      },
      "execution_count": 10,
      "outputs": []
    },
    {
      "cell_type": "code",
      "source": [
        "import numpy as np\n",
        "class_values = np.unique(data[0][1]) # or else len(set(y_train))\n",
        "class_count = len(np.array(class_values))\n",
        "class_count, class_values"
      ],
      "metadata": {
        "colab": {
          "base_uri": "https://localhost:8080/"
        },
        "id": "sFKEjHVxhVru",
        "outputId": "4d177a71-4bba-4fd9-da0a-738f107316d3"
      },
      "execution_count": 11,
      "outputs": [
        {
          "output_type": "execute_result",
          "data": {
            "text/plain": [
              "(10, array([0, 1, 2, 3, 4, 5, 6, 7, 8, 9], dtype=uint8))"
            ]
          },
          "metadata": {},
          "execution_count": 11
        }
      ]
    },
    {
      "cell_type": "code",
      "metadata": {
        "tags": [],
        "cell_id": "00003-bcd55924-014e-4eb0-8417-ec17faa3469d",
        "deepnote_cell_type": "code",
        "colab": {
          "base_uri": "https://localhost:8080/"
        },
        "id": "WT8JCvH6Q8zB",
        "outputId": "87f74699-9fd2-41af-912b-acd904dd6cc9"
      },
      "source": [
        "base_model = MobileNetV2(include_top=False, input_shape=[image_height, image_width, color_count])"
      ],
      "execution_count": null,
      "outputs": [
        {
          "output_type": "stream",
          "name": "stdout",
          "text": [
            "WARNING:tensorflow:`input_shape` is undefined or non-square, or `rows` is not in [96, 128, 160, 192, 224]. Weights for input shape (224, 224) will be loaded as the default.\n"
          ]
        }
      ]
    },
    {
      "cell_type": "markdown",
      "source": [
        "display the number of layer of this base model"
      ],
      "metadata": {
        "tags": [],
        "cell_id": "00003-40d9c36d-8f1c-4275-81ed-523bf4d70eb0",
        "deepnote_cell_type": "markdown",
        "id": "whwnHs3qQ8zB"
      }
    },
    {
      "cell_type": "code",
      "metadata": {
        "tags": [],
        "cell_id": "00005-4eedb599-05ff-41ba-9a9c-2a28bf653dd2",
        "deepnote_cell_type": "code",
        "colab": {
          "base_uri": "https://localhost:8080/"
        },
        "id": "3pET7LUOQ8zC",
        "outputId": "9b416ac0-952b-41a4-9a60-2a3989eff808"
      },
      "source": [
        "len(base_model.layers)"
      ],
      "execution_count": null,
      "outputs": [
        {
          "output_type": "execute_result",
          "data": {
            "text/plain": [
              "154"
            ]
          },
          "metadata": {},
          "execution_count": 142
        }
      ]
    },
    {
      "cell_type": "markdown",
      "source": [
        "Display all the layer of the model. You should see only convolutional layers"
      ],
      "metadata": {
        "tags": [],
        "cell_id": "00004-c7a3b3e7-a670-4de7-8837-0913f398c9a1",
        "deepnote_cell_type": "markdown",
        "id": "TjJFmwh3Q8zC"
      }
    },
    {
      "cell_type": "code",
      "metadata": {
        "tags": [],
        "cell_id": "00007-2b0bb7d0-953a-41cc-b725-68121346ccd6",
        "deepnote_cell_type": "code",
        "colab": {
          "base_uri": "https://localhost:8080/"
        },
        "id": "UUV42nbQQ8zD",
        "outputId": "97199e9a-f152-46fb-93b9-fb9230202533"
      },
      "source": [
        "base_model.layers"
      ],
      "execution_count": null,
      "outputs": [
        {
          "output_type": "execute_result",
          "data": {
            "text/plain": [
              "[<keras.engine.input_layer.InputLayer at 0x7f33100fe810>,\n",
              " <keras.layers.convolutional.Conv2D at 0x7f337f05ea10>,\n",
              " <keras.layers.normalization.batch_normalization.BatchNormalization at 0x7f337f04ed50>,\n",
              " <keras.layers.advanced_activations.ReLU at 0x7f331098e4d0>,\n",
              " <keras.layers.convolutional.DepthwiseConv2D at 0x7f3380684ad0>,\n",
              " <keras.layers.normalization.batch_normalization.BatchNormalization at 0x7f330fefcf10>,\n",
              " <keras.layers.advanced_activations.ReLU at 0x7f337ef771d0>,\n",
              " <keras.layers.convolutional.Conv2D at 0x7f337ef78850>,\n",
              " <keras.layers.normalization.batch_normalization.BatchNormalization at 0x7f337ef6d690>,\n",
              " <keras.layers.convolutional.Conv2D at 0x7f337ef82690>,\n",
              " <keras.layers.normalization.batch_normalization.BatchNormalization at 0x7f337f065750>,\n",
              " <keras.layers.advanced_activations.ReLU at 0x7f337ef82410>,\n",
              " <keras.layers.convolutional.ZeroPadding2D at 0x7f337ef8aed0>,\n",
              " <keras.layers.convolutional.DepthwiseConv2D at 0x7f337ef90050>,\n",
              " <keras.layers.normalization.batch_normalization.BatchNormalization at 0x7f330fef5610>,\n",
              " <keras.layers.advanced_activations.ReLU at 0x7f337ef9da10>,\n",
              " <keras.layers.convolutional.Conv2D at 0x7f337ef8d310>,\n",
              " <keras.layers.normalization.batch_normalization.BatchNormalization at 0x7f337ef8a7d0>,\n",
              " <keras.layers.convolutional.Conv2D at 0x7f337ef37210>,\n",
              " <keras.layers.normalization.batch_normalization.BatchNormalization at 0x7f337ef31510>,\n",
              " <keras.layers.advanced_activations.ReLU at 0x7f337ef42190>,\n",
              " <keras.layers.convolutional.DepthwiseConv2D at 0x7f337ef42090>,\n",
              " <keras.layers.normalization.batch_normalization.BatchNormalization at 0x7f337ef78890>,\n",
              " <keras.layers.advanced_activations.ReLU at 0x7f337ef50c50>,\n",
              " <keras.layers.convolutional.Conv2D at 0x7f337ef50310>,\n",
              " <keras.layers.normalization.batch_normalization.BatchNormalization at 0x7f337ef31750>,\n",
              " <keras.layers.merge.Add at 0x7f337ef50290>,\n",
              " <keras.layers.convolutional.Conv2D at 0x7f337ef42e10>,\n",
              " <keras.layers.normalization.batch_normalization.BatchNormalization at 0x7f337ef4edd0>,\n",
              " <keras.layers.advanced_activations.ReLU at 0x7f330fe91ed0>,\n",
              " <keras.layers.convolutional.ZeroPadding2D at 0x7f337eef6f10>,\n",
              " <keras.layers.convolutional.DepthwiseConv2D at 0x7f337ef8aa10>,\n",
              " <keras.layers.normalization.batch_normalization.BatchNormalization at 0x7f337ef31090>,\n",
              " <keras.layers.advanced_activations.ReLU at 0x7f337ef56750>,\n",
              " <keras.layers.convolutional.Conv2D at 0x7f337eef4b90>,\n",
              " <keras.layers.normalization.batch_normalization.BatchNormalization at 0x7f337eeebe10>,\n",
              " <keras.layers.convolutional.Conv2D at 0x7f337ef0cc50>,\n",
              " <keras.layers.normalization.batch_normalization.BatchNormalization at 0x7f337ef10e50>,\n",
              " <keras.layers.advanced_activations.ReLU at 0x7f337ef180d0>,\n",
              " <keras.layers.convolutional.DepthwiseConv2D at 0x7f337ef18f90>,\n",
              " <keras.layers.normalization.batch_normalization.BatchNormalization at 0x7f337ef502d0>,\n",
              " <keras.layers.advanced_activations.ReLU at 0x7f337eeb5050>,\n",
              " <keras.layers.convolutional.Conv2D at 0x7f337eeb5710>,\n",
              " <keras.layers.normalization.batch_normalization.BatchNormalization at 0x7f337ef223d0>,\n",
              " <keras.layers.merge.Add at 0x7f337eeb5650>,\n",
              " <keras.layers.convolutional.Conv2D at 0x7f337ef5af50>,\n",
              " <keras.layers.normalization.batch_normalization.BatchNormalization at 0x7f337ef5a310>,\n",
              " <keras.layers.advanced_activations.ReLU at 0x7f337eeaaed0>,\n",
              " <keras.layers.convolutional.DepthwiseConv2D at 0x7f337ef18690>,\n",
              " <keras.layers.normalization.batch_normalization.BatchNormalization at 0x7f337ef0ac90>,\n",
              " <keras.layers.advanced_activations.ReLU at 0x7f337ef31e10>,\n",
              " <keras.layers.convolutional.Conv2D at 0x7f337efa6a10>,\n",
              " <keras.layers.normalization.batch_normalization.BatchNormalization at 0x7f337efa6250>,\n",
              " <keras.layers.merge.Add at 0x7f337f040850>,\n",
              " <keras.layers.convolutional.Conv2D at 0x7f337ef78810>,\n",
              " <keras.layers.normalization.batch_normalization.BatchNormalization at 0x7f337f09e890>,\n",
              " <keras.layers.advanced_activations.ReLU at 0x7f337eec3110>,\n",
              " <keras.layers.convolutional.ZeroPadding2D at 0x7f337eec3990>,\n",
              " <keras.layers.convolutional.DepthwiseConv2D at 0x7f337ef588d0>,\n",
              " <keras.layers.normalization.batch_normalization.BatchNormalization at 0x7f337ef18550>,\n",
              " <keras.layers.advanced_activations.ReLU at 0x7f337ef587d0>,\n",
              " <keras.layers.convolutional.Conv2D at 0x7f337eedaf50>,\n",
              " <keras.layers.normalization.batch_normalization.BatchNormalization at 0x7f337eedac50>,\n",
              " <keras.layers.convolutional.Conv2D at 0x7f337eee51d0>,\n",
              " <keras.layers.normalization.batch_normalization.BatchNormalization at 0x7f337eee0f90>,\n",
              " <keras.layers.advanced_activations.ReLU at 0x7f337eee0a10>,\n",
              " <keras.layers.convolutional.DepthwiseConv2D at 0x7f337eee0750>,\n",
              " <keras.layers.normalization.batch_normalization.BatchNormalization at 0x7f337ef56810>,\n",
              " <keras.layers.advanced_activations.ReLU at 0x7f337ee7aa10>,\n",
              " <keras.layers.convolutional.Conv2D at 0x7f337eed1390>,\n",
              " <keras.layers.normalization.batch_normalization.BatchNormalization at 0x7f337ee6a150>,\n",
              " <keras.layers.merge.Add at 0x7f337ee986d0>,\n",
              " <keras.layers.convolutional.Conv2D at 0x7f337ee984d0>,\n",
              " <keras.layers.normalization.batch_normalization.BatchNormalization at 0x7f337ee88a90>,\n",
              " <keras.layers.advanced_activations.ReLU at 0x7f337ee2a2d0>,\n",
              " <keras.layers.convolutional.DepthwiseConv2D at 0x7f337ee2a390>,\n",
              " <keras.layers.normalization.batch_normalization.BatchNormalization at 0x7f337ee6a690>,\n",
              " <keras.layers.advanced_activations.ReLU at 0x7f337ee3c550>,\n",
              " <keras.layers.convolutional.Conv2D at 0x7f337ee3c650>,\n",
              " <keras.layers.normalization.batch_normalization.BatchNormalization at 0x7f337eea4b90>,\n",
              " <keras.layers.merge.Add at 0x7f337ee52510>,\n",
              " <keras.layers.convolutional.Conv2D at 0x7f337ee52cd0>,\n",
              " <keras.layers.normalization.batch_normalization.BatchNormalization at 0x7f337ee4dc90>,\n",
              " <keras.layers.advanced_activations.ReLU at 0x7f337ee63090>,\n",
              " <keras.layers.convolutional.DepthwiseConv2D at 0x7f337ee63e90>,\n",
              " <keras.layers.normalization.batch_normalization.BatchNormalization at 0x7f337ee5ccd0>,\n",
              " <keras.layers.advanced_activations.ReLU at 0x7f337edee7d0>,\n",
              " <keras.layers.convolutional.Conv2D at 0x7f337ee883d0>,\n",
              " <keras.layers.normalization.batch_normalization.BatchNormalization at 0x7f337ee3cd10>,\n",
              " <keras.layers.merge.Add at 0x7f330ba71290>,\n",
              " <keras.layers.convolutional.Conv2D at 0x7f337edee450>,\n",
              " <keras.layers.normalization.batch_normalization.BatchNormalization at 0x7f337ee88190>,\n",
              " <keras.layers.advanced_activations.ReLU at 0x7f337ee6ab90>,\n",
              " <keras.layers.convolutional.DepthwiseConv2D at 0x7f337ee71cd0>,\n",
              " <keras.layers.normalization.batch_normalization.BatchNormalization at 0x7f337ee52b50>,\n",
              " <keras.layers.advanced_activations.ReLU at 0x7f337ef785d0>,\n",
              " <keras.layers.convolutional.Conv2D at 0x7f337ef58ad0>,\n",
              " <keras.layers.normalization.batch_normalization.BatchNormalization at 0x7f337ef77c50>,\n",
              " <keras.layers.convolutional.Conv2D at 0x7f337eeeb350>,\n",
              " <keras.layers.normalization.batch_normalization.BatchNormalization at 0x7f337edf6590>,\n",
              " <keras.layers.advanced_activations.ReLU at 0x7f337ef3d790>,\n",
              " <keras.layers.convolutional.DepthwiseConv2D at 0x7f337ee71dd0>,\n",
              " <keras.layers.normalization.batch_normalization.BatchNormalization at 0x7f337ee5c210>,\n",
              " <keras.layers.advanced_activations.ReLU at 0x7f337ee007d0>,\n",
              " <keras.layers.convolutional.Conv2D at 0x7f337ee08c10>,\n",
              " <keras.layers.normalization.batch_normalization.BatchNormalization at 0x7f337ee7ae50>,\n",
              " <keras.layers.merge.Add at 0x7f337edfd750>,\n",
              " <keras.layers.convolutional.Conv2D at 0x7f337ee10310>,\n",
              " <keras.layers.normalization.batch_normalization.BatchNormalization at 0x7f337ee08e50>,\n",
              " <keras.layers.advanced_activations.ReLU at 0x7f337eda9190>,\n",
              " <keras.layers.convolutional.DepthwiseConv2D at 0x7f337eda9ed0>,\n",
              " <keras.layers.normalization.batch_normalization.BatchNormalization at 0x7f337edf6350>,\n",
              " <keras.layers.advanced_activations.ReLU at 0x7f337edba190>,\n",
              " <keras.layers.convolutional.Conv2D at 0x7f337edaefd0>,\n",
              " <keras.layers.normalization.batch_normalization.BatchNormalization at 0x7f337edbded0>,\n",
              " <keras.layers.merge.Add at 0x7f337edc3690>,\n",
              " <keras.layers.convolutional.Conv2D at 0x7f337edc3390>,\n",
              " <keras.layers.normalization.batch_normalization.BatchNormalization at 0x7f337edcea90>,\n",
              " <keras.layers.advanced_activations.ReLU at 0x7f337edfd350>,\n",
              " <keras.layers.convolutional.ZeroPadding2D at 0x7f337eddd350>,\n",
              " <keras.layers.convolutional.DepthwiseConv2D at 0x7f337f07fa90>,\n",
              " <keras.layers.normalization.batch_normalization.BatchNormalization at 0x7f337ee0b390>,\n",
              " <keras.layers.advanced_activations.ReLU at 0x7f337edbdc90>,\n",
              " <keras.layers.convolutional.Conv2D at 0x7f337ede2550>,\n",
              " <keras.layers.normalization.batch_normalization.BatchNormalization at 0x7f337ed717d0>,\n",
              " <keras.layers.convolutional.Conv2D at 0x7f337ed89f10>,\n",
              " <keras.layers.normalization.batch_normalization.BatchNormalization at 0x7f337ed89290>,\n",
              " <keras.layers.advanced_activations.ReLU at 0x7f337ed6d750>,\n",
              " <keras.layers.convolutional.DepthwiseConv2D at 0x7f337ed83910>,\n",
              " <keras.layers.normalization.batch_normalization.BatchNormalization at 0x7f337edceb90>,\n",
              " <keras.layers.advanced_activations.ReLU at 0x7f337eddd510>,\n",
              " <keras.layers.convolutional.Conv2D at 0x7f337edc8390>,\n",
              " <keras.layers.normalization.batch_normalization.BatchNormalization at 0x7f337edc8fd0>,\n",
              " <keras.layers.merge.Add at 0x7f337ee15f10>,\n",
              " <keras.layers.convolutional.Conv2D at 0x7f337eda9dd0>,\n",
              " <keras.layers.normalization.batch_normalization.BatchNormalization at 0x7f337edaed90>,\n",
              " <keras.layers.advanced_activations.ReLU at 0x7f337edc8910>,\n",
              " <keras.layers.convolutional.DepthwiseConv2D at 0x7f337ef77f10>,\n",
              " <keras.layers.normalization.batch_normalization.BatchNormalization at 0x7f337ed89050>,\n",
              " <keras.layers.advanced_activations.ReLU at 0x7f337ee88390>,\n",
              " <keras.layers.convolutional.Conv2D at 0x7f337ed98810>,\n",
              " <keras.layers.normalization.batch_normalization.BatchNormalization at 0x7f337ed984d0>,\n",
              " <keras.layers.merge.Add at 0x7f337ef6d2d0>,\n",
              " <keras.layers.convolutional.Conv2D at 0x7f337ef6df50>,\n",
              " <keras.layers.normalization.batch_normalization.BatchNormalization at 0x7f337eda8490>,\n",
              " <keras.layers.advanced_activations.ReLU at 0x7f337eda8510>,\n",
              " <keras.layers.convolutional.DepthwiseConv2D at 0x7f337ed9ea50>,\n",
              " <keras.layers.normalization.batch_normalization.BatchNormalization at 0x7f337ee10c10>,\n",
              " <keras.layers.advanced_activations.ReLU at 0x7f337ed39e10>,\n",
              " <keras.layers.convolutional.Conv2D at 0x7f337ed3e210>,\n",
              " <keras.layers.normalization.batch_normalization.BatchNormalization at 0x7f337eda8bd0>,\n",
              " <keras.layers.convolutional.Conv2D at 0x7f337ed89dd0>,\n",
              " <keras.layers.normalization.batch_normalization.BatchNormalization at 0x7f337ed553d0>,\n",
              " <keras.layers.advanced_activations.ReLU at 0x7f337ed9eb90>]"
            ]
          },
          "metadata": {},
          "execution_count": 143
        }
      ]
    },
    {
      "cell_type": "markdown",
      "source": [
        "Now we want to add our own dense layers on top of the model. \n",
        "We have two ways of doing that : either using the sequential api or the functional one \n",
        "\n",
        "\n",
        "Create a model using the base model and two Dense layer (400 and 200 neurones ) + the final layer to do classification "
      ],
      "metadata": {
        "tags": [],
        "cell_id": "00005-1e26215b-007d-42b5-be3a-5cef26f15c79",
        "deepnote_cell_type": "markdown",
        "id": "5VlgjbKBQ8zD"
      }
    },
    {
      "cell_type": "code",
      "source": [
        "from tensorflow.keras import Sequential\n",
        "from tensorflow.keras.layers import Dense, Flatten"
      ],
      "metadata": {
        "id": "2EWb_cwjbRDD"
      },
      "execution_count": null,
      "outputs": []
    },
    {
      "cell_type": "code",
      "metadata": {
        "tags": [],
        "cell_id": "00009-ec7a7a5f-c668-4a28-84b7-7c930b1da26d",
        "deepnote_cell_type": "code",
        "id": "bFqZHQsqQ8zE"
      },
      "source": [
        "model = Sequential()\n",
        "model.add(base_model)\n",
        "model.add(Flatten())\n",
        "model.add(Dense(units=400, activation='relu'))\n",
        "model.add(Dense(units=200, activation='relu'))\n",
        "model.add(Dense(class_count, activation='softmax')) # as many neurones as classes\n",
        "# softmax normalizes the model's outputs so that it looks like a proba distribution with Sum(output_i) = 1"
      ],
      "execution_count": null,
      "outputs": []
    },
    {
      "cell_type": "markdown",
      "source": [
        "You can change the configuration of a layer and decide if it is trainable or not. \n",
        "\n",
        "If a layer is not trainable it means that the parameters will not be updated during the model training. \n",
        "\n",
        "\n",
        "Loop over the layers of the model and display if the layers are trainable or not"
      ],
      "metadata": {
        "tags": [],
        "cell_id": "00006-c1ca385c-718b-4b98-82ec-57b2c4546146",
        "deepnote_cell_type": "markdown",
        "id": "iEUvKO_nQ8zE"
      }
    },
    {
      "cell_type": "code",
      "metadata": {
        "tags": [],
        "cell_id": "00011-53ac287f-19b2-4669-8826-3a90dd6fe97d",
        "deepnote_cell_type": "code",
        "colab": {
          "base_uri": "https://localhost:8080/"
        },
        "id": "UL7YDsqwQ8zF",
        "outputId": "25185158-c734-41d4-c657-3a081ac24a4f"
      },
      "source": [
        "for layer in model.layers:\n",
        "  print(layer.trainable)"
      ],
      "execution_count": null,
      "outputs": [
        {
          "output_type": "stream",
          "name": "stdout",
          "text": [
            "True\n",
            "True\n",
            "True\n",
            "True\n",
            "True\n"
          ]
        }
      ]
    },
    {
      "cell_type": "markdown",
      "source": [
        "We will conduct the following tests : \n",
        "\n",
        "- train a transfer learning model where the base model layers are not trainable\n",
        "- train a transfer learning model where the last layer of the base model layer is trainable\n",
        "- increase progressively the number of layers which are trainable \n",
        "\n",
        "\n",
        "\n",
        "\n"
      ],
      "metadata": {
        "tags": [],
        "cell_id": "00007-54788759-766e-489a-9183-9b02f73a707b",
        "deepnote_cell_type": "markdown",
        "id": "QFGadDG4Q8zF"
      }
    },
    {
      "cell_type": "code",
      "source": [
        "import pandas as pd"
      ],
      "metadata": {
        "id": "_tMWnKh2njNE"
      },
      "execution_count": null,
      "outputs": []
    },
    {
      "cell_type": "markdown",
      "source": [
        "## Not training base model layers \n",
        "\n",
        "With a for loop over the base model layers, make sure to make the layers untrainable. \n",
        "\n",
        "\n"
      ],
      "metadata": {
        "tags": [],
        "cell_id": "00008-165a7e41-8059-4051-a057-75d301ab5579",
        "deepnote_cell_type": "markdown",
        "id": "t31n4pHZQ8zG"
      }
    },
    {
      "cell_type": "code",
      "source": [
        "def make_untrainable(layer):\n",
        "  layer.trainable = False\n",
        "\n",
        "pd.Series(base_model.layers).apply(lambda layer: make_untrainable(layer))\n",
        "\n",
        "trainabilities = pd.Series(base_model.layers).map(lambda layer: layer.trainable)\n",
        "len(trainabilities.loc[trainabilities == True])"
      ],
      "metadata": {
        "colab": {
          "base_uri": "https://localhost:8080/"
        },
        "id": "pcSEqBWzgwQL",
        "outputId": "1f18df51-04ac-41e6-a270-63ec3106c2f6"
      },
      "execution_count": null,
      "outputs": [
        {
          "output_type": "execute_result",
          "data": {
            "text/plain": [
              "0"
            ]
          },
          "metadata": {},
          "execution_count": 148
        }
      ]
    },
    {
      "cell_type": "markdown",
      "source": [
        "Train the model on the cifar 10 data"
      ],
      "metadata": {
        "tags": [],
        "cell_id": "00014-53875dcf-e0f5-4d55-8fd0-890a77e68db6",
        "deepnote_cell_type": "markdown",
        "id": "VBm4IAFXQ8zG"
      }
    },
    {
      "cell_type": "code",
      "source": [
        "model.compile(optimizer='sgd', loss='sparse_categorical_crossentropy', metrics=['accuracy']) \n",
        "# categorical_crossentropy : used when class values are already one-hot-encoded\n",
        "# sparse_categorical_crossentropy : used when class values are not already one-hot-encoded"
      ],
      "metadata": {
        "id": "j1fP-LBViKHd"
      },
      "execution_count": null,
      "outputs": []
    },
    {
      "cell_type": "code",
      "source": [
        "model_history = model.fit(X_train, y_train, epochs=10, validation_data=(X_test, y_test))\n",
        "model_history"
      ],
      "metadata": {
        "colab": {
          "base_uri": "https://localhost:8080/"
        },
        "id": "T_GLdlFliMz0",
        "outputId": "8e975373-2f5d-438d-8ba1-92c0f369d7bd"
      },
      "execution_count": null,
      "outputs": [
        {
          "output_type": "stream",
          "name": "stdout",
          "text": [
            "Epoch 1/10\n",
            "1563/1563 [==============================] - 35s 20ms/step - loss: 2.1644 - accuracy: 0.2220 - val_loss: 2.0551 - val_accuracy: 0.2553\n",
            "Epoch 2/10\n",
            "1563/1563 [==============================] - 30s 19ms/step - loss: 2.0036 - accuracy: 0.2725 - val_loss: 1.9755 - val_accuracy: 0.2861\n",
            "Epoch 3/10\n",
            "1563/1563 [==============================] - 29s 19ms/step - loss: 1.9437 - accuracy: 0.2970 - val_loss: 1.9346 - val_accuracy: 0.2972\n",
            "Epoch 4/10\n",
            "1563/1563 [==============================] - 29s 19ms/step - loss: 1.9118 - accuracy: 0.3049 - val_loss: 1.9120 - val_accuracy: 0.3021\n",
            "Epoch 5/10\n",
            "1563/1563 [==============================] - 28s 18ms/step - loss: 1.8901 - accuracy: 0.3137 - val_loss: 1.8906 - val_accuracy: 0.3137\n",
            "Epoch 6/10\n",
            "1563/1563 [==============================] - 27s 18ms/step - loss: 1.8733 - accuracy: 0.3188 - val_loss: 1.8803 - val_accuracy: 0.3147\n",
            "Epoch 7/10\n",
            "1563/1563 [==============================] - 30s 19ms/step - loss: 1.8588 - accuracy: 0.3241 - val_loss: 1.8723 - val_accuracy: 0.3130\n",
            "Epoch 8/10\n",
            "1563/1563 [==============================] - 28s 18ms/step - loss: 1.8474 - accuracy: 0.3280 - val_loss: 1.8606 - val_accuracy: 0.3235\n",
            "Epoch 9/10\n",
            "1563/1563 [==============================] - 30s 19ms/step - loss: 1.8370 - accuracy: 0.3332 - val_loss: 1.8542 - val_accuracy: 0.3254\n",
            "Epoch 10/10\n",
            "1563/1563 [==============================] - 28s 18ms/step - loss: 1.8281 - accuracy: 0.3341 - val_loss: 1.8466 - val_accuracy: 0.3279\n"
          ]
        },
        {
          "output_type": "execute_result",
          "data": {
            "text/plain": [
              "<keras.callbacks.History at 0x7f337eb497d0>"
            ]
          },
          "metadata": {},
          "execution_count": 150
        }
      ]
    },
    {
      "cell_type": "markdown",
      "source": [
        "## Last based layer trainning \n",
        "\n",
        "Do the same thing as before and but make the last layer of the base model trainable"
      ],
      "metadata": {
        "tags": [],
        "cell_id": "00015-0cfb8b6c-9c64-402e-b0a6-8d6e412a15f6",
        "deepnote_cell_type": "markdown",
        "id": "gSLPa_foQ8zG"
      }
    },
    {
      "cell_type": "code",
      "source": [
        "base_model = MobileNetV2(include_top=False, input_shape=[image_height, image_width, color_count])"
      ],
      "metadata": {
        "colab": {
          "base_uri": "https://localhost:8080/"
        },
        "id": "SKyHsHTPqW85",
        "outputId": "2aa28e1c-8360-4c8f-e36b-c5e8d6db933f"
      },
      "execution_count": null,
      "outputs": [
        {
          "output_type": "stream",
          "name": "stdout",
          "text": [
            "WARNING:tensorflow:`input_shape` is undefined or non-square, or `rows` is not in [96, 128, 160, 192, 224]. Weights for input shape (224, 224) will be loaded as the default.\n"
          ]
        }
      ]
    },
    {
      "cell_type": "code",
      "source": [
        "def make_untrainable(layer):\n",
        "  layer.trainable = False\n",
        "\n",
        "pd.Series(base_model.layers).apply(lambda layer: make_untrainable(layer))"
      ],
      "metadata": {
        "colab": {
          "base_uri": "https://localhost:8080/"
        },
        "id": "sohWFLOGqb2o",
        "outputId": "c0a1bd0f-2285-4503-a42e-105847cca1e9"
      },
      "execution_count": null,
      "outputs": [
        {
          "output_type": "execute_result",
          "data": {
            "text/plain": [
              "0      None\n",
              "1      None\n",
              "2      None\n",
              "3      None\n",
              "4      None\n",
              "       ... \n",
              "149    None\n",
              "150    None\n",
              "151    None\n",
              "152    None\n",
              "153    None\n",
              "Length: 154, dtype: object"
            ]
          },
          "metadata": {},
          "execution_count": 153
        }
      ]
    },
    {
      "cell_type": "code",
      "source": [
        "base_model.layers[-1].trainable = True\n",
        "trainabilities = pd.Series(base_model.layers).map(lambda layer: layer.trainable)\n",
        "trainable_layer_index = trainabilities.loc[trainabilities == True].index\n",
        "last_layer_index = len(base_model.layers) - 1\n",
        "print(last_layer_index, trainable_layer_index)"
      ],
      "metadata": {
        "colab": {
          "base_uri": "https://localhost:8080/"
        },
        "id": "oKOGjWVPjpSf",
        "outputId": "15fde36f-50be-4880-996f-83f270f8510f"
      },
      "execution_count": null,
      "outputs": [
        {
          "output_type": "stream",
          "name": "stdout",
          "text": [
            "153 Int64Index([153], dtype='int64')\n"
          ]
        }
      ]
    },
    {
      "cell_type": "code",
      "source": [
        "model = Sequential()\n",
        "model.add(base_model)\n",
        "model.add(Flatten())\n",
        "model.add(Dense(units=400, activation='relu'))\n",
        "model.add(Dense(units=200, activation='relu'))\n",
        "model.add(Dense(class_count, activation='softmax')) # as many neurones as classes\n",
        "# softmax normalizes the model's outputs so that it looks like a proba distribution with Sum(output_i) = 1"
      ],
      "metadata": {
        "id": "-3HGKnNdqnpI"
      },
      "execution_count": null,
      "outputs": []
    },
    {
      "cell_type": "code",
      "source": [
        "model.compile(optimizer='sgd', loss='sparse_categorical_crossentropy', metrics=['accuracy']) \n",
        "# categorical_crossentropy : used when class values are already one-hot-encoded\n",
        "# sparse_categorical_crossentropy : used when class values are not already one-hot-encoded"
      ],
      "metadata": {
        "id": "LfOUbh7fqjtg"
      },
      "execution_count": null,
      "outputs": []
    },
    {
      "cell_type": "code",
      "source": [
        "model_history = model.fit(X_train, y_train, epochs=10, validation_data=(X_test, y_test))\n",
        "model_history"
      ],
      "metadata": {
        "colab": {
          "base_uri": "https://localhost:8080/"
        },
        "id": "hte_LzLPqtL_",
        "outputId": "020e0e17-a50f-4e33-dc3f-ed470e24b401"
      },
      "execution_count": null,
      "outputs": [
        {
          "output_type": "stream",
          "name": "stdout",
          "text": [
            "Epoch 1/10\n",
            "1563/1563 [==============================] - 37s 21ms/step - loss: 2.1604 - accuracy: 0.2233 - val_loss: 2.0551 - val_accuracy: 0.2469\n",
            "Epoch 2/10\n",
            "1563/1563 [==============================] - 31s 20ms/step - loss: 2.0043 - accuracy: 0.2758 - val_loss: 1.9737 - val_accuracy: 0.2834\n",
            "Epoch 3/10\n",
            "1563/1563 [==============================] - 28s 18ms/step - loss: 1.9470 - accuracy: 0.2940 - val_loss: 1.9371 - val_accuracy: 0.2975\n",
            "Epoch 4/10\n",
            "1563/1563 [==============================] - 28s 18ms/step - loss: 1.9149 - accuracy: 0.3038 - val_loss: 1.9165 - val_accuracy: 0.3042\n",
            "Epoch 5/10\n",
            "1563/1563 [==============================] - 30s 19ms/step - loss: 1.8926 - accuracy: 0.3133 - val_loss: 1.8942 - val_accuracy: 0.3120\n",
            "Epoch 6/10\n",
            "1563/1563 [==============================] - 28s 18ms/step - loss: 1.8756 - accuracy: 0.3179 - val_loss: 1.8824 - val_accuracy: 0.3181\n",
            "Epoch 7/10\n",
            "1563/1563 [==============================] - 29s 19ms/step - loss: 1.8618 - accuracy: 0.3238 - val_loss: 1.8718 - val_accuracy: 0.3195\n",
            "Epoch 8/10\n",
            "1563/1563 [==============================] - 28s 18ms/step - loss: 1.8503 - accuracy: 0.3274 - val_loss: 1.8653 - val_accuracy: 0.3233\n",
            "Epoch 9/10\n",
            "1563/1563 [==============================] - 30s 19ms/step - loss: 1.8398 - accuracy: 0.3316 - val_loss: 1.8525 - val_accuracy: 0.3336\n",
            "Epoch 10/10\n",
            "1563/1563 [==============================] - 29s 18ms/step - loss: 1.8305 - accuracy: 0.3333 - val_loss: 1.8466 - val_accuracy: 0.3315\n"
          ]
        },
        {
          "output_type": "execute_result",
          "data": {
            "text/plain": [
              "<keras.callbacks.History at 0x7f330ce1a3d0>"
            ]
          },
          "metadata": {},
          "execution_count": 159
        }
      ]
    },
    {
      "cell_type": "markdown",
      "source": [
        "## More layers trainable\n",
        "\n",
        "Make all the layer trainable and train the model "
      ],
      "metadata": {
        "tags": [],
        "cell_id": "00016-941f9867-ea7b-41fa-863e-653f31cfbde3",
        "deepnote_cell_type": "markdown",
        "id": "q_58K28vQ8zH"
      }
    },
    {
      "cell_type": "code",
      "source": [
        "base_model = MobileNetV2(include_top=False, input_shape=[image_height, image_width, color_count])"
      ],
      "metadata": {
        "colab": {
          "base_uri": "https://localhost:8080/"
        },
        "outputId": "6d19951b-ae71-41c3-90f6-6ef0d126a91c",
        "id": "UR-d9N1nu89T"
      },
      "execution_count": null,
      "outputs": [
        {
          "output_type": "stream",
          "name": "stdout",
          "text": [
            "WARNING:tensorflow:`input_shape` is undefined or non-square, or `rows` is not in [96, 128, 160, 192, 224]. Weights for input shape (224, 224) will be loaded as the default.\n"
          ]
        }
      ]
    },
    {
      "cell_type": "code",
      "source": [
        "def make_trainable(layer):\n",
        "  layer.trainable = True\n",
        "\n",
        "pd.Series(base_model.layers).apply(lambda layer: make_trainable(layer))"
      ],
      "metadata": {
        "colab": {
          "base_uri": "https://localhost:8080/"
        },
        "outputId": "f2e52ff0-7c50-4634-967e-22e7a7df869e",
        "id": "t2m_ipE2u89T"
      },
      "execution_count": null,
      "outputs": [
        {
          "output_type": "execute_result",
          "data": {
            "text/plain": [
              "0      None\n",
              "1      None\n",
              "2      None\n",
              "3      None\n",
              "4      None\n",
              "       ... \n",
              "149    None\n",
              "150    None\n",
              "151    None\n",
              "152    None\n",
              "153    None\n",
              "Length: 154, dtype: object"
            ]
          },
          "metadata": {},
          "execution_count": 161
        }
      ]
    },
    {
      "cell_type": "code",
      "source": [
        "trainabilities = pd.Series(base_model.layers).map(lambda layer: layer.trainable)\n",
        "trainable_layer_count = len(trainabilities.loc[trainabilities == True])\n",
        "layer_count = len(base_model.layers)\n",
        "print(layer_count, trainable_layer_count)"
      ],
      "metadata": {
        "colab": {
          "base_uri": "https://localhost:8080/"
        },
        "outputId": "6fe7d522-3d7b-48ce-d9ed-43b538df0c63",
        "id": "-djl2oU2u89U"
      },
      "execution_count": null,
      "outputs": [
        {
          "output_type": "stream",
          "name": "stdout",
          "text": [
            "154 154\n"
          ]
        }
      ]
    },
    {
      "cell_type": "code",
      "source": [
        "model = Sequential()\n",
        "model.add(base_model)\n",
        "model.add(Flatten())\n",
        "model.add(Dense(units=400, activation='relu'))\n",
        "model.add(Dense(units=200, activation='relu'))\n",
        "model.add(Dense(class_count, activation='softmax')) # as many neurones as classes\n",
        "# softmax normalizes the model's outputs so that it looks like a proba distribution with Sum(output_i) = 1"
      ],
      "metadata": {
        "id": "dHlPPTPtu89U"
      },
      "execution_count": null,
      "outputs": []
    },
    {
      "cell_type": "code",
      "source": [
        "model.compile(optimizer='sgd', loss='sparse_categorical_crossentropy', metrics=['accuracy']) \n",
        "# categorical_crossentropy : used when class values are already one-hot-encoded\n",
        "# sparse_categorical_crossentropy : used when class values are not already one-hot-encoded"
      ],
      "metadata": {
        "id": "RUIk1Zq1u89U"
      },
      "execution_count": null,
      "outputs": []
    },
    {
      "cell_type": "code",
      "source": [
        "model_history = model.fit(X_train, y_train, epochs=10, validation_data=(X_test, y_test))\n",
        "model_history"
      ],
      "metadata": {
        "colab": {
          "base_uri": "https://localhost:8080/"
        },
        "outputId": "2c232bf6-7d10-4caa-a894-6cb32092e40c",
        "id": "NlxAfAuqu89U"
      },
      "execution_count": null,
      "outputs": [
        {
          "output_type": "stream",
          "name": "stdout",
          "text": [
            "Epoch 1/10\n",
            "1563/1563 [==============================] - 63s 37ms/step - loss: 1.5505 - accuracy: 0.4516 - val_loss: 2.2366 - val_accuracy: 0.2245\n",
            "Epoch 2/10\n",
            "1563/1563 [==============================] - 58s 37ms/step - loss: 1.0528 - accuracy: 0.6365 - val_loss: 1.6349 - val_accuracy: 0.6110\n",
            "Epoch 3/10\n",
            "1563/1563 [==============================] - 58s 37ms/step - loss: 0.8952 - accuracy: 0.6914 - val_loss: 1.0689 - val_accuracy: 0.6680\n",
            "Epoch 4/10\n",
            "1563/1563 [==============================] - 58s 37ms/step - loss: 0.7926 - accuracy: 0.7252 - val_loss: 0.9454 - val_accuracy: 0.6890\n",
            "Epoch 5/10\n",
            "1563/1563 [==============================] - 56s 36ms/step - loss: 0.7173 - accuracy: 0.7525 - val_loss: 1.0058 - val_accuracy: 0.6581\n",
            "Epoch 6/10\n",
            "1563/1563 [==============================] - 57s 37ms/step - loss: 0.6593 - accuracy: 0.7707 - val_loss: 0.7945 - val_accuracy: 0.7332\n",
            "Epoch 7/10\n",
            "1563/1563 [==============================] - 62s 40ms/step - loss: 0.6092 - accuracy: 0.7887 - val_loss: 0.8218 - val_accuracy: 0.7312\n",
            "Epoch 8/10\n",
            "1563/1563 [==============================] - 63s 40ms/step - loss: 0.5730 - accuracy: 0.8010 - val_loss: 0.7581 - val_accuracy: 0.7379\n",
            "Epoch 9/10\n",
            "1563/1563 [==============================] - 61s 39ms/step - loss: 0.5346 - accuracy: 0.8164 - val_loss: 0.7151 - val_accuracy: 0.7507\n",
            "Epoch 10/10\n",
            "1563/1563 [==============================] - 62s 40ms/step - loss: 0.4976 - accuracy: 0.8269 - val_loss: 0.6652 - val_accuracy: 0.7743\n"
          ]
        },
        {
          "output_type": "execute_result",
          "data": {
            "text/plain": [
              "<keras.callbacks.History at 0x7f337ea03410>"
            ]
          },
          "metadata": {},
          "execution_count": 165
        }
      ]
    },
    {
      "cell_type": "markdown",
      "source": [
        "The model's performances seem way better"
      ],
      "metadata": {
        "id": "Ybq_8m-b4PGs"
      }
    },
    {
      "cell_type": "markdown",
      "source": [
        "## Last method : \n",
        "\n",
        "Train only the last layers and then finetune "
      ],
      "metadata": {
        "tags": [],
        "cell_id": "00017-cddb5400-fa9c-415f-a855-0d1fed60aafe",
        "deepnote_cell_type": "markdown",
        "id": "3a8BH_sbQ8zH"
      }
    },
    {
      "cell_type": "code",
      "metadata": {
        "tags": [],
        "cell_id": "00003-bcd55924-014e-4eb0-8417-ec17faa3469d",
        "deepnote_cell_type": "code",
        "colab": {
          "base_uri": "https://localhost:8080/"
        },
        "outputId": "507f8ced-1569-4abd-fbe2-b6552e5d80af",
        "id": "zewkcvlTnkKo"
      },
      "source": [
        "base_model = MobileNetV2(include_top=False, input_shape=[image_height, image_width, color_count])"
      ],
      "execution_count": 12,
      "outputs": [
        {
          "output_type": "stream",
          "name": "stdout",
          "text": [
            "WARNING:tensorflow:`input_shape` is undefined or non-square, or `rows` is not in [96, 128, 160, 192, 224]. Weights for input shape (224, 224) will be loaded as the default.\n",
            "Downloading data from https://storage.googleapis.com/tensorflow/keras-applications/mobilenet_v2/mobilenet_v2_weights_tf_dim_ordering_tf_kernels_1.0_224_no_top.h5\n",
            "9412608/9406464 [==============================] - 0s 0us/step\n",
            "9420800/9406464 [==============================] - 0s 0us/step\n"
          ]
        }
      ]
    },
    {
      "cell_type": "code",
      "source": [
        "from tensorflow.keras import Sequential\n",
        "from tensorflow.keras.layers import Dense, Flatten"
      ],
      "metadata": {
        "id": "h8iH4TbunkKp"
      },
      "execution_count": 13,
      "outputs": []
    },
    {
      "cell_type": "code",
      "metadata": {
        "tags": [],
        "cell_id": "00009-ec7a7a5f-c668-4a28-84b7-7c930b1da26d",
        "deepnote_cell_type": "code",
        "id": "IXnD0zT4nkKq"
      },
      "source": [
        "model = Sequential()\n",
        "model.add(base_model)\n",
        "model.add(Flatten())\n",
        "model.add(Dense(units=400, activation='relu'))\n",
        "model.add(Dense(units=200, activation='relu'))\n",
        "model.add(Dense(class_count, activation='softmax')) # as many neurones as classes\n",
        "# softmax normalizes the model's outputs so that it looks like a proba distribution with Sum(output_i) = 1"
      ],
      "execution_count": 14,
      "outputs": []
    },
    {
      "cell_type": "code",
      "source": [
        "import pandas as pd"
      ],
      "metadata": {
        "id": "WD05vL28nkKr"
      },
      "execution_count": 15,
      "outputs": []
    },
    {
      "cell_type": "code",
      "source": [
        "def make_untrainable(layer):\n",
        "  layer.trainable = False\n",
        "\n",
        "pd.Series(base_model.layers).apply(lambda layer: make_untrainable(layer))\n",
        "\n",
        "trainabilities = pd.Series(base_model.layers).map(lambda layer: layer.trainable)\n",
        "len(trainabilities.loc[trainabilities == True])"
      ],
      "metadata": {
        "colab": {
          "base_uri": "https://localhost:8080/"
        },
        "outputId": "1f59cd62-513b-4d03-9d01-4f5e97a10bbc",
        "id": "PfkGjJ2CnU2c"
      },
      "execution_count": 16,
      "outputs": [
        {
          "output_type": "execute_result",
          "data": {
            "text/plain": [
              "0"
            ]
          },
          "metadata": {},
          "execution_count": 16
        }
      ]
    },
    {
      "cell_type": "code",
      "source": [
        "model.compile(optimizer='sgd', loss='sparse_categorical_crossentropy', metrics=['accuracy']) \n",
        "# categorical_crossentropy : used when class values are already one-hot-encoded\n",
        "# sparse_categorical_crossentropy : used when class values are not already one-hot-encoded"
      ],
      "metadata": {
        "id": "Rh6grDeKnU2e"
      },
      "execution_count": 17,
      "outputs": []
    },
    {
      "cell_type": "code",
      "source": [
        "model_history = model.fit(X_train, y_train, epochs=10, validation_data=(X_test, y_test))\n",
        "model_history"
      ],
      "metadata": {
        "colab": {
          "base_uri": "https://localhost:8080/"
        },
        "outputId": "f8ac9785-afa1-4fd7-f46f-2465c9b9c9bd",
        "id": "sklMXRv3nU2f"
      },
      "execution_count": 18,
      "outputs": [
        {
          "output_type": "stream",
          "name": "stdout",
          "text": [
            "Epoch 1/10\n",
            "1563/1563 [==============================] - 39s 18ms/step - loss: 2.1640 - accuracy: 0.2229 - val_loss: 2.0517 - val_accuracy: 0.2561\n",
            "Epoch 2/10\n",
            "1563/1563 [==============================] - 27s 17ms/step - loss: 2.0020 - accuracy: 0.2728 - val_loss: 1.9721 - val_accuracy: 0.2810\n",
            "Epoch 3/10\n",
            "1563/1563 [==============================] - 26s 17ms/step - loss: 1.9453 - accuracy: 0.2945 - val_loss: 1.9340 - val_accuracy: 0.2957\n",
            "Epoch 4/10\n",
            "1563/1563 [==============================] - 26s 17ms/step - loss: 1.9141 - accuracy: 0.3051 - val_loss: 1.9115 - val_accuracy: 0.3048\n",
            "Epoch 5/10\n",
            "1563/1563 [==============================] - 26s 17ms/step - loss: 1.8924 - accuracy: 0.3113 - val_loss: 1.8940 - val_accuracy: 0.3098\n",
            "Epoch 6/10\n",
            "1563/1563 [==============================] - 28s 18ms/step - loss: 1.8755 - accuracy: 0.3176 - val_loss: 1.8827 - val_accuracy: 0.3159\n",
            "Epoch 7/10\n",
            "1563/1563 [==============================] - 27s 17ms/step - loss: 1.8620 - accuracy: 0.3226 - val_loss: 1.8689 - val_accuracy: 0.3217\n",
            "Epoch 8/10\n",
            "1563/1563 [==============================] - 28s 18ms/step - loss: 1.8505 - accuracy: 0.3276 - val_loss: 1.8602 - val_accuracy: 0.3262\n",
            "Epoch 9/10\n",
            "1563/1563 [==============================] - 28s 18ms/step - loss: 1.8405 - accuracy: 0.3304 - val_loss: 1.8557 - val_accuracy: 0.3238\n",
            "Epoch 10/10\n",
            "1563/1563 [==============================] - 26s 16ms/step - loss: 1.8318 - accuracy: 0.3324 - val_loss: 1.8479 - val_accuracy: 0.3287\n"
          ]
        },
        {
          "output_type": "execute_result",
          "data": {
            "text/plain": [
              "<keras.callbacks.History at 0x7fd7cf6a1b10>"
            ]
          },
          "metadata": {},
          "execution_count": 18
        }
      ]
    },
    {
      "cell_type": "code",
      "source": [
        "def make_trainable(layer):\n",
        "  layer.trainable = True\n",
        "\n",
        "pd.Series(base_model.layers).apply(lambda layer: make_trainable(layer))"
      ],
      "metadata": {
        "colab": {
          "base_uri": "https://localhost:8080/"
        },
        "id": "zZcF6oTQQgLf",
        "outputId": "bcf3568d-f139-42f6-f2b8-6b744b4aa4e8"
      },
      "execution_count": 19,
      "outputs": [
        {
          "output_type": "execute_result",
          "data": {
            "text/plain": [
              "0      None\n",
              "1      None\n",
              "2      None\n",
              "3      None\n",
              "4      None\n",
              "       ... \n",
              "149    None\n",
              "150    None\n",
              "151    None\n",
              "152    None\n",
              "153    None\n",
              "Length: 154, dtype: object"
            ]
          },
          "metadata": {},
          "execution_count": 19
        }
      ]
    },
    {
      "cell_type": "code",
      "source": [
        "trainabilities = pd.Series(base_model.layers).map(lambda layer: layer.trainable)\n",
        "trainable_layer_count = len(trainabilities.loc[trainabilities == True])\n",
        "layer_count = len(base_model.layers)\n",
        "print(layer_count, trainable_layer_count)"
      ],
      "metadata": {
        "colab": {
          "base_uri": "https://localhost:8080/"
        },
        "id": "FLGzIa3oQp1E",
        "outputId": "09de7a21-f271-44d5-97bd-c82c5f97e532"
      },
      "execution_count": 20,
      "outputs": [
        {
          "output_type": "stream",
          "name": "stdout",
          "text": [
            "154 154\n"
          ]
        }
      ]
    },
    {
      "cell_type": "code",
      "source": [
        "model.compile(optimizer='sgd', loss='sparse_categorical_crossentropy', metrics=['accuracy']) \n",
        "# categorical_crossentropy : used when class values are already one-hot-encoded\n",
        "# sparse_categorical_crossentropy : used when class values are not already one-hot-encoded"
      ],
      "metadata": {
        "id": "8_GDDu76QxU6"
      },
      "execution_count": 21,
      "outputs": []
    },
    {
      "cell_type": "code",
      "source": [
        "model_history = model.fit(X_train, y_train, epochs=10, validation_data=(X_test, y_test))\n",
        "model_history"
      ],
      "metadata": {
        "colab": {
          "base_uri": "https://localhost:8080/"
        },
        "id": "CigGvaWcQ4Od",
        "outputId": "049db471-016f-4f41-9b9a-2e4e331fe626"
      },
      "execution_count": 22,
      "outputs": [
        {
          "output_type": "stream",
          "name": "stdout",
          "text": [
            "Epoch 1/10\n",
            "1563/1563 [==============================] - 60s 35ms/step - loss: 1.6454 - accuracy: 0.4111 - val_loss: 2.4179 - val_accuracy: 0.1639\n",
            "Epoch 2/10\n",
            "1563/1563 [==============================] - 55s 35ms/step - loss: 1.1900 - accuracy: 0.5761 - val_loss: 1.7374 - val_accuracy: 0.4135\n",
            "Epoch 3/10\n",
            "1563/1563 [==============================] - 53s 34ms/step - loss: 1.0256 - accuracy: 0.6395 - val_loss: 1.4206 - val_accuracy: 0.5058\n",
            "Epoch 4/10\n",
            "1563/1563 [==============================] - 51s 33ms/step - loss: 0.9231 - accuracy: 0.6811 - val_loss: 1.4878 - val_accuracy: 0.4749\n",
            "Epoch 5/10\n",
            "1563/1563 [==============================] - 52s 33ms/step - loss: 0.8739 - accuracy: 0.6958 - val_loss: 0.9464 - val_accuracy: 0.6864\n",
            "Epoch 6/10\n",
            "1563/1563 [==============================] - 54s 34ms/step - loss: 0.7749 - accuracy: 0.7315 - val_loss: 0.9864 - val_accuracy: 0.6593\n",
            "Epoch 7/10\n",
            "1563/1563 [==============================] - 52s 33ms/step - loss: 0.7350 - accuracy: 0.7446 - val_loss: 0.7768 - val_accuracy: 0.7367\n",
            "Epoch 8/10\n",
            "1563/1563 [==============================] - 53s 34ms/step - loss: 0.7381 - accuracy: 0.7454 - val_loss: 0.8871 - val_accuracy: 0.6886\n",
            "Epoch 9/10\n",
            "1563/1563 [==============================] - 53s 34ms/step - loss: 0.6831 - accuracy: 0.7654 - val_loss: 0.7860 - val_accuracy: 0.7325\n",
            "Epoch 10/10\n",
            "1563/1563 [==============================] - 51s 33ms/step - loss: 0.6578 - accuracy: 0.7723 - val_loss: 0.8371 - val_accuracy: 0.7087\n"
          ]
        },
        {
          "output_type": "execute_result",
          "data": {
            "text/plain": [
              "<keras.callbacks.History at 0x7fd7cf590b90>"
            ]
          },
          "metadata": {},
          "execution_count": 22
        }
      ]
    },
    {
      "cell_type": "markdown",
      "source": [
        "Fine tuning did improve the model's global loss and accuracy"
      ],
      "metadata": {
        "id": "lvFie2vQTMkc"
      }
    },
    {
      "cell_type": "markdown",
      "source": [
        "<a style='text-decoration:none;line-height:16px;display:flex;color:#5B5B62;padding:10px;justify-content:end;' href='https://deepnote.com?utm_source=created-in-deepnote-cell&projectId=6b859965-b858-4b8d-a841-009599aef86e' target=\"_blank\">\n",
        "<img alt='Created in deepnote.com' style='display:inline;max-height:16px;margin:0px;margin-right:7.5px;' src='data:image/svg+xml;base64,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' > </img>\n",
        "Created in <span style='font-weight:600;margin-left:4px;'>Deepnote</span></a>"
      ],
      "metadata": {
        "tags": [],
        "created_in_deepnote_cell": true,
        "deepnote_cell_type": "markdown",
        "id": "Tt_WwPh1Q8zH"
      }
    }
  ],
  "nbformat": 4,
  "nbformat_minor": 0,
  "metadata": {
    "orig_nbformat": 2,
    "deepnote": {
      "is_reactive": false
    },
    "deepnote_notebook_id": "3a7889b9-2ca6-4fcd-b7f3-ea506ef2557b",
    "deepnote_execution_queue": [],
    "colab": {
      "name": "5_Transfert learning.ipynb",
      "provenance": []
    },
    "language_info": {
      "name": "python"
    },
    "kernelspec": {
      "name": "python3",
      "display_name": "Python 3"
    },
    "accelerator": "GPU"
  }
}