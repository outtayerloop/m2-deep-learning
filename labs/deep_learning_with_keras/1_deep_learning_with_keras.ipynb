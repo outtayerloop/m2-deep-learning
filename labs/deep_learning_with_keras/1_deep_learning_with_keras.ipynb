{
  "nbformat": 4,
  "nbformat_minor": 5,
  "metadata": {
    "kernelspec": {
      "display_name": "Python 3 (ipykernel)",
      "language": "python",
      "name": "python3"
    },
    "language_info": {
      "codemirror_mode": {
        "name": "ipython",
        "version": 3
      },
      "file_extension": ".py",
      "mimetype": "text/x-python",
      "name": "python",
      "nbconvert_exporter": "python",
      "pygments_lexer": "ipython3",
      "version": "3.9.8"
    },
    "colab": {
      "name": "1. deep_learning_with_keras.ipynb",
      "provenance": [],
      "collapsed_sections": []
    },
    "accelerator": "GPU"
  },
  "cells": [
    {
      "cell_type": "markdown",
      "metadata": {
        "id": "4e2ca014"
      },
      "source": [
        "## Neural network - basic behavior\n",
        "\n",
        "Laurent Cetinsoy - Datadidacte - personal use only\n",
        "\n",
        "In order to get a bit of understanding and practice with keras we are going to test a few different architectures"
      ],
      "id": "4e2ca014"
    },
    {
      "cell_type": "markdown",
      "metadata": {
        "id": "43c84a4e"
      },
      "source": [
        "## Effect of the activation function"
      ],
      "id": "43c84a4e"
    },
    {
      "cell_type": "markdown",
      "metadata": {
        "id": "9db08264"
      },
      "source": [
        "Load the fashion mnist dataset from the tensorflow.keras.datasets module "
      ],
      "id": "9db08264"
    },
    {
      "cell_type": "code",
      "metadata": {
        "id": "8a788a1e",
        "colab": {
          "base_uri": "https://localhost:8080/"
        },
        "outputId": "aaf4389d-b70e-42d5-9d65-341df379121f"
      },
      "source": [
        "from tensorflow.keras.datasets.fashion_mnist import load_data\n",
        "\n",
        "data = load_data()\n",
        "train, test = data"
      ],
      "id": "8a788a1e",
      "execution_count": 1,
      "outputs": [
        {
          "output_type": "stream",
          "name": "stdout",
          "text": [
            "Downloading data from https://storage.googleapis.com/tensorflow/tf-keras-datasets/train-labels-idx1-ubyte.gz\n",
            "32768/29515 [=================================] - 0s 0us/step\n",
            "40960/29515 [=========================================] - 0s 0us/step\n",
            "Downloading data from https://storage.googleapis.com/tensorflow/tf-keras-datasets/train-images-idx3-ubyte.gz\n",
            "26427392/26421880 [==============================] - 0s 0us/step\n",
            "26435584/26421880 [==============================] - 0s 0us/step\n",
            "Downloading data from https://storage.googleapis.com/tensorflow/tf-keras-datasets/t10k-labels-idx1-ubyte.gz\n",
            "16384/5148 [===============================================================================================] - 0s 0us/step\n",
            "Downloading data from https://storage.googleapis.com/tensorflow/tf-keras-datasets/t10k-images-idx3-ubyte.gz\n",
            "4423680/4422102 [==============================] - 0s 0us/step\n",
            "4431872/4422102 [==============================] - 0s 0us/step\n"
          ]
        }
      ]
    },
    {
      "cell_type": "markdown",
      "metadata": {
        "id": "a6398ca1"
      },
      "source": [
        "Display the first image of the train dataset with matplotlib"
      ],
      "id": "a6398ca1"
    },
    {
      "cell_type": "code",
      "metadata": {
        "colab": {
          "base_uri": "https://localhost:8080/",
          "height": 282
        },
        "id": "3309d6d0",
        "outputId": "9214ba2f-095e-4b9e-eb7e-d39dc8e8fe1f"
      },
      "source": [
        "import matplotlib.pyplot as plt\n",
        "\n",
        "X_train, y_train = train\n",
        "plt.imshow(X_train[0], cmap='gray')"
      ],
      "id": "3309d6d0",
      "execution_count": 2,
      "outputs": [
        {
          "output_type": "execute_result",
          "data": {
            "text/plain": [
              "<matplotlib.image.AxesImage at 0x7f4ef3ae5150>"
            ]
          },
          "metadata": {},
          "execution_count": 2
        },
        {
          "output_type": "display_data",
          "data": {
            "image/png": "[encoded data removed]",
            "text/plain": [
              "<Figure size 432x288 with 1 Axes>"
            ]
          },
          "metadata": {
            "needs_background": "light"
          }
        }
      ]
    },
    {
      "cell_type": "markdown",
      "metadata": {
        "id": "0f796f04"
      },
      "source": [
        "Display the number of classes in the dataset"
      ],
      "id": "0f796f04"
    },
    {
      "cell_type": "code",
      "metadata": {
        "colab": {
          "base_uri": "https://localhost:8080/"
        },
        "id": "26a8133d",
        "outputId": "ab65882c-632d-416c-f50a-444d4f3b381a"
      },
      "source": [
        "import numpy as np\n",
        "X_test, y_test = test\n",
        "class_values = np.unique(data[0][1]) # or else len(set(y_train))\n",
        "class_count = len(np.array(class_values))\n",
        "class_count, class_values"
      ],
      "id": "26a8133d",
      "execution_count": 3,
      "outputs": [
        {
          "output_type": "execute_result",
          "data": {
            "text/plain": [
              "(10, array([0, 1, 2, 3, 4, 5, 6, 7, 8, 9], dtype=uint8))"
            ]
          },
          "metadata": {},
          "execution_count": 3
        }
      ]
    },
    {
      "cell_type": "markdown",
      "metadata": {
        "id": "230aeb3b"
      },
      "source": [
        "Create a simple neural network with the following structure : \n",
        "\n",
        "- One dense layer with **sigmoid** activation and 300 neurones\n",
        "- One dense layer with **sigmoid** activation and 100 neurones \n",
        "- One dense layer with softmax activation. How many neurones should there be ? "
      ],
      "id": "230aeb3b"
    },
    {
      "cell_type": "code",
      "metadata": {
        "id": "AbU9PjBIYRMG"
      },
      "source": [
        "from tensorflow.keras import Sequential\n",
        "from tensorflow.keras.layers import Dense"
      ],
      "id": "AbU9PjBIYRMG",
      "execution_count": 4,
      "outputs": []
    },
    {
      "cell_type": "code",
      "metadata": {
        "id": "M25_1sBfYafe"
      },
      "source": [
        "images_count, image_height, image_width = X_train.shape"
      ],
      "id": "M25_1sBfYafe",
      "execution_count": 5,
      "outputs": []
    },
    {
      "cell_type": "code",
      "metadata": {
        "id": "493e3ba3"
      },
      "source": [
        "sigmoid_model = Sequential()\n",
        "sigmoid_model.add(Dense(units=300, activation='sigmoid', input_shape=[image_height*image_width]))\n",
        "sigmoid_model.add(Dense(units=100, activation='sigmoid'))\n",
        "sigmoid_model.add(Dense(units=class_count, activation='softmax')) # as many neurones as classes\n",
        "# softmax normalizes the model's outputs so that it looks like a proba distribution with Sum(output_i) = 1"
      ],
      "id": "493e3ba3",
      "execution_count": null,
      "outputs": []
    },
    {
      "cell_type": "markdown",
      "metadata": {
        "id": "3a3782c1"
      },
      "source": [
        "Compile the model with the sgd optimizer and the sparse_categorical_crossentropy_loss"
      ],
      "id": "3a3782c1"
    },
    {
      "cell_type": "code",
      "metadata": {
        "id": "f7d6b8bf"
      },
      "source": [
        "sigmoid_model.compile(optimizer='sgd', loss='sparse_categorical_crossentropy', metrics=['accuracy']) \n",
        "# categorical_crossentropy : used when class values are already one-hot-encoded\n",
        "# sparse_categorical_crossentropy : used when class values are not already one-hot-encoded"
      ],
      "id": "f7d6b8bf",
      "execution_count": null,
      "outputs": []
    },
    {
      "cell_type": "markdown",
      "metadata": {
        "id": "e823d780"
      },
      "source": [
        "Reshape the images so that each image is a vector. Remember to normalize the dataset by doing a min-max scaling\n"
      ],
      "id": "e823d780"
    },
    {
      "cell_type": "code",
      "metadata": {
        "id": "4c8a35f3"
      },
      "source": [
        "from sklearn.preprocessing import MinMaxScaler\n",
        "\n",
        "scaler = MinMaxScaler()\n",
        "X_train = X_train.reshape(-1, image_height*image_width)\n",
        "X_train = scaler.fit_transform(X_train) # or X_train / 255 as min = 0 and max = 255 (RGB colors)"
      ],
      "id": "4c8a35f3",
      "execution_count": 6,
      "outputs": []
    },
    {
      "cell_type": "markdown",
      "metadata": {
        "id": "94f6f90b"
      },
      "source": [
        "Train the model for 10 epochs and display the loss versus the number of epochs. For that you can use Keras callbacks : https://keras.io/api/callbacks/\n",
        "\n",
        "Does it train well ? "
      ],
      "id": "94f6f90b"
    },
    {
      "cell_type": "code",
      "metadata": {
        "id": "JXKOnYnYsTKZ"
      },
      "source": [
        "import tensorflow as tf\n",
        "\n",
        "class LogCallback(tf.keras.callbacks.Callback):\n",
        "  def on_epoch_end(self, epoch, logs=None):\n",
        "    print('\\n\\nTrain Loss = {}\\nValidation Loss = {}\\nEpoch =  {}\\n'.format(logs['loss'], logs['val_loss'], epoch))"
      ],
      "id": "JXKOnYnYsTKZ",
      "execution_count": 7,
      "outputs": []
    },
    {
      "cell_type": "code",
      "metadata": {
        "id": "f5e58ef5"
      },
      "source": [
        "sigmoid_model_history = sigmoid_model.fit(X_train, y_train, epochs=10, validation_split=0.3, callbacks=[LogCallback()])\n",
        "sigmoid_model_history"
      ],
      "id": "f5e58ef5",
      "execution_count": null,
      "outputs": []
    },
    {
      "cell_type": "markdown",
      "metadata": {
        "id": "6OnXonvurAMr"
      },
      "source": [
        "The loss did not go under 0.5 with the sigmoid activation function, however, both train and validation loss are decreasing at each epoch"
      ],
      "id": "6OnXonvurAMr"
    },
    {
      "cell_type": "markdown",
      "metadata": {
        "id": "c0cd2020"
      },
      "source": [
        "Make another model by replacing this time the sigmoid activations by Relu. Train again the model and display the loss curve. Is it better ? "
      ],
      "id": "c0cd2020"
    },
    {
      "cell_type": "code",
      "metadata": {
        "id": "f7ba76d9"
      },
      "source": [
        "relu_model = Sequential()\n",
        "relu_model.add(Dense(units=300, activation='relu', input_shape=[image_height*image_width]))\n",
        "relu_model.add(Dense(units=100, activation='relu'))\n",
        "relu_model.add(Dense(units=class_count, activation='softmax')) # as many neurones as classes\n",
        "# softmax normalizes the model's outputs so that it looks like a proba distribution with Sum(output_i) = 1"
      ],
      "id": "f7ba76d9",
      "execution_count": null,
      "outputs": []
    },
    {
      "cell_type": "code",
      "metadata": {
        "id": "M28P3v5yptI5"
      },
      "source": [
        "relu_model.compile(optimizer='sgd', loss='sparse_categorical_crossentropy', metrics=['accuracy'])\n",
        "# categorical_crossentropy : used when class values are already one-hot-encoded\n",
        "# sparse_categorical_crossentropy : used when class values are not already one-hot-encoded"
      ],
      "id": "M28P3v5yptI5",
      "execution_count": null,
      "outputs": []
    },
    {
      "cell_type": "code",
      "metadata": {
        "colab": {
          "base_uri": "https://localhost:8080/"
        },
        "id": "20d261f4",
        "outputId": "92034c39-0797-457f-ade0-87b6bce2ef22"
      },
      "source": [
        "relu_model_history = relu_model.fit(X_train, y_train, epochs=10, validation_split=0.3, callbacks=[LogCallback()])\n",
        "relu_model_history"
      ],
      "id": "20d261f4",
      "execution_count": null,
      "outputs": [
        {
          "output_type": "stream",
          "name": "stdout",
          "text": [
            "Epoch 1/10\n",
            "1311/1313 [============================>.] - ETA: 0s - loss: 0.7624 - accuracy: 0.7540\n",
            "\n",
            "Train Loss = 0.7620440125465393\n",
            "Validation Loss = 0.5510354042053223\n",
            "Epoch =  0\n",
            "\n",
            "1313/1313 [==============================] - 8s 6ms/step - loss: 0.7620 - accuracy: 0.7541 - val_loss: 0.5510 - val_accuracy: 0.8122\n",
            "Epoch 2/10\n",
            "1312/1313 [============================>.] - ETA: 0s - loss: 0.5134 - accuracy: 0.8223\n",
            "\n",
            "Train Loss = 0.513540506362915\n",
            "Validation Loss = 0.49998024106025696\n",
            "Epoch =  1\n",
            "\n",
            "1313/1313 [==============================] - 7s 5ms/step - loss: 0.5135 - accuracy: 0.8223 - val_loss: 0.5000 - val_accuracy: 0.8270\n",
            "Epoch 3/10\n",
            "1312/1313 [============================>.] - ETA: 0s - loss: 0.4635 - accuracy: 0.8379\n",
            "\n",
            "Train Loss = 0.463490754365921\n",
            "Validation Loss = 0.5106601715087891\n",
            "Epoch =  2\n",
            "\n",
            "1313/1313 [==============================] - 7s 5ms/step - loss: 0.4635 - accuracy: 0.8379 - val_loss: 0.5107 - val_accuracy: 0.8136\n",
            "Epoch 4/10\n",
            "1312/1313 [============================>.] - ETA: 0s - loss: 0.4350 - accuracy: 0.8478\n",
            "\n",
            "Train Loss = 0.43502965569496155\n",
            "Validation Loss = 0.4425505995750427\n",
            "Epoch =  3\n",
            "\n",
            "1313/1313 [==============================] - 7s 5ms/step - loss: 0.4350 - accuracy: 0.8479 - val_loss: 0.4426 - val_accuracy: 0.8451\n",
            "Epoch 5/10\n",
            "1306/1313 [============================>.] - ETA: 0s - loss: 0.4134 - accuracy: 0.8558\n",
            "\n",
            "Train Loss = 0.4128897488117218\n",
            "Validation Loss = 0.41899847984313965\n",
            "Epoch =  4\n",
            "\n",
            "1313/1313 [==============================] - 7s 5ms/step - loss: 0.4129 - accuracy: 0.8560 - val_loss: 0.4190 - val_accuracy: 0.8560\n",
            "Epoch 6/10\n",
            "1303/1313 [============================>.] - ETA: 0s - loss: 0.3968 - accuracy: 0.8620\n",
            "\n",
            "Train Loss = 0.39661961793899536\n",
            "Validation Loss = 0.4032815992832184\n",
            "Epoch =  5\n",
            "\n",
            "1313/1313 [==============================] - 7s 5ms/step - loss: 0.3966 - accuracy: 0.8621 - val_loss: 0.4033 - val_accuracy: 0.8597\n",
            "Epoch 7/10\n",
            "1309/1313 [============================>.] - ETA: 0s - loss: 0.3813 - accuracy: 0.8664\n",
            "\n",
            "Train Loss = 0.3812498450279236\n",
            "Validation Loss = 0.4052670896053314\n",
            "Epoch =  6\n",
            "\n",
            "1313/1313 [==============================] - 7s 5ms/step - loss: 0.3812 - accuracy: 0.8663 - val_loss: 0.4053 - val_accuracy: 0.8577\n",
            "Epoch 8/10\n",
            "1311/1313 [============================>.] - ETA: 0s - loss: 0.3693 - accuracy: 0.8702\n",
            "\n",
            "Train Loss = 0.36916834115982056\n",
            "Validation Loss = 0.39159220457077026\n",
            "Epoch =  7\n",
            "\n",
            "1313/1313 [==============================] - 7s 5ms/step - loss: 0.3692 - accuracy: 0.8702 - val_loss: 0.3916 - val_accuracy: 0.8621\n",
            "Epoch 9/10\n",
            "1310/1313 [============================>.] - ETA: 0s - loss: 0.3589 - accuracy: 0.8730\n",
            "\n",
            "Train Loss = 0.3587074279785156\n",
            "Validation Loss = 0.37992122769355774\n",
            "Epoch =  8\n",
            "\n",
            "1313/1313 [==============================] - 6s 5ms/step - loss: 0.3587 - accuracy: 0.8730 - val_loss: 0.3799 - val_accuracy: 0.8667\n",
            "Epoch 10/10\n",
            "1305/1313 [============================>.] - ETA: 0s - loss: 0.3494 - accuracy: 0.8756\n",
            "\n",
            "Train Loss = 0.3496791422367096\n",
            "Validation Loss = 0.38538265228271484\n",
            "Epoch =  9\n",
            "\n",
            "1313/1313 [==============================] - 6s 5ms/step - loss: 0.3497 - accuracy: 0.8755 - val_loss: 0.3854 - val_accuracy: 0.8639\n"
          ]
        },
        {
          "output_type": "execute_result",
          "data": {
            "text/plain": [
              "<keras.callbacks.History at 0x7f8daba7f490>"
            ]
          },
          "metadata": {},
          "execution_count": 44
        }
      ]
    },
    {
      "cell_type": "code",
      "metadata": {
        "colab": {
          "base_uri": "https://localhost:8080/",
          "height": 295
        },
        "id": "jlmtn6VDvuZv",
        "outputId": "3f1ef111-74fc-4f88-b2a1-e734246ae3f3"
      },
      "source": [
        "plt.plot(sigmoid_model_history.history['loss'])\n",
        "plt.plot(sigmoid_model_history.history['val_loss'])\n",
        "plt.title('Sigmoid model loss')\n",
        "plt.ylabel('Loss')\n",
        "plt.xlabel('Epoch')\n",
        "plt.legend(['Train', 'Validation'], loc='upper right')\n",
        "plt.show()"
      ],
      "id": "jlmtn6VDvuZv",
      "execution_count": null,
      "outputs": [
        {
          "output_type": "display_data",
          "data": {
            "image/png": "[encoded data removed]",
            "text/plain": [
              "<Figure size 432x288 with 1 Axes>"
            ]
          },
          "metadata": {
            "needs_background": "light"
          }
        }
      ]
    },
    {
      "cell_type": "code",
      "metadata": {
        "colab": {
          "base_uri": "https://localhost:8080/",
          "height": 295
        },
        "id": "1LDGsPGeifer",
        "outputId": "8f5024fb-38d2-4c28-8596-7a37edd09872"
      },
      "source": [
        "plt.plot(sigmoid_model_history.history['accuracy'])\n",
        "plt.plot(sigmoid_model_history.history['val_accuracy'])\n",
        "plt.title('Sigmoid model accuracy')\n",
        "plt.ylabel('Accuracy')\n",
        "plt.xlabel('Epoch')\n",
        "plt.legend(['Train', 'Validation'], loc='upper right')\n",
        "plt.show()"
      ],
      "id": "1LDGsPGeifer",
      "execution_count": null,
      "outputs": [
        {
          "output_type": "display_data",
          "data": {
            "image/png": "[encoded data removed]",
            "text/plain": [
              "<Figure size 432x288 with 1 Axes>"
            ]
          },
          "metadata": {
            "needs_background": "light"
          }
        }
      ]
    },
    {
      "cell_type": "code",
      "metadata": {
        "colab": {
          "base_uri": "https://localhost:8080/",
          "height": 295
        },
        "id": "-vEjUpmJwDF3",
        "outputId": "5be94830-f593-4259-fddd-6bbf9cd496e6"
      },
      "source": [
        "plt.plot(relu_model_history.history['loss'])\n",
        "plt.plot(relu_model_history.history['val_loss'])\n",
        "plt.title('Relu model loss')\n",
        "plt.ylabel('Loss')\n",
        "plt.xlabel('Epoch')\n",
        "plt.legend(['Train', 'Validation'], loc='upper right')\n",
        "plt.show()"
      ],
      "id": "-vEjUpmJwDF3",
      "execution_count": null,
      "outputs": [
        {
          "output_type": "display_data",
          "data": {
            "image/png": "[encoded data removed]",
            "text/plain": [
              "<Figure size 432x288 with 1 Axes>"
            ]
          },
          "metadata": {
            "needs_background": "light"
          }
        }
      ]
    },
    {
      "cell_type": "code",
      "metadata": {
        "colab": {
          "base_uri": "https://localhost:8080/",
          "height": 295
        },
        "id": "7MIw5NYwitac",
        "outputId": "bcb094df-50f5-4ce4-be98-96be3e0bac1a"
      },
      "source": [
        "plt.plot(relu_model_history.history['accuracy'])\n",
        "plt.plot(relu_model_history.history['val_accuracy'])\n",
        "plt.title('Relu model accuracy')\n",
        "plt.ylabel('Accuracy')\n",
        "plt.xlabel('Epoch')\n",
        "plt.legend(['Train', 'Validation'], loc='upper right')\n",
        "plt.show()"
      ],
      "id": "7MIw5NYwitac",
      "execution_count": null,
      "outputs": [
        {
          "output_type": "display_data",
          "data": {
            "image/png": "[encoded data removed]",
            "text/plain": [
              "<Figure size 432x288 with 1 Axes>"
            ]
          },
          "metadata": {
            "needs_background": "light"
          }
        }
      ]
    },
    {
      "cell_type": "markdown",
      "metadata": {
        "id": "VhKZPUdJTiF-"
      },
      "source": [
        "For the RELu model, the loss did go under 0.5 and was globally inferior the the loss with the sigmoid activation function but we note that the validation loss increases after the 4th epoch and then is a little bit superior to the train loss until the 10th epoch, but it still does better than the model with the sigmoid activation function. Also, in terms of accuracy, the Relu model is better than the sigmoid."
      ],
      "id": "VhKZPUdJTiF-"
    },
    {
      "cell_type": "markdown",
      "metadata": {
        "id": "02c9121f"
      },
      "source": [
        "Do the same with the selu function "
      ],
      "id": "02c9121f"
    },
    {
      "cell_type": "code",
      "metadata": {
        "id": "2zkScUBWwqqr"
      },
      "source": [
        "selu_model = Sequential()\n",
        "selu_model.add(Dense(units=300, activation='selu', input_shape=[image_height*image_width]))\n",
        "selu_model.add(Dense(units=100, activation='selu'))\n",
        "selu_model.add(Dense(units=class_count, activation='softmax')) # as many neurones as classes\n",
        "# softmax normalizes the model's outputs so that it looks like a proba distribution with Sum(output_i) = 1"
      ],
      "id": "2zkScUBWwqqr",
      "execution_count": null,
      "outputs": []
    },
    {
      "cell_type": "code",
      "metadata": {
        "id": "Eynw2kFnwxxB"
      },
      "source": [
        "selu_model.compile(optimizer='sgd', loss='sparse_categorical_crossentropy', metrics=['accuracy'])\n",
        "# categorical_crossentropy : used when class values are already one-hot-encoded\n",
        "# sparse_categorical_crossentropy : used when class values are not already one-hot-encoded"
      ],
      "id": "Eynw2kFnwxxB",
      "execution_count": null,
      "outputs": []
    },
    {
      "cell_type": "code",
      "metadata": {
        "id": "duHFxfoAw006",
        "colab": {
          "base_uri": "https://localhost:8080/"
        },
        "outputId": "86e3104c-715a-4033-e082-e5a9bc0480f2"
      },
      "source": [
        "selu_model_history = selu_model.fit(X_train, y_train, epochs=10, validation_split=0.3, callbacks=[LogCallback()])\n",
        "selu_model_history"
      ],
      "id": "duHFxfoAw006",
      "execution_count": null,
      "outputs": [
        {
          "output_type": "stream",
          "name": "stdout",
          "text": [
            "Epoch 1/10\n",
            "1305/1313 [============================>.] - ETA: 0s - loss: 0.6087 - accuracy: 0.7876\n",
            "\n",
            "Train Loss = 0.6075989007949829\n",
            "Validation Loss = 0.48880934715270996\n",
            "Epoch =  0\n",
            "\n",
            "1313/1313 [==============================] - 7s 5ms/step - loss: 0.6076 - accuracy: 0.7879 - val_loss: 0.4888 - val_accuracy: 0.8257\n",
            "Epoch 2/10\n",
            "1305/1313 [============================>.] - ETA: 0s - loss: 0.4606 - accuracy: 0.8377\n",
            "\n",
            "Train Loss = 0.46027031540870667\n",
            "Validation Loss = 0.4462161064147949\n",
            "Epoch =  1\n",
            "\n",
            "1313/1313 [==============================] - 7s 5ms/step - loss: 0.4603 - accuracy: 0.8378 - val_loss: 0.4462 - val_accuracy: 0.8394\n",
            "Epoch 3/10\n",
            "1307/1313 [============================>.] - ETA: 0s - loss: 0.4286 - accuracy: 0.8487\n",
            "\n",
            "Train Loss = 0.42862728238105774\n",
            "Validation Loss = 0.45156481862068176\n",
            "Epoch =  2\n",
            "\n",
            "1313/1313 [==============================] - 7s 5ms/step - loss: 0.4286 - accuracy: 0.8487 - val_loss: 0.4516 - val_accuracy: 0.8360\n",
            "Epoch 4/10\n",
            "1313/1313 [==============================] - ETA: 0s - loss: 0.4083 - accuracy: 0.8554\n",
            "\n",
            "Train Loss = 0.40834468603134155\n",
            "Validation Loss = 0.4162508249282837\n",
            "Epoch =  3\n",
            "\n",
            "1313/1313 [==============================] - 7s 5ms/step - loss: 0.4083 - accuracy: 0.8554 - val_loss: 0.4163 - val_accuracy: 0.8514\n",
            "Epoch 5/10\n",
            "1309/1313 [============================>.] - ETA: 0s - loss: 0.3926 - accuracy: 0.8600\n",
            "\n",
            "Train Loss = 0.39252790808677673\n",
            "Validation Loss = 0.3925215005874634\n",
            "Epoch =  4\n",
            "\n",
            "1313/1313 [==============================] - 7s 5ms/step - loss: 0.3925 - accuracy: 0.8601 - val_loss: 0.3925 - val_accuracy: 0.8612\n",
            "Epoch 6/10\n",
            "1302/1313 [============================>.] - ETA: 0s - loss: 0.3815 - accuracy: 0.8638\n",
            "\n",
            "Train Loss = 0.3810478746891022\n",
            "Validation Loss = 0.40403836965560913\n",
            "Epoch =  5\n",
            "\n",
            "1313/1313 [==============================] - 7s 5ms/step - loss: 0.3810 - accuracy: 0.8638 - val_loss: 0.4040 - val_accuracy: 0.8513\n",
            "Epoch 7/10\n",
            "1303/1313 [============================>.] - ETA: 0s - loss: 0.3694 - accuracy: 0.8682\n",
            "\n",
            "Train Loss = 0.3692663609981537\n",
            "Validation Loss = 0.3927072286605835\n",
            "Epoch =  6\n",
            "\n",
            "1313/1313 [==============================] - 7s 5ms/step - loss: 0.3693 - accuracy: 0.8682 - val_loss: 0.3927 - val_accuracy: 0.8604\n",
            "Epoch 8/10\n",
            "1303/1313 [============================>.] - ETA: 0s - loss: 0.3616 - accuracy: 0.8701\n",
            "\n",
            "Train Loss = 0.3613071143627167\n",
            "Validation Loss = 0.3972577154636383\n",
            "Epoch =  7\n",
            "\n",
            "1313/1313 [==============================] - 7s 5ms/step - loss: 0.3613 - accuracy: 0.8701 - val_loss: 0.3973 - val_accuracy: 0.8556\n",
            "Epoch 9/10\n",
            "1304/1313 [============================>.] - ETA: 0s - loss: 0.3514 - accuracy: 0.8742\n",
            "\n",
            "Train Loss = 0.351360946893692\n",
            "Validation Loss = 0.3791082799434662\n",
            "Epoch =  8\n",
            "\n",
            "1313/1313 [==============================] - 7s 5ms/step - loss: 0.3514 - accuracy: 0.8741 - val_loss: 0.3791 - val_accuracy: 0.8631\n",
            "Epoch 10/10\n",
            "1306/1313 [============================>.] - ETA: 0s - loss: 0.3446 - accuracy: 0.8774\n",
            "\n",
            "Train Loss = 0.3446997404098511\n",
            "Validation Loss = 0.3705657720565796\n",
            "Epoch =  9\n",
            "\n",
            "1313/1313 [==============================] - 6s 5ms/step - loss: 0.3447 - accuracy: 0.8774 - val_loss: 0.3706 - val_accuracy: 0.8684\n"
          ]
        },
        {
          "output_type": "execute_result",
          "data": {
            "text/plain": [
              "<keras.callbacks.History at 0x7f8db7ec2e10>"
            ]
          },
          "metadata": {},
          "execution_count": 51
        }
      ]
    },
    {
      "cell_type": "code",
      "metadata": {
        "colab": {
          "base_uri": "https://localhost:8080/",
          "height": 295
        },
        "id": "AU38vOoLxq0R",
        "outputId": "3c0da620-2801-4cb4-bb77-b6d46320f0ff"
      },
      "source": [
        "plt.plot(selu_model_history.history['loss'])\n",
        "plt.plot(selu_model_history.history['val_loss'])\n",
        "plt.title('Selu model loss')\n",
        "plt.ylabel('Loss')\n",
        "plt.xlabel('Epoch')\n",
        "plt.legend(['Train', 'Validation'], loc='upper right')\n",
        "plt.show()"
      ],
      "id": "AU38vOoLxq0R",
      "execution_count": null,
      "outputs": [
        {
          "output_type": "display_data",
          "data": {
            "image/png": "[encoded data removed]",
            "text/plain": [
              "<Figure size 432x288 with 1 Axes>"
            ]
          },
          "metadata": {
            "needs_background": "light"
          }
        }
      ]
    },
    {
      "cell_type": "code",
      "metadata": {
        "colab": {
          "base_uri": "https://localhost:8080/",
          "height": 295
        },
        "id": "2p485LnNj715",
        "outputId": "b7dd5044-a49c-4b22-9414-83e32a4aa77f"
      },
      "source": [
        "plt.plot(selu_model_history.history['accuracy'])\n",
        "plt.plot(selu_model_history.history['val_accuracy'])\n",
        "plt.title('Selu model accuracy')\n",
        "plt.ylabel('Accuracy')\n",
        "plt.xlabel('Epoch')\n",
        "plt.legend(['Train', 'Validation'], loc='upper right')\n",
        "plt.show()"
      ],
      "id": "2p485LnNj715",
      "execution_count": null,
      "outputs": [
        {
          "output_type": "display_data",
          "data": {
            "image/png": "[encoded data removed]",
            "text/plain": [
              "<Figure size 432x288 with 1 Axes>"
            ]
          },
          "metadata": {
            "needs_background": "light"
          }
        }
      ]
    },
    {
      "cell_type": "markdown",
      "metadata": {
        "id": "XZTUM0rNV0om"
      },
      "source": [
        "The loss of the model with the SeLu activation function is a bit better than the model with the ReLu activation function"
      ],
      "id": "XZTUM0rNV0om"
    },
    {
      "cell_type": "markdown",
      "metadata": {
        "id": "59389e9c"
      },
      "source": [
        "## Effect of the size \n",
        "\n",
        "In this section we want to study the effect of the size of the network on the learning\n",
        "\n",
        "Re-use the previous network and try to increase its size by using the following number of neurones : \n",
        "\n",
        "-  800 for first layer\n",
        "- 500 for second layer\n",
        "- same size\n",
        "\n",
        "\n",
        "You might need to train the network longer, but does it reach a better performance ? "
      ],
      "id": "59389e9c"
    },
    {
      "cell_type": "code",
      "metadata": {
        "id": "478c8ca7"
      },
      "source": [
        "selu_model_big = Sequential()\n",
        "selu_model_big.add(Dense(units=800, activation='selu', input_shape=[image_height*image_width]))\n",
        "selu_model_big.add(Dense(units=500, activation='selu'))\n",
        "selu_model_big.add(Dense(units=class_count, activation='softmax')) # as many neurones as classes\n",
        "# softmax normalizes the model's outputs so that it looks like a proba distribution with Sum(output_i) = 1"
      ],
      "id": "478c8ca7",
      "execution_count": null,
      "outputs": []
    },
    {
      "cell_type": "code",
      "metadata": {
        "id": "0FVHxItYzfSb"
      },
      "source": [
        "selu_model_big.compile(optimizer='sgd', loss='sparse_categorical_crossentropy', metrics=['accuracy'])\n",
        "# categorical_crossentropy : used when class values are already one-hot-encoded\n",
        "# sparse_categorical_crossentropy : used when class values are not already one-hot-encoded"
      ],
      "id": "0FVHxItYzfSb",
      "execution_count": null,
      "outputs": []
    },
    {
      "cell_type": "code",
      "metadata": {
        "colab": {
          "base_uri": "https://localhost:8080/"
        },
        "id": "BBHTaPMJzg1S",
        "outputId": "8fe2dc0a-9f6d-45c0-c093-89cd96aeeab2"
      },
      "source": [
        "selu_model_big_history = selu_model_big.fit(X_train, y_train, epochs=10, validation_split=0.3, callbacks=[LogCallback()])\n",
        "selu_model_big_history"
      ],
      "id": "BBHTaPMJzg1S",
      "execution_count": null,
      "outputs": [
        {
          "output_type": "stream",
          "name": "stdout",
          "text": [
            "Epoch 1/10\n",
            "1313/1313 [==============================] - ETA: 0s - loss: 0.5756 - accuracy: 0.7979\n",
            "\n",
            "Train Loss = 0.5756165981292725\n",
            "Validation Loss = 0.49934178590774536\n",
            "Epoch =  0\n",
            "\n",
            "1313/1313 [==============================] - 17s 13ms/step - loss: 0.5756 - accuracy: 0.7979 - val_loss: 0.4993 - val_accuracy: 0.8257\n",
            "Epoch 2/10\n",
            "1312/1313 [============================>.] - ETA: 0s - loss: 0.4469 - accuracy: 0.8415\n",
            "\n",
            "Train Loss = 0.44680553674697876\n",
            "Validation Loss = 0.44098880887031555\n",
            "Epoch =  1\n",
            "\n",
            "1313/1313 [==============================] - 17s 13ms/step - loss: 0.4468 - accuracy: 0.8415 - val_loss: 0.4410 - val_accuracy: 0.8444\n",
            "Epoch 3/10\n",
            "1308/1313 [============================>.] - ETA: 0s - loss: 0.4190 - accuracy: 0.8495\n",
            "\n",
            "Train Loss = 0.4190722703933716\n",
            "Validation Loss = 0.4222310781478882\n",
            "Epoch =  2\n",
            "\n",
            "1313/1313 [==============================] - 17s 13ms/step - loss: 0.4191 - accuracy: 0.8495 - val_loss: 0.4222 - val_accuracy: 0.8532\n",
            "Epoch 4/10\n",
            "1309/1313 [============================>.] - ETA: 0s - loss: 0.4014 - accuracy: 0.8583\n",
            "\n",
            "Train Loss = 0.40130937099456787\n",
            "Validation Loss = 0.43845465779304504\n",
            "Epoch =  3\n",
            "\n",
            "1313/1313 [==============================] - 16s 12ms/step - loss: 0.4013 - accuracy: 0.8583 - val_loss: 0.4385 - val_accuracy: 0.8441\n",
            "Epoch 5/10\n",
            "1311/1313 [============================>.] - ETA: 0s - loss: 0.3859 - accuracy: 0.8627\n",
            "\n",
            "Train Loss = 0.3859882652759552\n",
            "Validation Loss = 0.4740627110004425\n",
            "Epoch =  4\n",
            "\n",
            "1313/1313 [==============================] - 16s 12ms/step - loss: 0.3860 - accuracy: 0.8626 - val_loss: 0.4741 - val_accuracy: 0.8297\n",
            "Epoch 6/10\n",
            "1311/1313 [============================>.] - ETA: 0s - loss: 0.3754 - accuracy: 0.8665\n",
            "\n",
            "Train Loss = 0.3754902780056\n",
            "Validation Loss = 0.4416922926902771\n",
            "Epoch =  5\n",
            "\n",
            "1313/1313 [==============================] - 17s 13ms/step - loss: 0.3755 - accuracy: 0.8665 - val_loss: 0.4417 - val_accuracy: 0.8373\n",
            "Epoch 7/10\n",
            "1309/1313 [============================>.] - ETA: 0s - loss: 0.3647 - accuracy: 0.8695\n",
            "\n",
            "Train Loss = 0.36450448632240295\n",
            "Validation Loss = 0.3874604403972626\n",
            "Epoch =  6\n",
            "\n",
            "1313/1313 [==============================] - 17s 13ms/step - loss: 0.3645 - accuracy: 0.8695 - val_loss: 0.3875 - val_accuracy: 0.8622\n",
            "Epoch 8/10\n",
            "1311/1313 [============================>.] - ETA: 0s - loss: 0.3546 - accuracy: 0.8735\n",
            "\n",
            "Train Loss = 0.35448166728019714\n",
            "Validation Loss = 0.4064827561378479\n",
            "Epoch =  7\n",
            "\n",
            "1313/1313 [==============================] - 16s 13ms/step - loss: 0.3545 - accuracy: 0.8735 - val_loss: 0.4065 - val_accuracy: 0.8494\n",
            "Epoch 9/10\n",
            "1309/1313 [============================>.] - ETA: 0s - loss: 0.3470 - accuracy: 0.8751\n",
            "\n",
            "Train Loss = 0.3470243811607361\n",
            "Validation Loss = 0.3723105192184448\n",
            "Epoch =  8\n",
            "\n",
            "1313/1313 [==============================] - 17s 13ms/step - loss: 0.3470 - accuracy: 0.8752 - val_loss: 0.3723 - val_accuracy: 0.8653\n",
            "Epoch 10/10\n",
            "1310/1313 [============================>.] - ETA: 0s - loss: 0.3400 - accuracy: 0.8773\n",
            "\n",
            "Train Loss = 0.3401917517185211\n",
            "Validation Loss = 0.42889484763145447\n",
            "Epoch =  9\n",
            "\n",
            "1313/1313 [==============================] - 17s 13ms/step - loss: 0.3402 - accuracy: 0.8773 - val_loss: 0.4289 - val_accuracy: 0.8456\n"
          ]
        },
        {
          "output_type": "execute_result",
          "data": {
            "text/plain": [
              "<keras.callbacks.History at 0x7f8db7c2c850>"
            ]
          },
          "metadata": {},
          "execution_count": 56
        }
      ]
    },
    {
      "cell_type": "code",
      "metadata": {
        "colab": {
          "base_uri": "https://localhost:8080/",
          "height": 295
        },
        "id": "wqyg7sge-DsO",
        "outputId": "da20c417-a7c1-4d61-82d3-6db2861b9c5d"
      },
      "source": [
        "plt.plot(selu_model_big_history.history['loss'])\n",
        "plt.plot(selu_model_big_history.history['val_loss'])\n",
        "plt.title('Selu big model loss')\n",
        "plt.ylabel('Loss')\n",
        "plt.xlabel('Epoch')\n",
        "plt.legend(['Train', 'Validation'], loc='upper right')\n",
        "plt.show()"
      ],
      "id": "wqyg7sge-DsO",
      "execution_count": null,
      "outputs": [
        {
          "output_type": "display_data",
          "data": {
            "image/png": "[encoded data removed]",
            "text/plain": [
              "<Figure size 432x288 with 1 Axes>"
            ]
          },
          "metadata": {
            "needs_background": "light"
          }
        }
      ]
    },
    {
      "cell_type": "code",
      "metadata": {
        "colab": {
          "base_uri": "https://localhost:8080/",
          "height": 295
        },
        "id": "EbaC7hx3lViQ",
        "outputId": "9bd26111-0ec0-4f70-e8d5-b147284e5eb8"
      },
      "source": [
        "plt.plot(selu_model_big_history.history['accuracy'])\n",
        "plt.plot(selu_model_big_history.history['val_accuracy'])\n",
        "plt.title('Selu big model accuracy')\n",
        "plt.ylabel('Accuracy')\n",
        "plt.xlabel('Epoch')\n",
        "plt.legend(['Train', 'Validation'], loc='upper right')\n",
        "plt.show()"
      ],
      "id": "EbaC7hx3lViQ",
      "execution_count": null,
      "outputs": [
        {
          "output_type": "display_data",
          "data": {
            "image/png": "[encoded data removed]",
            "text/plain": [
              "<Figure size 432x288 with 1 Axes>"
            ]
          },
          "metadata": {
            "needs_background": "light"
          }
        }
      ]
    },
    {
      "cell_type": "markdown",
      "metadata": {
        "id": "f_lrLP1F-NQk"
      },
      "source": [
        "The loss is a little bit better with more neurons per layer, however, the validation loss is superior to the train loss earlier (from the 1st epoch instead of the 2nd) and at the 5th epoch, the gap between train and validation loss is the greatest of all the trained models which can denote a bit of overfitting"
      ],
      "id": "f_lrLP1F-NQk"
    },
    {
      "cell_type": "markdown",
      "metadata": {
        "id": "70b293e0"
      },
      "source": [
        "Bonus : train a big network (more than 5 layers). Does it overfit or has it still good performance ? "
      ],
      "id": "70b293e0"
    },
    {
      "cell_type": "code",
      "metadata": {
        "id": "8b1ca0b8"
      },
      "source": [
        "# Model with 10 layers and SeLu activation function\n",
        "selu_model_very_big = Sequential()\n",
        "selu_model_very_big.add(Dense(units=800, activation='selu', input_shape=[image_height*image_width]))\n",
        "selu_model_very_big.add(Dense(units=500, activation='selu'))\n",
        "selu_model_very_big.add(Dense(units=500, activation='selu'))\n",
        "selu_model_very_big.add(Dense(units=500, activation='selu'))\n",
        "selu_model_very_big.add(Dense(units=500, activation='selu'))\n",
        "selu_model_very_big.add(Dense(units=500, activation='selu'))\n",
        "selu_model_very_big.add(Dense(units=500, activation='selu'))\n",
        "selu_model_very_big.add(Dense(units=500, activation='selu'))\n",
        "selu_model_very_big.add(Dense(units=500, activation='selu'))\n",
        "selu_model_very_big.add(Dense(units=class_count, activation='softmax')) # as many neurones as classes\n",
        "# softmax normalizes the model's outputs so that it looks like a proba distribution with Sum(output_i) = 1"
      ],
      "id": "8b1ca0b8",
      "execution_count": null,
      "outputs": []
    },
    {
      "cell_type": "code",
      "metadata": {
        "id": "1wRviVPhXecW"
      },
      "source": [
        "selu_model_very_big.compile(optimizer='sgd', loss='sparse_categorical_crossentropy', metrics=['accuracy'])\n",
        "# categorical_crossentropy : used when class values are already one-hot-encoded\n",
        "# sparse_categorical_crossentropy : used when class values are not already one-hot-encoded"
      ],
      "id": "1wRviVPhXecW",
      "execution_count": null,
      "outputs": []
    },
    {
      "cell_type": "code",
      "metadata": {
        "colab": {
          "base_uri": "https://localhost:8080/"
        },
        "id": "mKKUYfG0Xh2L",
        "outputId": "069aa693-6f97-486a-e965-7cacd178a906"
      },
      "source": [
        "selu_model_very_big_history = selu_model_very_big.fit(X_train, y_train, epochs=10, validation_split=0.3, callbacks=[LogCallback()])\n",
        "selu_model_very_big_history"
      ],
      "id": "mKKUYfG0Xh2L",
      "execution_count": null,
      "outputs": [
        {
          "output_type": "stream",
          "name": "stdout",
          "text": [
            "Epoch 1/10\n",
            "1312/1313 [============================>.] - ETA: 0s - loss: 0.5703 - accuracy: 0.8041\n",
            "\n",
            "Train Loss = 0.57023024559021\n",
            "Validation Loss = 0.4685130715370178\n",
            "Epoch =  0\n",
            "\n",
            "1313/1313 [==============================] - 46s 35ms/step - loss: 0.5702 - accuracy: 0.8041 - val_loss: 0.4685 - val_accuracy: 0.8257\n",
            "Epoch 2/10\n",
            "1313/1313 [==============================] - ETA: 0s - loss: 0.3844 - accuracy: 0.8572\n",
            "\n",
            "Train Loss = 0.3844323754310608\n",
            "Validation Loss = 0.4344327747821808\n",
            "Epoch =  1\n",
            "\n",
            "1313/1313 [==============================] - 45s 34ms/step - loss: 0.3844 - accuracy: 0.8572 - val_loss: 0.4344 - val_accuracy: 0.8477\n",
            "Epoch 3/10\n",
            "1313/1313 [==============================] - ETA: 0s - loss: 0.3341 - accuracy: 0.8755\n",
            "\n",
            "Train Loss = 0.3340628743171692\n",
            "Validation Loss = 0.3656393587589264\n",
            "Epoch =  2\n",
            "\n",
            "1313/1313 [==============================] - 45s 34ms/step - loss: 0.3341 - accuracy: 0.8755 - val_loss: 0.3656 - val_accuracy: 0.8648\n",
            "Epoch 4/10\n",
            "1312/1313 [============================>.] - ETA: 0s - loss: 0.3052 - accuracy: 0.8869\n",
            "\n",
            "Train Loss = 0.30509090423583984\n",
            "Validation Loss = 0.33120229840278625\n",
            "Epoch =  3\n",
            "\n",
            "1313/1313 [==============================] - 44s 34ms/step - loss: 0.3051 - accuracy: 0.8869 - val_loss: 0.3312 - val_accuracy: 0.8788\n",
            "Epoch 5/10\n",
            "1313/1313 [==============================] - ETA: 0s - loss: 0.2813 - accuracy: 0.8944\n",
            "\n",
            "Train Loss = 0.2813345193862915\n",
            "Validation Loss = 0.3896007239818573\n",
            "Epoch =  4\n",
            "\n",
            "1313/1313 [==============================] - 44s 34ms/step - loss: 0.2813 - accuracy: 0.8944 - val_loss: 0.3896 - val_accuracy: 0.8524\n",
            "Epoch 6/10\n",
            "1313/1313 [==============================] - ETA: 0s - loss: 0.2632 - accuracy: 0.9006\n",
            "\n",
            "Train Loss = 0.2631957530975342\n",
            "Validation Loss = 0.31556496024131775\n",
            "Epoch =  5\n",
            "\n",
            "1313/1313 [==============================] - 45s 34ms/step - loss: 0.2632 - accuracy: 0.9006 - val_loss: 0.3156 - val_accuracy: 0.8888\n",
            "Epoch 7/10\n",
            "1313/1313 [==============================] - ETA: 0s - loss: 0.2461 - accuracy: 0.9078\n",
            "\n",
            "Train Loss = 0.2460840791463852\n",
            "Validation Loss = 0.32633981108665466\n",
            "Epoch =  6\n",
            "\n",
            "1313/1313 [==============================] - 44s 34ms/step - loss: 0.2461 - accuracy: 0.9078 - val_loss: 0.3263 - val_accuracy: 0.8829\n",
            "Epoch 8/10\n",
            "1313/1313 [==============================] - ETA: 0s - loss: 0.2343 - accuracy: 0.9123\n",
            "\n",
            "Train Loss = 0.23433133959770203\n",
            "Validation Loss = 0.3634830713272095\n",
            "Epoch =  7\n",
            "\n",
            "1313/1313 [==============================] - 45s 34ms/step - loss: 0.2343 - accuracy: 0.9123 - val_loss: 0.3635 - val_accuracy: 0.8742\n",
            "Epoch 9/10\n",
            "1313/1313 [==============================] - ETA: 0s - loss: 0.2183 - accuracy: 0.9176\n",
            "\n",
            "Train Loss = 0.21832826733589172\n",
            "Validation Loss = 0.36166316270828247\n",
            "Epoch =  8\n",
            "\n",
            "1313/1313 [==============================] - 45s 34ms/step - loss: 0.2183 - accuracy: 0.9176 - val_loss: 0.3617 - val_accuracy: 0.8773\n",
            "Epoch 10/10\n",
            "1313/1313 [==============================] - ETA: 0s - loss: 0.2090 - accuracy: 0.9210\n",
            "\n",
            "Train Loss = 0.20895549654960632\n",
            "Validation Loss = 0.34479862451553345\n",
            "Epoch =  9\n",
            "\n",
            "1313/1313 [==============================] - 45s 34ms/step - loss: 0.2090 - accuracy: 0.9210 - val_loss: 0.3448 - val_accuracy: 0.8799\n"
          ]
        },
        {
          "output_type": "execute_result",
          "data": {
            "text/plain": [
              "<keras.callbacks.History at 0x7f8db4238ad0>"
            ]
          },
          "metadata": {},
          "execution_count": 62
        }
      ]
    },
    {
      "cell_type": "code",
      "metadata": {
        "colab": {
          "base_uri": "https://localhost:8080/",
          "height": 295
        },
        "id": "oOjjZ2mwahXa",
        "outputId": "5aedbf81-7604-4238-a6dc-473e3e0414da"
      },
      "source": [
        "plt.plot(selu_model_very_big_history.history['loss'])\n",
        "plt.plot(selu_model_very_big_history.history['val_loss'])\n",
        "plt.title('Selu very big model loss')\n",
        "plt.ylabel('Loss')\n",
        "plt.xlabel('Epoch')\n",
        "plt.legend(['Train', 'Validation'], loc='upper right')\n",
        "plt.show()"
      ],
      "id": "oOjjZ2mwahXa",
      "execution_count": null,
      "outputs": [
        {
          "output_type": "display_data",
          "data": {
            "image/png": "[encoded data removed]",
            "text/plain": [
              "<Figure size 432x288 with 1 Axes>"
            ]
          },
          "metadata": {
            "needs_background": "light"
          }
        }
      ]
    },
    {
      "cell_type": "code",
      "metadata": {
        "colab": {
          "base_uri": "https://localhost:8080/",
          "height": 295
        },
        "id": "C7gtMsiol0oZ",
        "outputId": "be91cd06-d8f1-4df0-f7ae-d4c5422ba0ca"
      },
      "source": [
        "plt.plot(selu_model_very_big_history.history['accuracy'])\n",
        "plt.plot(selu_model_very_big_history.history['val_accuracy'])\n",
        "plt.title('Selu very big model accuracy')\n",
        "plt.ylabel('Accuracy')\n",
        "plt.xlabel('Epoch')\n",
        "plt.legend(['Train', 'Validation'], loc='upper right')\n",
        "plt.show()"
      ],
      "id": "C7gtMsiol0oZ",
      "execution_count": null,
      "outputs": [
        {
          "output_type": "display_data",
          "data": {
            "image/png": "[encoded data removed]",
            "text/plain": [
              "<Figure size 432x288 with 1 Axes>"
            ]
          },
          "metadata": {
            "needs_background": "light"
          }
        }
      ]
    },
    {
      "cell_type": "markdown",
      "metadata": {
        "id": "BuZzc2rFaoll"
      },
      "source": [
        "Here the loss is worst than the previous model with only 5 layers and the same activation function and we can note more overfitting with the validation loss having a bigger gap with the train loss, however, the loss values are still better than for the sigmoid function activation model. The accuracy values also seem a bit better"
      ],
      "id": "BuZzc2rFaoll"
    },
    {
      "cell_type": "markdown",
      "metadata": {
        "id": "44784711"
      },
      "source": [
        "## Effect of the parameter initialization \n",
        "\n",
        "The way the parameters of a network are initialized can have a great impact on the training process. \n",
        "\n"
      ],
      "id": "44784711"
    },
    {
      "cell_type": "markdown",
      "metadata": {
        "id": "435122b4"
      },
      "source": [
        "Create a model with the same structure as the previous section. Loop over all layers and put all initial weight values to 0 (cf https://keras.io/api/layers/initializers/)"
      ],
      "id": "435122b4"
    },
    {
      "cell_type": "code",
      "metadata": {
        "id": "Wt4-ooJAGmKw"
      },
      "source": [
        "from tensorflow.keras import initializers"
      ],
      "id": "Wt4-ooJAGmKw",
      "execution_count": 8,
      "outputs": []
    },
    {
      "cell_type": "code",
      "metadata": {
        "id": "2097a476"
      },
      "source": [
        "new_selu_model = Sequential()\n",
        "new_selu_model.add(Dense(units=800, activation='selu', input_shape=[image_height*image_width]))\n",
        "new_selu_model.add(Dense(units=500, activation='selu'))\n",
        "new_selu_model.add(Dense(units=class_count, activation='softmax')) # as many neurones as classes\n",
        "# softmax normalizes the model's outputs so that it looks like a proba distribution with Sum(output_i) = 1"
      ],
      "id": "2097a476",
      "execution_count": null,
      "outputs": []
    },
    {
      "cell_type": "code",
      "metadata": {
        "id": "bu8QIqSUZpgL"
      },
      "source": [
        "initializer = tf.keras.initializers.Zeros()\n",
        "new_selu_model_layers = new_selu_model.layers\n",
        "for layer in new_selu_model_layers:\n",
        "    layer.kernel_initializer = kernel_initializer=initializer\n",
        "    layer.build(layer.input_shape) # forces layer update with new initializer, otherwise it will not update weights to 0"
      ],
      "id": "bu8QIqSUZpgL",
      "execution_count": null,
      "outputs": []
    },
    {
      "cell_type": "code",
      "metadata": {
        "id": "35EeNP04dUHK"
      },
      "source": [
        "new_selu_model.compile(optimizer='sgd', loss='sparse_categorical_crossentropy', metrics=['accuracy'])\n",
        "# categorical_crossentropy : used when class values are already one-hot-encoded\n",
        "# sparse_categorical_crossentropy : used when class values are not already one-hot-encoded"
      ],
      "id": "35EeNP04dUHK",
      "execution_count": null,
      "outputs": []
    },
    {
      "cell_type": "code",
      "metadata": {
        "colab": {
          "base_uri": "https://localhost:8080/"
        },
        "id": "HB8wX5oP-Wft",
        "outputId": "f5df02ca-eb25-41c7-acc1-3a77e5cdb4d0"
      },
      "source": [
        "# Checking for correct layer initialization with weights at 0\n",
        "layers = new_selu_model.layers\n",
        "for layer in layers:\n",
        "  print(layer.get_weights(), layer.kernel_initializer)"
      ],
      "id": "HB8wX5oP-Wft",
      "execution_count": null,
      "outputs": [
        {
          "output_type": "stream",
          "name": "stdout",
          "text": [
            "[array([[0., 0., 0., ..., 0., 0., 0.],\n",
            "       [0., 0., 0., ..., 0., 0., 0.],\n",
            "       [0., 0., 0., ..., 0., 0., 0.],\n",
            "       ...,\n",
            "       [0., 0., 0., ..., 0., 0., 0.],\n",
            "       [0., 0., 0., ..., 0., 0., 0.],\n",
            "       [0., 0., 0., ..., 0., 0., 0.]], dtype=float32), array([0., 0., 0., 0., 0., 0., 0., 0., 0., 0., 0., 0., 0., 0., 0., 0., 0.,\n",
            "       0., 0., 0., 0., 0., 0., 0., 0., 0., 0., 0., 0., 0., 0., 0., 0., 0.,\n",
            "       0., 0., 0., 0., 0., 0., 0., 0., 0., 0., 0., 0., 0., 0., 0., 0., 0.,\n",
            "       0., 0., 0., 0., 0., 0., 0., 0., 0., 0., 0., 0., 0., 0., 0., 0., 0.,\n",
            "       0., 0., 0., 0., 0., 0., 0., 0., 0., 0., 0., 0., 0., 0., 0., 0., 0.,\n",
            "       0., 0., 0., 0., 0., 0., 0., 0., 0., 0., 0., 0., 0., 0., 0., 0., 0.,\n",
            "       0., 0., 0., 0., 0., 0., 0., 0., 0., 0., 0., 0., 0., 0., 0., 0., 0.,\n",
            "       0., 0., 0., 0., 0., 0., 0., 0., 0., 0., 0., 0., 0., 0., 0., 0., 0.,\n",
            "       0., 0., 0., 0., 0., 0., 0., 0., 0., 0., 0., 0., 0., 0., 0., 0., 0.,\n",
            "       0., 0., 0., 0., 0., 0., 0., 0., 0., 0., 0., 0., 0., 0., 0., 0., 0.,\n",
            "       0., 0., 0., 0., 0., 0., 0., 0., 0., 0., 0., 0., 0., 0., 0., 0., 0.,\n",
            "       0., 0., 0., 0., 0., 0., 0., 0., 0., 0., 0., 0., 0., 0., 0., 0., 0.,\n",
            "       0., 0., 0., 0., 0., 0., 0., 0., 0., 0., 0., 0., 0., 0., 0., 0., 0.,\n",
            "       0., 0., 0., 0., 0., 0., 0., 0., 0., 0., 0., 0., 0., 0., 0., 0., 0.,\n",
            "       0., 0., 0., 0., 0., 0., 0., 0., 0., 0., 0., 0., 0., 0., 0., 0., 0.,\n",
            "       0., 0., 0., 0., 0., 0., 0., 0., 0., 0., 0., 0., 0., 0., 0., 0., 0.,\n",
            "       0., 0., 0., 0., 0., 0., 0., 0., 0., 0., 0., 0., 0., 0., 0., 0., 0.,\n",
            "       0., 0., 0., 0., 0., 0., 0., 0., 0., 0., 0., 0., 0., 0., 0., 0., 0.,\n",
            "       0., 0., 0., 0., 0., 0., 0., 0., 0., 0., 0., 0., 0., 0., 0., 0., 0.,\n",
            "       0., 0., 0., 0., 0., 0., 0., 0., 0., 0., 0., 0., 0., 0., 0., 0., 0.,\n",
            "       0., 0., 0., 0., 0., 0., 0., 0., 0., 0., 0., 0., 0., 0., 0., 0., 0.,\n",
            "       0., 0., 0., 0., 0., 0., 0., 0., 0., 0., 0., 0., 0., 0., 0., 0., 0.,\n",
            "       0., 0., 0., 0., 0., 0., 0., 0., 0., 0., 0., 0., 0., 0., 0., 0., 0.,\n",
            "       0., 0., 0., 0., 0., 0., 0., 0., 0., 0., 0., 0., 0., 0., 0., 0., 0.,\n",
            "       0., 0., 0., 0., 0., 0., 0., 0., 0., 0., 0., 0., 0., 0., 0., 0., 0.,\n",
            "       0., 0., 0., 0., 0., 0., 0., 0., 0., 0., 0., 0., 0., 0., 0., 0., 0.,\n",
            "       0., 0., 0., 0., 0., 0., 0., 0., 0., 0., 0., 0., 0., 0., 0., 0., 0.,\n",
            "       0., 0., 0., 0., 0., 0., 0., 0., 0., 0., 0., 0., 0., 0., 0., 0., 0.,\n",
            "       0., 0., 0., 0., 0., 0., 0., 0., 0., 0., 0., 0., 0., 0., 0., 0., 0.,\n",
            "       0., 0., 0., 0., 0., 0., 0., 0., 0., 0., 0., 0., 0., 0., 0., 0., 0.,\n",
            "       0., 0., 0., 0., 0., 0., 0., 0., 0., 0., 0., 0., 0., 0., 0., 0., 0.,\n",
            "       0., 0., 0., 0., 0., 0., 0., 0., 0., 0., 0., 0., 0., 0., 0., 0., 0.,\n",
            "       0., 0., 0., 0., 0., 0., 0., 0., 0., 0., 0., 0., 0., 0., 0., 0., 0.,\n",
            "       0., 0., 0., 0., 0., 0., 0., 0., 0., 0., 0., 0., 0., 0., 0., 0., 0.,\n",
            "       0., 0., 0., 0., 0., 0., 0., 0., 0., 0., 0., 0., 0., 0., 0., 0., 0.,\n",
            "       0., 0., 0., 0., 0., 0., 0., 0., 0., 0., 0., 0., 0., 0., 0., 0., 0.,\n",
            "       0., 0., 0., 0., 0., 0., 0., 0., 0., 0., 0., 0., 0., 0., 0., 0., 0.,\n",
            "       0., 0., 0., 0., 0., 0., 0., 0., 0., 0., 0., 0., 0., 0., 0., 0., 0.,\n",
            "       0., 0., 0., 0., 0., 0., 0., 0., 0., 0., 0., 0., 0., 0., 0., 0., 0.,\n",
            "       0., 0., 0., 0., 0., 0., 0., 0., 0., 0., 0., 0., 0., 0., 0., 0., 0.,\n",
            "       0., 0., 0., 0., 0., 0., 0., 0., 0., 0., 0., 0., 0., 0., 0., 0., 0.,\n",
            "       0., 0., 0., 0., 0., 0., 0., 0., 0., 0., 0., 0., 0., 0., 0., 0., 0.,\n",
            "       0., 0., 0., 0., 0., 0., 0., 0., 0., 0., 0., 0., 0., 0., 0., 0., 0.,\n",
            "       0., 0., 0., 0., 0., 0., 0., 0., 0., 0., 0., 0., 0., 0., 0., 0., 0.,\n",
            "       0., 0., 0., 0., 0., 0., 0., 0., 0., 0., 0., 0., 0., 0., 0., 0., 0.,\n",
            "       0., 0., 0., 0., 0., 0., 0., 0., 0., 0., 0., 0., 0., 0., 0., 0., 0.,\n",
            "       0., 0., 0., 0., 0., 0., 0., 0., 0., 0., 0., 0., 0., 0., 0., 0., 0.,\n",
            "       0.], dtype=float32)] <keras.initializers.initializers_v2.Zeros object at 0x7f8db57ce1d0>\n",
            "[array([[0., 0., 0., ..., 0., 0., 0.],\n",
            "       [0., 0., 0., ..., 0., 0., 0.],\n",
            "       [0., 0., 0., ..., 0., 0., 0.],\n",
            "       ...,\n",
            "       [0., 0., 0., ..., 0., 0., 0.],\n",
            "       [0., 0., 0., ..., 0., 0., 0.],\n",
            "       [0., 0., 0., ..., 0., 0., 0.]], dtype=float32), array([0., 0., 0., 0., 0., 0., 0., 0., 0., 0., 0., 0., 0., 0., 0., 0., 0.,\n",
            "       0., 0., 0., 0., 0., 0., 0., 0., 0., 0., 0., 0., 0., 0., 0., 0., 0.,\n",
            "       0., 0., 0., 0., 0., 0., 0., 0., 0., 0., 0., 0., 0., 0., 0., 0., 0.,\n",
            "       0., 0., 0., 0., 0., 0., 0., 0., 0., 0., 0., 0., 0., 0., 0., 0., 0.,\n",
            "       0., 0., 0., 0., 0., 0., 0., 0., 0., 0., 0., 0., 0., 0., 0., 0., 0.,\n",
            "       0., 0., 0., 0., 0., 0., 0., 0., 0., 0., 0., 0., 0., 0., 0., 0., 0.,\n",
            "       0., 0., 0., 0., 0., 0., 0., 0., 0., 0., 0., 0., 0., 0., 0., 0., 0.,\n",
            "       0., 0., 0., 0., 0., 0., 0., 0., 0., 0., 0., 0., 0., 0., 0., 0., 0.,\n",
            "       0., 0., 0., 0., 0., 0., 0., 0., 0., 0., 0., 0., 0., 0., 0., 0., 0.,\n",
            "       0., 0., 0., 0., 0., 0., 0., 0., 0., 0., 0., 0., 0., 0., 0., 0., 0.,\n",
            "       0., 0., 0., 0., 0., 0., 0., 0., 0., 0., 0., 0., 0., 0., 0., 0., 0.,\n",
            "       0., 0., 0., 0., 0., 0., 0., 0., 0., 0., 0., 0., 0., 0., 0., 0., 0.,\n",
            "       0., 0., 0., 0., 0., 0., 0., 0., 0., 0., 0., 0., 0., 0., 0., 0., 0.,\n",
            "       0., 0., 0., 0., 0., 0., 0., 0., 0., 0., 0., 0., 0., 0., 0., 0., 0.,\n",
            "       0., 0., 0., 0., 0., 0., 0., 0., 0., 0., 0., 0., 0., 0., 0., 0., 0.,\n",
            "       0., 0., 0., 0., 0., 0., 0., 0., 0., 0., 0., 0., 0., 0., 0., 0., 0.,\n",
            "       0., 0., 0., 0., 0., 0., 0., 0., 0., 0., 0., 0., 0., 0., 0., 0., 0.,\n",
            "       0., 0., 0., 0., 0., 0., 0., 0., 0., 0., 0., 0., 0., 0., 0., 0., 0.,\n",
            "       0., 0., 0., 0., 0., 0., 0., 0., 0., 0., 0., 0., 0., 0., 0., 0., 0.,\n",
            "       0., 0., 0., 0., 0., 0., 0., 0., 0., 0., 0., 0., 0., 0., 0., 0., 0.,\n",
            "       0., 0., 0., 0., 0., 0., 0., 0., 0., 0., 0., 0., 0., 0., 0., 0., 0.,\n",
            "       0., 0., 0., 0., 0., 0., 0., 0., 0., 0., 0., 0., 0., 0., 0., 0., 0.,\n",
            "       0., 0., 0., 0., 0., 0., 0., 0., 0., 0., 0., 0., 0., 0., 0., 0., 0.,\n",
            "       0., 0., 0., 0., 0., 0., 0., 0., 0., 0., 0., 0., 0., 0., 0., 0., 0.,\n",
            "       0., 0., 0., 0., 0., 0., 0., 0., 0., 0., 0., 0., 0., 0., 0., 0., 0.,\n",
            "       0., 0., 0., 0., 0., 0., 0., 0., 0., 0., 0., 0., 0., 0., 0., 0., 0.,\n",
            "       0., 0., 0., 0., 0., 0., 0., 0., 0., 0., 0., 0., 0., 0., 0., 0., 0.,\n",
            "       0., 0., 0., 0., 0., 0., 0., 0., 0., 0., 0., 0., 0., 0., 0., 0., 0.,\n",
            "       0., 0., 0., 0., 0., 0., 0., 0., 0., 0., 0., 0., 0., 0., 0., 0., 0.,\n",
            "       0., 0., 0., 0., 0., 0., 0.], dtype=float32)] <keras.initializers.initializers_v2.Zeros object at 0x7f8db57ce1d0>\n",
            "[array([[0., 0., 0., ..., 0., 0., 0.],\n",
            "       [0., 0., 0., ..., 0., 0., 0.],\n",
            "       [0., 0., 0., ..., 0., 0., 0.],\n",
            "       ...,\n",
            "       [0., 0., 0., ..., 0., 0., 0.],\n",
            "       [0., 0., 0., ..., 0., 0., 0.],\n",
            "       [0., 0., 0., ..., 0., 0., 0.]], dtype=float32), array([0., 0., 0., 0., 0., 0., 0., 0., 0., 0.], dtype=float32)] <keras.initializers.initializers_v2.Zeros object at 0x7f8db57ce1d0>\n"
          ]
        }
      ]
    },
    {
      "cell_type": "markdown",
      "metadata": {
        "id": "0c75ff71"
      },
      "source": [
        "Train the model on the dataset and display the values. Are you shocked ? "
      ],
      "id": "0c75ff71"
    },
    {
      "cell_type": "code",
      "metadata": {
        "id": "3777c8ca",
        "colab": {
          "base_uri": "https://localhost:8080/"
        },
        "outputId": "6fea6fc2-257a-4eb2-88e6-d3aa3158c266"
      },
      "source": [
        "new_selu_model_history = new_selu_model.fit(X_train, y_train, epochs=10, validation_split=0.3, callbacks=[LogCallback()])\n",
        "new_selu_model_history"
      ],
      "id": "3777c8ca",
      "execution_count": null,
      "outputs": [
        {
          "output_type": "stream",
          "name": "stdout",
          "text": [
            "Epoch 1/10\n",
            "1311/1313 [============================>.] - ETA: 0s - loss: 2.3027 - accuracy: 0.0982\n",
            "\n",
            "Train Loss = 2.3026764392852783\n",
            "Validation Loss = 2.3027470111846924\n",
            "Epoch =  0\n",
            "\n",
            "1313/1313 [==============================] - 17s 13ms/step - loss: 2.3027 - accuracy: 0.0981 - val_loss: 2.3027 - val_accuracy: 0.0971\n",
            "Epoch 2/10\n",
            "1309/1313 [============================>.] - ETA: 0s - loss: 2.3027 - accuracy: 0.1008\n",
            "\n",
            "Train Loss = 2.302657127380371\n",
            "Validation Loss = 2.3027477264404297\n",
            "Epoch =  1\n",
            "\n",
            "1313/1313 [==============================] - 16s 12ms/step - loss: 2.3027 - accuracy: 0.1008 - val_loss: 2.3027 - val_accuracy: 0.0971\n",
            "Epoch 3/10\n",
            "1312/1313 [============================>.] - ETA: 0s - loss: 2.3027 - accuracy: 0.0982\n",
            "\n",
            "Train Loss = 2.302661180496216\n",
            "Validation Loss = 2.3027679920196533\n",
            "Epoch =  2\n",
            "\n",
            "1313/1313 [==============================] - 16s 12ms/step - loss: 2.3027 - accuracy: 0.0982 - val_loss: 2.3028 - val_accuracy: 0.0971\n",
            "Epoch 4/10\n",
            "1311/1313 [============================>.] - ETA: 0s - loss: 2.3027 - accuracy: 0.1004\n",
            "\n",
            "Train Loss = 2.3026721477508545\n",
            "Validation Loss = 2.302776575088501\n",
            "Epoch =  3\n",
            "\n",
            "1313/1313 [==============================] - 16s 12ms/step - loss: 2.3027 - accuracy: 0.1005 - val_loss: 2.3028 - val_accuracy: 0.0976\n",
            "Epoch 5/10\n",
            "1310/1313 [============================>.] - ETA: 0s - loss: 2.3027 - accuracy: 0.1011\n",
            "\n",
            "Train Loss = 2.302664279937744\n",
            "Validation Loss = 2.3027713298797607\n",
            "Epoch =  4\n",
            "\n",
            "1313/1313 [==============================] - 16s 12ms/step - loss: 2.3027 - accuracy: 0.1010 - val_loss: 2.3028 - val_accuracy: 0.0971\n",
            "Epoch 6/10\n",
            "1312/1313 [============================>.] - ETA: 0s - loss: 2.3027 - accuracy: 0.1002\n",
            "\n",
            "Train Loss = 2.302659511566162\n",
            "Validation Loss = 2.3028006553649902\n",
            "Epoch =  5\n",
            "\n",
            "1313/1313 [==============================] - 17s 13ms/step - loss: 2.3027 - accuracy: 0.1002 - val_loss: 2.3028 - val_accuracy: 0.0971\n",
            "Epoch 7/10\n",
            "1311/1313 [============================>.] - ETA: 0s - loss: 2.3027 - accuracy: 0.0984\n",
            "\n",
            "Train Loss = 2.3026678562164307\n",
            "Validation Loss = 2.3027560710906982\n",
            "Epoch =  6\n",
            "\n",
            "1313/1313 [==============================] - 17s 13ms/step - loss: 2.3027 - accuracy: 0.0984 - val_loss: 2.3028 - val_accuracy: 0.0971\n",
            "Epoch 8/10\n",
            "1310/1313 [============================>.] - ETA: 0s - loss: 2.3027 - accuracy: 0.0992\n",
            "\n",
            "Train Loss = 2.3026623725891113\n",
            "Validation Loss = 2.3027877807617188\n",
            "Epoch =  7\n",
            "\n",
            "1313/1313 [==============================] - 17s 13ms/step - loss: 2.3027 - accuracy: 0.0992 - val_loss: 2.3028 - val_accuracy: 0.0983\n",
            "Epoch 9/10\n",
            "1312/1313 [============================>.] - ETA: 0s - loss: 2.3026 - accuracy: 0.1004\n",
            "\n",
            "Train Loss = 2.3026490211486816\n",
            "Validation Loss = 2.3027684688568115\n",
            "Epoch =  8\n",
            "\n",
            "1313/1313 [==============================] - 17s 13ms/step - loss: 2.3026 - accuracy: 0.1004 - val_loss: 2.3028 - val_accuracy: 0.0976\n",
            "Epoch 10/10\n",
            "1310/1313 [============================>.] - ETA: 0s - loss: 2.3027 - accuracy: 0.0982\n",
            "\n",
            "Train Loss = 2.3026554584503174\n",
            "Validation Loss = 2.3028018474578857\n",
            "Epoch =  9\n",
            "\n",
            "1313/1313 [==============================] - 16s 12ms/step - loss: 2.3027 - accuracy: 0.0981 - val_loss: 2.3028 - val_accuracy: 0.0971\n"
          ]
        },
        {
          "output_type": "execute_result",
          "data": {
            "text/plain": [
              "<keras.callbacks.History at 0x7f8db575d150>"
            ]
          },
          "metadata": {},
          "execution_count": 70
        }
      ]
    },
    {
      "cell_type": "code",
      "metadata": {
        "colab": {
          "base_uri": "https://localhost:8080/",
          "height": 295
        },
        "id": "v_RRm0lqOdLl",
        "outputId": "c740cfdf-d414-487d-f2c1-7122ca3800ba"
      },
      "source": [
        "plt.plot(new_selu_model_history.history['loss'])\n",
        "plt.plot(new_selu_model_history.history['val_loss'])\n",
        "plt.title('New Selu model loss')\n",
        "plt.ylabel('Loss')\n",
        "plt.xlabel('Epoch')\n",
        "plt.legend(['Train', 'Validation'], loc='upper right')\n",
        "plt.show()"
      ],
      "id": "v_RRm0lqOdLl",
      "execution_count": null,
      "outputs": [
        {
          "output_type": "display_data",
          "data": {
            "image/png": "[encoded data removed]",
            "text/plain": [
              "<Figure size 432x288 with 1 Axes>"
            ]
          },
          "metadata": {
            "needs_background": "light"
          }
        }
      ]
    },
    {
      "cell_type": "code",
      "metadata": {
        "colab": {
          "base_uri": "https://localhost:8080/",
          "height": 295
        },
        "id": "WU_1YrMpmbMV",
        "outputId": "5714a8b1-0fe4-4cb7-be99-024c35cad7ee"
      },
      "source": [
        "plt.plot(new_selu_model_history.history['accuracy'])\n",
        "plt.plot(new_selu_model_history.history['val_accuracy'])\n",
        "plt.title('New Selu model accuracy')\n",
        "plt.ylabel('Accuracy')\n",
        "plt.xlabel('Epoch')\n",
        "plt.legend(['Train', 'Validation'], loc='upper right')\n",
        "plt.show()"
      ],
      "id": "WU_1YrMpmbMV",
      "execution_count": null,
      "outputs": [
        {
          "output_type": "display_data",
          "data": {
            "image/png": "[encoded data removed]",
            "text/plain": [
              "<Figure size 432x288 with 1 Axes>"
            ]
          },
          "metadata": {
            "needs_background": "light"
          }
        }
      ]
    },
    {
      "cell_type": "markdown",
      "metadata": {
        "id": "_DKXi7DDO87c"
      },
      "source": [
        "The loss is constantly around 2.303, which is not surprising as we've initialized all weights to 0, which means all outputs will remain at the bias value (which has been applied here the SeLu activation function) for each layer, which produces the same loss and will result in the output of the first layer as the final output. The accuracy is also terrible here"
      ],
      "id": "_DKXi7DDO87c"
    },
    {
      "cell_type": "markdown",
      "metadata": {
        "id": "47aa3e65"
      },
      "source": [
        "## Effect of the optimizer\n",
        "\n",
        "This time we want to study the effect of the optimization process on the network \n",
        "\n",
        "\n",
        "Instanciate the Optimizer SGD with a learning rate equaling to 0.1 and train the model "
      ],
      "id": "47aa3e65"
    },
    {
      "cell_type": "code",
      "metadata": {
        "id": "e3ebb1f2"
      },
      "source": [
        "opt = tf.keras.optimizers.SGD(learning_rate=0.1)"
      ],
      "id": "e3ebb1f2",
      "execution_count": null,
      "outputs": []
    },
    {
      "cell_type": "code",
      "metadata": {
        "id": "uVaT72ecfcVe"
      },
      "source": [
        "new_selu_model = Sequential()\n",
        "new_selu_model.add(Dense(units=800, activation='selu', input_shape=[image_height*image_width]))\n",
        "new_selu_model.add(Dense(units=500, activation='selu'))\n",
        "new_selu_model.add(Dense(units=class_count, activation='softmax')) # as many neurones as classes\n",
        "# softmax normalizes the model's outputs so that it looks like a proba distribution with Sum(output_i) = 1"
      ],
      "id": "uVaT72ecfcVe",
      "execution_count": null,
      "outputs": []
    },
    {
      "cell_type": "code",
      "metadata": {
        "id": "WVUOLagbfzoV"
      },
      "source": [
        "new_selu_model.compile(optimizer=opt, loss='sparse_categorical_crossentropy', metrics=['accuracy'])\n",
        "# categorical_crossentropy : used when class values are already one-hot-encoded\n",
        "# sparse_categorical_crossentropy : used when class values are not already one-hot-encoded"
      ],
      "id": "WVUOLagbfzoV",
      "execution_count": null,
      "outputs": []
    },
    {
      "cell_type": "code",
      "metadata": {
        "colab": {
          "base_uri": "https://localhost:8080/"
        },
        "id": "ADt5NkI3f80w",
        "outputId": "615eaece-47ff-4f8b-d8af-96fd289b5ce6"
      },
      "source": [
        "new_selu_model_history = new_selu_model.fit(X_train, y_train, epochs=10, validation_split=0.3, callbacks=[LogCallback()])\n",
        "new_selu_model_history"
      ],
      "id": "ADt5NkI3f80w",
      "execution_count": null,
      "outputs": [
        {
          "output_type": "stream",
          "name": "stdout",
          "text": [
            "Epoch 1/10\n",
            "1310/1313 [============================>.] - ETA: 0s - loss: 18.2765 - accuracy: 0.5098\n",
            "\n",
            "Train Loss = 18.25746726989746\n",
            "Validation Loss = 11.434158325195312\n",
            "Epoch =  0\n",
            "\n",
            "1313/1313 [==============================] - 17s 12ms/step - loss: 18.2575 - accuracy: 0.5102 - val_loss: 11.4342 - val_accuracy: 0.6938\n",
            "Epoch 2/10\n",
            "1313/1313 [==============================] - ETA: 0s - loss: 5.7245 - accuracy: 0.6950\n",
            "\n",
            "Train Loss = 5.724505424499512\n",
            "Validation Loss = 3.675302028656006\n",
            "Epoch =  1\n",
            "\n",
            "1313/1313 [==============================] - 16s 12ms/step - loss: 5.7245 - accuracy: 0.6950 - val_loss: 3.6753 - val_accuracy: 0.7727\n",
            "Epoch 3/10\n",
            "1311/1313 [============================>.] - ETA: 0s - loss: 3.6457 - accuracy: 0.7512\n",
            "\n",
            "Train Loss = 3.647031307220459\n",
            "Validation Loss = 12.113249778747559\n",
            "Epoch =  2\n",
            "\n",
            "1313/1313 [==============================] - 16s 12ms/step - loss: 3.6470 - accuracy: 0.7512 - val_loss: 12.1132 - val_accuracy: 0.6741\n",
            "Epoch 4/10\n",
            "1309/1313 [============================>.] - ETA: 0s - loss: 2.8650 - accuracy: 0.7778\n",
            "\n",
            "Train Loss = 2.8632943630218506\n",
            "Validation Loss = 2.06292462348938\n",
            "Epoch =  3\n",
            "\n",
            "1313/1313 [==============================] - 16s 12ms/step - loss: 2.8633 - accuracy: 0.7778 - val_loss: 2.0629 - val_accuracy: 0.7708\n",
            "Epoch 5/10\n",
            "1310/1313 [============================>.] - ETA: 0s - loss: 2.5674 - accuracy: 0.7925\n",
            "\n",
            "Train Loss = 2.567209482192993\n",
            "Validation Loss = 3.0380914211273193\n",
            "Epoch =  4\n",
            "\n",
            "1313/1313 [==============================] - 16s 12ms/step - loss: 2.5672 - accuracy: 0.7925 - val_loss: 3.0381 - val_accuracy: 0.7173\n",
            "Epoch 6/10\n",
            "1312/1313 [============================>.] - ETA: 0s - loss: 2.2369 - accuracy: 0.8031\n",
            "\n",
            "Train Loss = 2.2385032176971436\n",
            "Validation Loss = 7.1232008934021\n",
            "Epoch =  5\n",
            "\n",
            "1313/1313 [==============================] - 16s 12ms/step - loss: 2.2385 - accuracy: 0.8030 - val_loss: 7.1232 - val_accuracy: 0.6700\n",
            "Epoch 7/10\n",
            "1309/1313 [============================>.] - ETA: 0s - loss: 2.1788 - accuracy: 0.8086\n",
            "\n",
            "Train Loss = 2.180089235305786\n",
            "Validation Loss = 4.090946674346924\n",
            "Epoch =  6\n",
            "\n",
            "1313/1313 [==============================] - 16s 12ms/step - loss: 2.1801 - accuracy: 0.8085 - val_loss: 4.0909 - val_accuracy: 0.7688\n",
            "Epoch 8/10\n",
            "1309/1313 [============================>.] - ETA: 0s - loss: 1.9718 - accuracy: 0.8207\n",
            "\n",
            "Train Loss = 1.9708824157714844\n",
            "Validation Loss = 1.252637267112732\n",
            "Epoch =  7\n",
            "\n",
            "1313/1313 [==============================] - 16s 12ms/step - loss: 1.9709 - accuracy: 0.8207 - val_loss: 1.2526 - val_accuracy: 0.8369\n",
            "Epoch 9/10\n",
            "1308/1313 [============================>.] - ETA: 0s - loss: 1.8535 - accuracy: 0.8268\n",
            "\n",
            "Train Loss = 1.856061577796936\n",
            "Validation Loss = 3.688023328781128\n",
            "Epoch =  8\n",
            "\n",
            "1313/1313 [==============================] - 16s 12ms/step - loss: 1.8561 - accuracy: 0.8267 - val_loss: 3.6880 - val_accuracy: 0.6631\n",
            "Epoch 10/10\n",
            "1309/1313 [============================>.] - ETA: 0s - loss: 1.7585 - accuracy: 0.8303\n",
            "\n",
            "Train Loss = 1.7559120655059814\n",
            "Validation Loss = 1.8578802347183228\n",
            "Epoch =  9\n",
            "\n",
            "1313/1313 [==============================] - 16s 12ms/step - loss: 1.7559 - accuracy: 0.8305 - val_loss: 1.8579 - val_accuracy: 0.8375\n"
          ]
        },
        {
          "output_type": "execute_result",
          "data": {
            "text/plain": [
              "<keras.callbacks.History at 0x7f8db56c7910>"
            ]
          },
          "metadata": {},
          "execution_count": 76
        }
      ]
    },
    {
      "cell_type": "code",
      "metadata": {
        "colab": {
          "base_uri": "https://localhost:8080/",
          "height": 295
        },
        "id": "kiFfzoB3qmo6",
        "outputId": "826f8723-f0ba-4442-dc6c-0626bec70cb6"
      },
      "source": [
        "plt.plot(new_selu_model_history.history['loss'])\n",
        "plt.plot(new_selu_model_history.history['val_loss'])\n",
        "plt.title('New Selu model loss')\n",
        "plt.ylabel('Loss')\n",
        "plt.xlabel('Epoch')\n",
        "plt.legend(['Train', 'Validation'], loc='upper right')\n",
        "plt.show()"
      ],
      "id": "kiFfzoB3qmo6",
      "execution_count": null,
      "outputs": [
        {
          "output_type": "display_data",
          "data": {
            "image/png": "[encoded data removed]",
            "text/plain": [
              "<Figure size 432x288 with 1 Axes>"
            ]
          },
          "metadata": {
            "needs_background": "light"
          }
        }
      ]
    },
    {
      "cell_type": "code",
      "metadata": {
        "colab": {
          "base_uri": "https://localhost:8080/",
          "height": 295
        },
        "id": "RJH-S9qurxkO",
        "outputId": "1df0e998-fa57-45b6-dc5f-fd83f6ec323f"
      },
      "source": [
        "plt.plot(new_selu_model_history.history['accuracy'])\n",
        "plt.plot(new_selu_model_history.history['val_accuracy'])\n",
        "plt.title('New Selu model accuracy')\n",
        "plt.ylabel('Accuracy')\n",
        "plt.xlabel('Epoch')\n",
        "plt.legend(['Train', 'Validation'], loc='upper right')\n",
        "plt.show()"
      ],
      "id": "RJH-S9qurxkO",
      "execution_count": null,
      "outputs": [
        {
          "output_type": "display_data",
          "data": {
            "image/png": "[encoded data removed]",
            "text/plain": [
              "<Figure size 432x288 with 1 Axes>"
            ]
          },
          "metadata": {
            "needs_background": "light"
          }
        }
      ]
    },
    {
      "cell_type": "markdown",
      "metadata": {
        "id": "093bf522"
      },
      "source": [
        "Do the same with a learning rate of 0.01"
      ],
      "id": "093bf522"
    },
    {
      "cell_type": "code",
      "metadata": {
        "id": "bf917dc8"
      },
      "source": [
        "opt = tf.keras.optimizers.SGD(learning_rate=0.01)"
      ],
      "id": "bf917dc8",
      "execution_count": null,
      "outputs": []
    },
    {
      "cell_type": "code",
      "metadata": {
        "id": "y4njgsb9sRFH"
      },
      "source": [
        "new_selu_model = Sequential()\n",
        "new_selu_model.add(Dense(units=800, activation='selu', input_shape=[image_height*image_width]))\n",
        "new_selu_model.add(Dense(units=500, activation='selu'))\n",
        "new_selu_model.add(Dense(units=class_count, activation='softmax')) # as many neurones as classes\n",
        "# softmax normalizes the model's outputs so that it looks like a proba distribution with Sum(output_i) = 1"
      ],
      "id": "y4njgsb9sRFH",
      "execution_count": null,
      "outputs": []
    },
    {
      "cell_type": "code",
      "metadata": {
        "id": "KKmNMlZQsUBC"
      },
      "source": [
        "new_selu_model.compile(optimizer=opt, loss='sparse_categorical_crossentropy', metrics=['accuracy'])\n",
        "# categorical_crossentropy : used when class values are already one-hot-encoded\n",
        "# sparse_categorical_crossentropy : used when class values are not already one-hot-encoded"
      ],
      "id": "KKmNMlZQsUBC",
      "execution_count": null,
      "outputs": []
    },
    {
      "cell_type": "code",
      "metadata": {
        "colab": {
          "base_uri": "https://localhost:8080/"
        },
        "id": "RlHv-kuMsW11",
        "outputId": "38ff1f8c-13c0-48fb-c89d-4691d4f59409"
      },
      "source": [
        "new_selu_model_history = new_selu_model.fit(X_train, y_train, epochs=10, validation_split=0.3, callbacks=[LogCallback()])\n",
        "new_selu_model_history"
      ],
      "id": "RlHv-kuMsW11",
      "execution_count": null,
      "outputs": [
        {
          "output_type": "stream",
          "name": "stdout",
          "text": [
            "Epoch 1/10\n",
            "1309/1313 [============================>.] - ETA: 0s - loss: 0.5786 - accuracy: 0.7971\n",
            "\n",
            "Train Loss = 0.5785651803016663\n",
            "Validation Loss = 0.4808866083621979\n",
            "Epoch =  0\n",
            "\n",
            "1313/1313 [==============================] - 18s 14ms/step - loss: 0.5786 - accuracy: 0.7970 - val_loss: 0.4809 - val_accuracy: 0.8253\n",
            "Epoch 2/10\n",
            "1311/1313 [============================>.] - ETA: 0s - loss: 0.4505 - accuracy: 0.8407\n",
            "\n",
            "Train Loss = 0.45032551884651184\n",
            "Validation Loss = 0.483048677444458\n",
            "Epoch =  1\n",
            "\n",
            "1313/1313 [==============================] - 20s 15ms/step - loss: 0.4503 - accuracy: 0.8406 - val_loss: 0.4830 - val_accuracy: 0.8321\n",
            "Epoch 3/10\n",
            "1311/1313 [============================>.] - ETA: 0s - loss: 0.4198 - accuracy: 0.8507\n",
            "\n",
            "Train Loss = 0.419790118932724\n",
            "Validation Loss = 0.4297320544719696\n",
            "Epoch =  2\n",
            "\n",
            "1313/1313 [==============================] - 17s 13ms/step - loss: 0.4198 - accuracy: 0.8507 - val_loss: 0.4297 - val_accuracy: 0.8499\n",
            "Epoch 4/10\n",
            "1310/1313 [============================>.] - ETA: 0s - loss: 0.4023 - accuracy: 0.8578\n",
            "\n",
            "Train Loss = 0.40227413177490234\n",
            "Validation Loss = 0.4346075654029846\n",
            "Epoch =  3\n",
            "\n",
            "1313/1313 [==============================] - 18s 14ms/step - loss: 0.4023 - accuracy: 0.8578 - val_loss: 0.4346 - val_accuracy: 0.8533\n",
            "Epoch 5/10\n",
            "1308/1313 [============================>.] - ETA: 0s - loss: 0.3891 - accuracy: 0.8621\n",
            "\n",
            "Train Loss = 0.38924410939216614\n",
            "Validation Loss = 0.42187759280204773\n",
            "Epoch =  4\n",
            "\n",
            "1313/1313 [==============================] - 17s 13ms/step - loss: 0.3892 - accuracy: 0.8620 - val_loss: 0.4219 - val_accuracy: 0.8509\n",
            "Epoch 6/10\n",
            "1313/1313 [==============================] - ETA: 0s - loss: 0.3769 - accuracy: 0.8659\n",
            "\n",
            "Train Loss = 0.3768669664859772\n",
            "Validation Loss = 0.42274010181427\n",
            "Epoch =  5\n",
            "\n",
            "1313/1313 [==============================] - 18s 14ms/step - loss: 0.3769 - accuracy: 0.8659 - val_loss: 0.4227 - val_accuracy: 0.8487\n",
            "Epoch 7/10\n",
            "1313/1313 [==============================] - ETA: 0s - loss: 0.3668 - accuracy: 0.8685\n",
            "\n",
            "Train Loss = 0.36675867438316345\n",
            "Validation Loss = 0.40063026547431946\n",
            "Epoch =  6\n",
            "\n",
            "1313/1313 [==============================] - 17s 13ms/step - loss: 0.3668 - accuracy: 0.8685 - val_loss: 0.4006 - val_accuracy: 0.8552\n",
            "Epoch 8/10\n",
            "1310/1313 [============================>.] - ETA: 0s - loss: 0.3567 - accuracy: 0.8724\n",
            "\n",
            "Train Loss = 0.35706156492233276\n",
            "Validation Loss = 0.38230717182159424\n",
            "Epoch =  7\n",
            "\n",
            "1313/1313 [==============================] - 17s 13ms/step - loss: 0.3571 - accuracy: 0.8723 - val_loss: 0.3823 - val_accuracy: 0.8663\n",
            "Epoch 9/10\n",
            "1310/1313 [============================>.] - ETA: 0s - loss: 0.3487 - accuracy: 0.8754\n",
            "\n",
            "Train Loss = 0.3486471176147461\n",
            "Validation Loss = 0.36825844645500183\n",
            "Epoch =  8\n",
            "\n",
            "1313/1313 [==============================] - 17s 13ms/step - loss: 0.3486 - accuracy: 0.8754 - val_loss: 0.3683 - val_accuracy: 0.8700\n",
            "Epoch 10/10\n",
            "1312/1313 [============================>.] - ETA: 0s - loss: 0.3429 - accuracy: 0.8771\n",
            "\n",
            "Train Loss = 0.34292328357696533\n",
            "Validation Loss = 0.3878704607486725\n",
            "Epoch =  9\n",
            "\n",
            "1313/1313 [==============================] - 17s 13ms/step - loss: 0.3429 - accuracy: 0.8771 - val_loss: 0.3879 - val_accuracy: 0.8595\n"
          ]
        },
        {
          "output_type": "execute_result",
          "data": {
            "text/plain": [
              "<keras.callbacks.History at 0x7f8db7ec2a50>"
            ]
          },
          "metadata": {},
          "execution_count": 82
        }
      ]
    },
    {
      "cell_type": "code",
      "metadata": {
        "colab": {
          "base_uri": "https://localhost:8080/",
          "height": 295
        },
        "id": "XJ7bD9dUtLuS",
        "outputId": "575e7b4e-1ce8-4de9-a3a2-15a0aa5ac0b8"
      },
      "source": [
        "plt.plot(new_selu_model_history.history['loss'])\n",
        "plt.plot(new_selu_model_history.history['val_loss'])\n",
        "plt.title('New Selu model loss')\n",
        "plt.ylabel('Loss')\n",
        "plt.xlabel('Epoch')\n",
        "plt.legend(['Train', 'Validation'], loc='upper right')\n",
        "plt.show()"
      ],
      "id": "XJ7bD9dUtLuS",
      "execution_count": null,
      "outputs": [
        {
          "output_type": "display_data",
          "data": {
            "image/png": "[encoded data removed]",
            "text/plain": [
              "<Figure size 432x288 with 1 Axes>"
            ]
          },
          "metadata": {
            "needs_background": "light"
          }
        }
      ]
    },
    {
      "cell_type": "code",
      "metadata": {
        "colab": {
          "base_uri": "https://localhost:8080/",
          "height": 295
        },
        "id": "X8GINM9RtOck",
        "outputId": "defdbeb4-9d10-4ae5-a7a6-66d33fa3a9d9"
      },
      "source": [
        "plt.plot(new_selu_model_history.history['accuracy'])\n",
        "plt.plot(new_selu_model_history.history['val_accuracy'])\n",
        "plt.title('New Selu model accuracy')\n",
        "plt.ylabel('Accuracy')\n",
        "plt.xlabel('Epoch')\n",
        "plt.legend(['Train', 'Validation'], loc='upper right')\n",
        "plt.show()"
      ],
      "id": "X8GINM9RtOck",
      "execution_count": null,
      "outputs": [
        {
          "output_type": "display_data",
          "data": {
            "image/png": "[encoded data removed]",
            "text/plain": [
              "<Figure size 432x288 with 1 Axes>"
            ]
          },
          "metadata": {
            "needs_background": "light"
          }
        }
      ]
    },
    {
      "cell_type": "markdown",
      "metadata": {
        "id": "30b30477"
      },
      "source": [
        "Do the same with a learning rate of 0.9. Does it still work ? "
      ],
      "id": "30b30477"
    },
    {
      "cell_type": "code",
      "metadata": {
        "id": "59fd8c53"
      },
      "source": [
        "opt = tf.keras.optimizers.SGD(learning_rate=0.9)"
      ],
      "id": "59fd8c53",
      "execution_count": null,
      "outputs": []
    },
    {
      "cell_type": "code",
      "metadata": {
        "id": "CVpQSeYit6Hs"
      },
      "source": [
        "new_selu_model = Sequential()\n",
        "new_selu_model.add(Dense(units=800, activation='selu', input_shape=[image_height*image_width]))\n",
        "new_selu_model.add(Dense(units=500, activation='selu'))\n",
        "new_selu_model.add(Dense(units=class_count, activation='softmax')) # as many neurones as classes\n",
        "# softmax normalizes the model's outputs so that it looks like a proba distribution with Sum(output_i) = 1"
      ],
      "id": "CVpQSeYit6Hs",
      "execution_count": null,
      "outputs": []
    },
    {
      "cell_type": "code",
      "metadata": {
        "id": "Iyav5W7Bt8IS"
      },
      "source": [
        "new_selu_model.compile(optimizer=opt, loss='sparse_categorical_crossentropy', metrics=['accuracy'])\n",
        "# categorical_crossentropy : used when class values are already one-hot-encoded\n",
        "# sparse_categorical_crossentropy : used when class values are not already one-hot-encoded"
      ],
      "id": "Iyav5W7Bt8IS",
      "execution_count": null,
      "outputs": []
    },
    {
      "cell_type": "code",
      "metadata": {
        "colab": {
          "base_uri": "https://localhost:8080/"
        },
        "id": "Wugso49Yt-KW",
        "outputId": "1d55e850-6891-4df0-f8d7-96e6e9a5b315"
      },
      "source": [
        "new_selu_model_history = new_selu_model.fit(X_train, y_train, epochs=10, validation_split=0.3, callbacks=[LogCallback()])\n",
        "new_selu_model_history"
      ],
      "id": "Wugso49Yt-KW",
      "execution_count": null,
      "outputs": [
        {
          "output_type": "stream",
          "name": "stdout",
          "text": [
            "Epoch 1/10\n",
            "1313/1313 [==============================] - ETA: 0s - loss: nan - accuracy: 0.0998\n",
            "\n",
            "Train Loss = nan\n",
            "Validation Loss = nan\n",
            "Epoch =  0\n",
            "\n",
            "1313/1313 [==============================] - 17s 13ms/step - loss: nan - accuracy: 0.0998 - val_loss: nan - val_accuracy: 0.1008\n",
            "Epoch 2/10\n",
            "1310/1313 [============================>.] - ETA: 0s - loss: nan - accuracy: 0.0996\n",
            "\n",
            "Train Loss = nan\n",
            "Validation Loss = nan\n",
            "Epoch =  1\n",
            "\n",
            "1313/1313 [==============================] - 17s 13ms/step - loss: nan - accuracy: 0.0996 - val_loss: nan - val_accuracy: 0.1008\n",
            "Epoch 3/10\n",
            "1312/1313 [============================>.] - ETA: 0s - loss: nan - accuracy: 0.0997\n",
            "\n",
            "Train Loss = nan\n",
            "Validation Loss = nan\n",
            "Epoch =  2\n",
            "\n",
            "1313/1313 [==============================] - 16s 12ms/step - loss: nan - accuracy: 0.0996 - val_loss: nan - val_accuracy: 0.1008\n",
            "Epoch 4/10\n",
            "1313/1313 [==============================] - ETA: 0s - loss: nan - accuracy: 0.0996\n",
            "\n",
            "Train Loss = nan\n",
            "Validation Loss = nan\n",
            "Epoch =  3\n",
            "\n",
            "1313/1313 [==============================] - 17s 13ms/step - loss: nan - accuracy: 0.0996 - val_loss: nan - val_accuracy: 0.1008\n",
            "Epoch 5/10\n",
            "1310/1313 [============================>.] - ETA: 0s - loss: nan - accuracy: 0.0997\n",
            "\n",
            "Train Loss = nan\n",
            "Validation Loss = nan\n",
            "Epoch =  4\n",
            "\n",
            "1313/1313 [==============================] - 18s 13ms/step - loss: nan - accuracy: 0.0996 - val_loss: nan - val_accuracy: 0.1008\n",
            "Epoch 6/10\n",
            "1310/1313 [============================>.] - ETA: 0s - loss: nan - accuracy: 0.0997\n",
            "\n",
            "Train Loss = nan\n",
            "Validation Loss = nan\n",
            "Epoch =  5\n",
            "\n",
            "1313/1313 [==============================] - 18s 14ms/step - loss: nan - accuracy: 0.0996 - val_loss: nan - val_accuracy: 0.1008\n",
            "Epoch 7/10\n",
            "1311/1313 [============================>.] - ETA: 0s - loss: nan - accuracy: 0.0996\n",
            "\n",
            "Train Loss = nan\n",
            "Validation Loss = nan\n",
            "Epoch =  6\n",
            "\n",
            "1313/1313 [==============================] - 21s 16ms/step - loss: nan - accuracy: 0.0996 - val_loss: nan - val_accuracy: 0.1008\n",
            "Epoch 8/10\n",
            "1311/1313 [============================>.] - ETA: 0s - loss: nan - accuracy: 0.0997\n",
            "\n",
            "Train Loss = nan\n",
            "Validation Loss = nan\n",
            "Epoch =  7\n",
            "\n",
            "1313/1313 [==============================] - 18s 13ms/step - loss: nan - accuracy: 0.0996 - val_loss: nan - val_accuracy: 0.1008\n",
            "Epoch 9/10\n",
            "1312/1313 [============================>.] - ETA: 0s - loss: nan - accuracy: 0.0997\n",
            "\n",
            "Train Loss = nan\n",
            "Validation Loss = nan\n",
            "Epoch =  8\n",
            "\n",
            "1313/1313 [==============================] - 18s 14ms/step - loss: nan - accuracy: 0.0996 - val_loss: nan - val_accuracy: 0.1008\n",
            "Epoch 10/10\n",
            "1312/1313 [============================>.] - ETA: 0s - loss: nan - accuracy: 0.0996\n",
            "\n",
            "Train Loss = nan\n",
            "Validation Loss = nan\n",
            "Epoch =  9\n",
            "\n",
            "1313/1313 [==============================] - 20s 15ms/step - loss: nan - accuracy: 0.0996 - val_loss: nan - val_accuracy: 0.1008\n"
          ]
        },
        {
          "output_type": "execute_result",
          "data": {
            "text/plain": [
              "<keras.callbacks.History at 0x7f8db548ae90>"
            ]
          },
          "metadata": {},
          "execution_count": 102
        }
      ]
    },
    {
      "cell_type": "markdown",
      "metadata": {
        "id": "Z8-1XBmvxijU"
      },
      "source": [
        "The loss seems \"broken\" with nan values and the accuracy is very weak"
      ],
      "id": "Z8-1XBmvxijU"
    },
    {
      "cell_type": "markdown",
      "metadata": {
        "id": "ff75e310"
      },
      "source": [
        "Use the callback Reduce learning rate on plateau (https://keras.io/api/callbacks/reduce_lr_on_plateau/) and start with a pretty high learning rate. Is the learning faster ?\n"
      ],
      "id": "ff75e310"
    },
    {
      "cell_type": "code",
      "metadata": {
        "id": "uxDszKU9bJCj"
      },
      "source": [
        "initial_learning_rate = 0.7\n",
        "min_learning_rate = 0.01"
      ],
      "id": "uxDszKU9bJCj",
      "execution_count": null,
      "outputs": []
    },
    {
      "cell_type": "code",
      "metadata": {
        "id": "c60ecdb9"
      },
      "source": [
        "# We configure it to reduce the learning rate to the min immediatly after each epoch\n",
        "# when the accuracy does not improve.\n",
        "# Validation accuracy is monitored here instead of the loss because the loss takes either a veeeery big value \n",
        "# or nan when it's too big for an int.\n",
        "# Here we aim to directly attain the min learning rate of 0.01 that seemed pretty performant before\n",
        "reduce_lr = tf.keras.callbacks.ReduceLROnPlateau(monitor='val_accuracy', factor=min_learning_rate/initial_learning_rate, patience=0, min_lr=min_learning_rate, min_delta=0)"
      ],
      "id": "c60ecdb9",
      "execution_count": null,
      "outputs": []
    },
    {
      "cell_type": "code",
      "metadata": {
        "id": "ntE6oVMP7pAp"
      },
      "source": [
        "opt = tf.keras.optimizers.SGD(learning_rate=initial_learning_rate)"
      ],
      "id": "ntE6oVMP7pAp",
      "execution_count": null,
      "outputs": []
    },
    {
      "cell_type": "code",
      "metadata": {
        "id": "QfBho2Wk7to_"
      },
      "source": [
        "new_selu_model = Sequential()\n",
        "new_selu_model.add(Dense(units=800, activation='selu', input_shape=[image_height*image_width]))\n",
        "new_selu_model.add(Dense(units=500, activation='selu'))\n",
        "new_selu_model.add(Dense(units=class_count, activation='softmax')) # as many neurones as classes\n",
        "# softmax normalizes the model's outputs so that it looks like a proba distribution with Sum(output_i) = 1"
      ],
      "id": "QfBho2Wk7to_",
      "execution_count": null,
      "outputs": []
    },
    {
      "cell_type": "code",
      "metadata": {
        "id": "qIeRiwk-7vpv"
      },
      "source": [
        "new_selu_model.compile(optimizer=opt, loss='sparse_categorical_crossentropy', metrics=['accuracy'])\n",
        "# categorical_crossentropy : used when class values are already one-hot-encoded\n",
        "# sparse_categorical_crossentropy : used when class values are not already one-hot-encoded"
      ],
      "id": "qIeRiwk-7vpv",
      "execution_count": null,
      "outputs": []
    },
    {
      "cell_type": "code",
      "metadata": {
        "id": "O1AOITIM7yr3",
        "colab": {
          "base_uri": "https://localhost:8080/"
        },
        "outputId": "87b0bc61-8e28-435d-b1de-6ddc8f9cdac1"
      },
      "source": [
        "new_selu_model_history = new_selu_model.fit(X_train, y_train, epochs=10, validation_split=0.3, callbacks=[LogCallback(), reduce_lr])\n",
        "new_selu_model_history"
      ],
      "id": "O1AOITIM7yr3",
      "execution_count": null,
      "outputs": [
        {
          "output_type": "stream",
          "name": "stdout",
          "text": [
            "Epoch 1/10\n",
            "1312/1313 [============================>.] - ETA: 0s - loss: nan - accuracy: 0.0998\n",
            "\n",
            "Train Loss = nan\n",
            "Validation Loss = nan\n",
            "Epoch =  0\n",
            "\n",
            "1313/1313 [==============================] - 14s 10ms/step - loss: nan - accuracy: 0.0998 - val_loss: nan - val_accuracy: 0.1008 - lr: 0.7000\n",
            "Epoch 2/10\n",
            "1311/1313 [============================>.] - ETA: 0s - loss: nan - accuracy: 0.0996\n",
            "\n",
            "Train Loss = nan\n",
            "Validation Loss = nan\n",
            "Epoch =  1\n",
            "\n",
            "1313/1313 [==============================] - 13s 10ms/step - loss: nan - accuracy: 0.0996 - val_loss: nan - val_accuracy: 0.1008 - lr: 0.7000\n",
            "Epoch 3/10\n",
            "1312/1313 [============================>.] - ETA: 0s - loss: nan - accuracy: 0.0996\n",
            "\n",
            "Train Loss = nan\n",
            "Validation Loss = nan\n",
            "Epoch =  2\n",
            "\n",
            "1313/1313 [==============================] - 13s 10ms/step - loss: nan - accuracy: 0.0996 - val_loss: nan - val_accuracy: 0.1008 - lr: 0.0100\n",
            "Epoch 4/10\n",
            "1311/1313 [============================>.] - ETA: 0s - loss: nan - accuracy: 0.0997\n",
            "\n",
            "Train Loss = nan\n",
            "Validation Loss = nan\n",
            "Epoch =  3\n",
            "\n",
            "1313/1313 [==============================] - 13s 10ms/step - loss: nan - accuracy: 0.0996 - val_loss: nan - val_accuracy: 0.1008 - lr: 0.0100\n",
            "Epoch 5/10\n",
            "1310/1313 [============================>.] - ETA: 0s - loss: nan - accuracy: 0.0996\n",
            "\n",
            "Train Loss = nan\n",
            "Validation Loss = nan\n",
            "Epoch =  4\n",
            "\n",
            "1313/1313 [==============================] - 13s 10ms/step - loss: nan - accuracy: 0.0996 - val_loss: nan - val_accuracy: 0.1008 - lr: 0.0100\n",
            "Epoch 6/10\n",
            "1311/1313 [============================>.] - ETA: 0s - loss: nan - accuracy: 0.0996\n",
            "\n",
            "Train Loss = nan\n",
            "Validation Loss = nan\n",
            "Epoch =  5\n",
            "\n",
            "1313/1313 [==============================] - 14s 10ms/step - loss: nan - accuracy: 0.0996 - val_loss: nan - val_accuracy: 0.1008 - lr: 0.0100\n",
            "Epoch 7/10\n",
            "1312/1313 [============================>.] - ETA: 0s - loss: nan - accuracy: 0.0996\n",
            "\n",
            "Train Loss = nan\n",
            "Validation Loss = nan\n",
            "Epoch =  6\n",
            "\n",
            "1313/1313 [==============================] - 13s 10ms/step - loss: nan - accuracy: 0.0996 - val_loss: nan - val_accuracy: 0.1008 - lr: 0.0100\n",
            "Epoch 8/10\n",
            "1312/1313 [============================>.] - ETA: 0s - loss: nan - accuracy: 0.0996\n",
            "\n",
            "Train Loss = nan\n",
            "Validation Loss = nan\n",
            "Epoch =  7\n",
            "\n",
            "1313/1313 [==============================] - 13s 10ms/step - loss: nan - accuracy: 0.0996 - val_loss: nan - val_accuracy: 0.1008 - lr: 0.0100\n",
            "Epoch 9/10\n",
            "1309/1313 [============================>.] - ETA: 0s - loss: nan - accuracy: 0.0996\n",
            "\n",
            "Train Loss = nan\n",
            "Validation Loss = nan\n",
            "Epoch =  8\n",
            "\n",
            "1313/1313 [==============================] - 14s 10ms/step - loss: nan - accuracy: 0.0996 - val_loss: nan - val_accuracy: 0.1008 - lr: 0.0100\n",
            "Epoch 10/10\n",
            "1309/1313 [============================>.] - ETA: 0s - loss: nan - accuracy: 0.0998\n",
            "\n",
            "Train Loss = nan\n",
            "Validation Loss = nan\n",
            "Epoch =  9\n",
            "\n",
            "1313/1313 [==============================] - 13s 10ms/step - loss: nan - accuracy: 0.0996 - val_loss: nan - val_accuracy: 0.1008 - lr: 0.0100\n"
          ]
        },
        {
          "output_type": "execute_result",
          "data": {
            "text/plain": [
              "<keras.callbacks.History at 0x7fad724f0b90>"
            ]
          },
          "metadata": {},
          "execution_count": 52
        }
      ]
    },
    {
      "cell_type": "markdown",
      "metadata": {
        "id": "Oc8PxUPoBqrX"
      },
      "source": [
        "It seems like a bad learning rate configured at first won't be fixed by reducing it "
      ],
      "id": "Oc8PxUPoBqrX"
    },
    {
      "cell_type": "code",
      "metadata": {
        "colab": {
          "base_uri": "https://localhost:8080/",
          "height": 295
        },
        "id": "H7NJb9NDYXUI",
        "outputId": "712adcf3-0839-482e-949c-5f37f84fdb5c"
      },
      "source": [
        "plt.plot(new_selu_model_history.history['loss'])\n",
        "plt.plot(new_selu_model_history.history['val_loss'])\n",
        "plt.title('New Selu model loss')\n",
        "plt.ylabel('Loss')\n",
        "plt.xlabel('Epoch')\n",
        "plt.legend(['Train', 'Validation'], loc='upper right')\n",
        "plt.show()"
      ],
      "id": "H7NJb9NDYXUI",
      "execution_count": null,
      "outputs": [
        {
          "output_type": "display_data",
          "data": {
            "image/png": "[encoded data removed]",
            "text/plain": [
              "<Figure size 432x288 with 1 Axes>"
            ]
          },
          "metadata": {
            "needs_background": "light"
          }
        }
      ]
    },
    {
      "cell_type": "code",
      "metadata": {
        "colab": {
          "base_uri": "https://localhost:8080/",
          "height": 295
        },
        "id": "Jn1JQs3cYaxj",
        "outputId": "a24e6b75-0aef-4689-bab8-220341793ba9"
      },
      "source": [
        "plt.plot(new_selu_model_history.history['accuracy'])\n",
        "plt.plot(new_selu_model_history.history['val_accuracy'])\n",
        "plt.title('New Selu model accuracy')\n",
        "plt.ylabel('Accuracy')\n",
        "plt.xlabel('Epoch')\n",
        "plt.legend(['Train', 'Validation'], loc='upper right')\n",
        "plt.show()"
      ],
      "id": "Jn1JQs3cYaxj",
      "execution_count": null,
      "outputs": [
        {
          "output_type": "display_data",
          "data": {
            "image/png": "[encoded data removed]",
            "text/plain": [
              "<Figure size 432x288 with 1 Axes>"
            ]
          },
          "metadata": {
            "needs_background": "light"
          }
        }
      ]
    },
    {
      "cell_type": "markdown",
      "metadata": {
        "id": "09a3b849"
      },
      "source": [
        "Bonus : with the https://keras.io/api/callbacks/learning_rate_scheduler/ \n",
        "\n",
        "Implement the cyclical learning rate schema as follow (from \"Cyclical Learning Rates for Training Neural Networks\" Smith - https://arxiv.org/abs/1506.01186)"
      ],
      "id": "09a3b849"
    },
    {
      "cell_type": "markdown",
      "metadata": {
        "id": "96a7c63d"
      },
      "source": [
        "![image-2.png](attachment:image-2.png)"
      ],
      "id": "96a7c63d"
    },
    {
      "cell_type": "markdown",
      "metadata": {
        "id": "o1kcdhl_OkpB"
      },
      "source": [
        "### Setting the cycle length"
      ],
      "id": "o1kcdhl_OkpB"
    },
    {
      "cell_type": "markdown",
      "metadata": {
        "id": "AV6leSeCoJqC"
      },
      "source": [
        "The paper suggests that we set the stepsize to \"2 - 10 times the number of iterations in an epoch\". The default batchsize of Keras being 32 and having 60 000 images, we will have 60 000 / 32 = 1875 iterations per epoch. Also, in the example provided in the paper, the iteration count was 500 and the stepsize set was 2000 which means the chosen factor was 4, which will also be chosen here accordingly"
      ],
      "id": "AV6leSeCoJqC"
    },
    {
      "cell_type": "code",
      "metadata": {
        "id": "cd887c81",
        "colab": {
          "base_uri": "https://localhost:8080/"
        },
        "outputId": "b66bf834-3410-4ae6-ecdd-4fcdc8dc639b"
      },
      "source": [
        "# Getting base iteration count\n",
        "DEFAULT_BATCHSIZE = 32\n",
        "STEP_SIZE_FACTOR = 4\n",
        "iteration_count = X_train.shape[0] /  DEFAULT_BATCHSIZE\n",
        "print('iteration_count : ', iteration_count)\n",
        "\n",
        "# Getting stepsize and cycle iteration count\n",
        "step_size = STEP_SIZE_FACTOR * iteration_count\n",
        "cycle_length = step_size * 2\n",
        "print('cycle_length :', cycle_length, 'iterations | step_size : ', step_size)\n",
        "\n",
        "# Getting max train epoch count accordingly\n",
        "epochs_per_cycle = cycle_length / iteration_count\n",
        "print('epochs per cycle : ', epochs_per_cycle)"
      ],
      "id": "cd887c81",
      "execution_count": 43,
      "outputs": [
        {
          "output_type": "stream",
          "name": "stdout",
          "text": [
            "iteration_count :  1875.0\n",
            "cycle_length : 15000.0 iterations | step_size :  7500.0\n",
            "epochs per cycle :  8.0\n"
          ]
        }
      ]
    },
    {
      "cell_type": "markdown",
      "metadata": {
        "id": "PZjhJNx_s2QJ"
      },
      "source": [
        "As the paper stated : \"it is best to stop training at the end of a cycle, which is when the learning rate is at the minimum value and the accuracy peaks\", which means we will only train the model for 8 epochs as each cycle will be comprised of 8 epochs"
      ],
      "id": "PZjhJNx_s2QJ"
    },
    {
      "cell_type": "markdown",
      "metadata": {
        "id": "C9uaW-azO8Kk"
      },
      "source": [
        "### Learning rate range test"
      ],
      "id": "C9uaW-azO8Kk"
    },
    {
      "cell_type": "markdown",
      "metadata": {
        "id": "OtpQOnZnQRyU"
      },
      "source": [
        "We are using the \"rule of the thumb\" which is described in the paper as \"setting base_lr to 1/3 or 1/4 of max_lr\""
      ],
      "id": "OtpQOnZnQRyU"
    },
    {
      "cell_type": "code",
      "metadata": {
        "id": "_JQFVIerO-uB"
      },
      "source": [
        "base_lr = 0.05\n",
        "max_lr = 0.2"
      ],
      "id": "_JQFVIerO-uB",
      "execution_count": null,
      "outputs": []
    },
    {
      "cell_type": "code",
      "metadata": {
        "id": "WaN0uwnxPzGv"
      },
      "source": [
        "opt = tf.keras.optimizers.SGD(learning_rate=base_lr)"
      ],
      "id": "WaN0uwnxPzGv",
      "execution_count": null,
      "outputs": []
    },
    {
      "cell_type": "code",
      "metadata": {
        "id": "Gny1sG1dSOkf"
      },
      "source": [
        "new_selu_model = Sequential()\n",
        "new_selu_model.add(Dense(units=800, activation='selu', input_shape=[image_height*image_width]))\n",
        "new_selu_model.add(Dense(units=500, activation='selu'))\n",
        "new_selu_model.add(Dense(units=class_count, activation='softmax')) # as many neurones as classes\n",
        "# softmax normalizes the model's outputs so that it looks like a proba distribution with Sum(output_i) = 1"
      ],
      "id": "Gny1sG1dSOkf",
      "execution_count": null,
      "outputs": []
    },
    {
      "cell_type": "code",
      "metadata": {
        "id": "_hr136EybQJv"
      },
      "source": [
        "def get_lr_metric(optimizer):\n",
        "    def lr(y_true, y_pred):\n",
        "        return optimizer.lr\n",
        "    return lr\n",
        "\n",
        "lr_metric = get_lr_metric(opt)"
      ],
      "id": "_hr136EybQJv",
      "execution_count": 39,
      "outputs": []
    },
    {
      "cell_type": "code",
      "metadata": {
        "id": "Y1pCDp7jSRVg"
      },
      "source": [
        "new_selu_model.compile(optimizer=opt, loss='sparse_categorical_crossentropy', metrics=['accuracy', lr_metric])\n",
        "# categorical_crossentropy : used when class values are already one-hot-encoded\n",
        "# sparse_categorical_crossentropy : used when class values are not already one-hot-encoded"
      ],
      "id": "Y1pCDp7jSRVg",
      "execution_count": null,
      "outputs": []
    },
    {
      "cell_type": "code",
      "metadata": {
        "id": "J282QILjSjKE"
      },
      "source": [
        "def scheduler(epoch, lr):\n",
        "  if epoch == 0:\n",
        "    return lr\n",
        "  else:\n",
        "    return lr + 0.05"
      ],
      "id": "J282QILjSjKE",
      "execution_count": null,
      "outputs": []
    },
    {
      "cell_type": "code",
      "metadata": {
        "id": "jeS34LFKScxh"
      },
      "source": [
        "scheduler_callback = tf.keras.callbacks.LearningRateScheduler(scheduler)"
      ],
      "id": "jeS34LFKScxh",
      "execution_count": null,
      "outputs": []
    },
    {
      "cell_type": "code",
      "metadata": {
        "colab": {
          "base_uri": "https://localhost:8080/"
        },
        "id": "eWu8LLMOSZET",
        "outputId": "b4fb9da5-0e58-47b4-d240-fd5d947b6637"
      },
      "source": [
        "new_selu_model_history = new_selu_model.fit(X_train, y_train, epochs=4, callbacks=[scheduler_callback])\n",
        "new_selu_model_history"
      ],
      "id": "eWu8LLMOSZET",
      "execution_count": null,
      "outputs": [
        {
          "output_type": "stream",
          "name": "stdout",
          "text": [
            "Epoch 1/4\n",
            "1875/1875 [==============================] - 8s 4ms/step - loss: 0.5551 - accuracy: 0.8099 - lr: 0.0500\n",
            "Epoch 2/4\n",
            "1875/1875 [==============================] - 7s 4ms/step - loss: 0.4917 - accuracy: 0.8257 - lr: 0.1000\n",
            "Epoch 3/4\n",
            "1875/1875 [==============================] - 7s 4ms/step - loss: 0.4996 - accuracy: 0.8266 - lr: 0.1500\n",
            "Epoch 4/4\n",
            "1875/1875 [==============================] - 7s 4ms/step - loss: 4471209784021506114894642909544448.0000 - accuracy: 0.1239 - lr: 0.2000\n"
          ]
        },
        {
          "output_type": "execute_result",
          "data": {
            "text/plain": [
              "<keras.callbacks.History at 0x7fd51001b110>"
            ]
          },
          "metadata": {},
          "execution_count": 133
        }
      ]
    },
    {
      "cell_type": "code",
      "metadata": {
        "colab": {
          "base_uri": "https://localhost:8080/",
          "height": 295
        },
        "id": "UQcbIgRrxlcI",
        "outputId": "99881d59-d512-4d4a-c746-1ae9d02d61d7"
      },
      "source": [
        "plt.plot(new_selu_model_history.history['lr'], new_selu_model_history.history['accuracy'])\n",
        "plt.title('New Selu model accuracy regarding LR')\n",
        "plt.ylabel('Accuracy')\n",
        "plt.xlabel('Learning rate')\n",
        "plt.show()"
      ],
      "id": "UQcbIgRrxlcI",
      "execution_count": null,
      "outputs": [
        {
          "output_type": "display_data",
          "data": {
            "image/png": "[encoded data removed]",
            "text/plain": [
              "<Figure size 432x288 with 1 Axes>"
            ]
          },
          "metadata": {
            "needs_background": "light"
          }
        }
      ]
    },
    {
      "cell_type": "markdown",
      "metadata": {
        "id": "jY1A9Lz4uxRw"
      },
      "source": [
        "The accuracy drops drastically from a learning rate of 0.15 along with a drastically increased loss. We will study this decrease in more details with more epochs. Also, we will reset min_lr to a lower value as the accuracy here seems to become stagnant from this lower bound value\n",
        "\n",
        "&nbsp;\n",
        "\n",
        "*Remark* : Multiple learning rate ranges were tried before getting to this one by simply increasing the max LR (and the min LR accordingly) at each attempt as long as the accuracy was improving "
      ],
      "id": "jY1A9Lz4uxRw"
    },
    {
      "cell_type": "code",
      "metadata": {
        "id": "oMw8YH14ylUl"
      },
      "source": [
        "base_lr = 0.02\n",
        "max_lr = 0.2"
      ],
      "id": "oMw8YH14ylUl",
      "execution_count": null,
      "outputs": []
    },
    {
      "cell_type": "code",
      "metadata": {
        "id": "N96GKohxwtlx"
      },
      "source": [
        "opt = tf.keras.optimizers.SGD(learning_rate=base_lr)"
      ],
      "id": "N96GKohxwtlx",
      "execution_count": null,
      "outputs": []
    },
    {
      "cell_type": "code",
      "metadata": {
        "id": "oQ4fJb1xw7Zn"
      },
      "source": [
        "new_selu_model = Sequential()\n",
        "new_selu_model.add(Dense(units=800, activation='selu', input_shape=[image_height*image_width]))\n",
        "new_selu_model.add(Dense(units=500, activation='selu'))\n",
        "new_selu_model.add(Dense(units=class_count, activation='softmax')) # as many neurones as classes\n",
        "# softmax normalizes the model's outputs so that it looks like a proba distribution with Sum(output_i) = 1"
      ],
      "id": "oQ4fJb1xw7Zn",
      "execution_count": null,
      "outputs": []
    },
    {
      "cell_type": "code",
      "metadata": {
        "id": "wOM16QcLwjrI"
      },
      "source": [
        "new_selu_model.compile(optimizer=opt, loss='sparse_categorical_crossentropy', metrics=['accuracy', lr_metric])\n",
        "# categorical_crossentropy : used when class values are already one-hot-encoded\n",
        "# sparse_categorical_crossentropy : used when class values are not already one-hot-encoded"
      ],
      "id": "wOM16QcLwjrI",
      "execution_count": null,
      "outputs": []
    },
    {
      "cell_type": "code",
      "metadata": {
        "id": "MVKbjMdTvMC7"
      },
      "source": [
        "def scheduler(epoch, lr):\n",
        "  if epoch == 0:\n",
        "    return lr\n",
        "  else:\n",
        "    return lr + 0.02"
      ],
      "id": "MVKbjMdTvMC7",
      "execution_count": null,
      "outputs": []
    },
    {
      "cell_type": "code",
      "metadata": {
        "id": "KEE3YjaVvTSd"
      },
      "source": [
        "scheduler_callback = tf.keras.callbacks.LearningRateScheduler(scheduler)"
      ],
      "id": "KEE3YjaVvTSd",
      "execution_count": null,
      "outputs": []
    },
    {
      "cell_type": "code",
      "metadata": {
        "colab": {
          "base_uri": "https://localhost:8080/"
        },
        "id": "nyebDdgQvU-R",
        "outputId": "66cdbc53-6ba0-4ffb-be0a-6b1a81fc42c2"
      },
      "source": [
        "new_selu_model_history = new_selu_model.fit(X_train, y_train, epochs=10, callbacks=[scheduler_callback])\n",
        "new_selu_model_history"
      ],
      "id": "nyebDdgQvU-R",
      "execution_count": null,
      "outputs": [
        {
          "output_type": "stream",
          "name": "stdout",
          "text": [
            "Epoch 1/10\n",
            "1875/1875 [==============================] - 8s 4ms/step - loss: 0.5334 - accuracy: 0.8124 - lr: 0.0200\n",
            "Epoch 2/10\n",
            "1875/1875 [==============================] - 8s 4ms/step - loss: 0.4640 - accuracy: 0.8338 - lr: 0.0400\n",
            "Epoch 3/10\n",
            "1875/1875 [==============================] - 8s 4ms/step - loss: 0.4380 - accuracy: 0.8428 - lr: 0.0600\n",
            "Epoch 4/10\n",
            "1875/1875 [==============================] - 8s 4ms/step - loss: 0.4196 - accuracy: 0.8498 - lr: 0.0800\n",
            "Epoch 5/10\n",
            "1875/1875 [==============================] - 8s 4ms/step - loss: 0.4119 - accuracy: 0.8525 - lr: 0.1000\n",
            "Epoch 6/10\n",
            "1875/1875 [==============================] - 8s 4ms/step - loss: 0.4096 - accuracy: 0.8535 - lr: 0.1200\n",
            "Epoch 7/10\n",
            "1875/1875 [==============================] - 8s 4ms/step - loss: 12474756096.0000 - accuracy: 0.4325 - lr: 0.1400\n",
            "Epoch 8/10\n",
            "1875/1875 [==============================] - 8s 4ms/step - loss: 64794760.0000 - accuracy: 0.1000 - lr: 0.1600\n",
            "Epoch 9/10\n",
            "1875/1875 [==============================] - 8s 4ms/step - loss: 64352788.0000 - accuracy: 0.1000 - lr: 0.1800\n",
            "Epoch 10/10\n",
            "1875/1875 [==============================] - 8s 4ms/step - loss: 63858964.0000 - accuracy: 0.1000 - lr: 0.2000\n"
          ]
        },
        {
          "output_type": "execute_result",
          "data": {
            "text/plain": [
              "<keras.callbacks.History at 0x7fd50fd897d0>"
            ]
          },
          "metadata": {},
          "execution_count": 148
        }
      ]
    },
    {
      "cell_type": "code",
      "metadata": {
        "colab": {
          "base_uri": "https://localhost:8080/",
          "height": 295
        },
        "id": "xxGLgURUgFll",
        "outputId": "f9016d6e-8680-4a8d-b7a7-cf221001a6f2"
      },
      "source": [
        "plt.plot(new_selu_model_history.history['lr'], new_selu_model_history.history['accuracy'])\n",
        "plt.title('New Selu model accuracy regarding LR')\n",
        "plt.ylabel('Accuracy')\n",
        "plt.xlabel('Learning rate')\n",
        "plt.show()"
      ],
      "id": "xxGLgURUgFll",
      "execution_count": null,
      "outputs": [
        {
          "output_type": "display_data",
          "data": {
            "image/png": "[encoded data removed]",
            "text/plain": [
              "<Figure size 432x288 with 1 Axes>"
            ]
          },
          "metadata": {
            "needs_background": "light"
          }
        }
      ]
    },
    {
      "cell_type": "markdown",
      "metadata": {
        "id": "zrYmyBt16Bf4"
      },
      "source": [
        "We will set ```max_lr``` to **0.12** and continue searching for ```min_lr``` as the accuracy was still pretty stagnant. We will still take 10 epochs so base_lr will be first set to ```max_lr``` / 10 = 0.012"
      ],
      "id": "zrYmyBt16Bf4"
    },
    {
      "cell_type": "code",
      "metadata": {
        "id": "IclbdFjL6vd3"
      },
      "source": [
        "base_lr = 0.012\n",
        "max_lr = 0.12"
      ],
      "id": "IclbdFjL6vd3",
      "execution_count": null,
      "outputs": []
    },
    {
      "cell_type": "code",
      "metadata": {
        "id": "yafCZ1up7OTd"
      },
      "source": [
        "opt = tf.keras.optimizers.SGD(learning_rate=base_lr)"
      ],
      "id": "yafCZ1up7OTd",
      "execution_count": null,
      "outputs": []
    },
    {
      "cell_type": "code",
      "metadata": {
        "id": "aZIu8obg7Qk8"
      },
      "source": [
        "new_selu_model = Sequential()\n",
        "new_selu_model.add(Dense(units=800, activation='selu', input_shape=[image_height*image_width]))\n",
        "new_selu_model.add(Dense(units=500, activation='selu'))\n",
        "new_selu_model.add(Dense(units=class_count, activation='softmax')) # as many neurones as classes\n",
        "# softmax normalizes the model's outputs so that it looks like a proba distribution with Sum(output_i) = 1"
      ],
      "id": "aZIu8obg7Qk8",
      "execution_count": null,
      "outputs": []
    },
    {
      "cell_type": "code",
      "metadata": {
        "id": "FMCVOZ9R7Upp"
      },
      "source": [
        "new_selu_model.compile(optimizer=opt, loss='sparse_categorical_crossentropy', metrics=['accuracy', lr_metric])\n",
        "# categorical_crossentropy : used when class values are already one-hot-encoded\n",
        "# sparse_categorical_crossentropy : used when class values are not already one-hot-encoded"
      ],
      "id": "FMCVOZ9R7Upp",
      "execution_count": null,
      "outputs": []
    },
    {
      "cell_type": "code",
      "metadata": {
        "id": "mE-cYp2X7XAA"
      },
      "source": [
        "def scheduler(epoch, lr):\n",
        "  if epoch == 0:\n",
        "    return lr\n",
        "  else:\n",
        "    return lr + 0.012"
      ],
      "id": "mE-cYp2X7XAA",
      "execution_count": null,
      "outputs": []
    },
    {
      "cell_type": "code",
      "metadata": {
        "id": "if_hge9_7XwK"
      },
      "source": [
        "scheduler_callback = tf.keras.callbacks.LearningRateScheduler(scheduler)"
      ],
      "id": "if_hge9_7XwK",
      "execution_count": null,
      "outputs": []
    },
    {
      "cell_type": "code",
      "metadata": {
        "colab": {
          "base_uri": "https://localhost:8080/"
        },
        "id": "SnKRr5ic7bgD",
        "outputId": "d7694b3d-93a5-4a4f-d0ae-7913a555a384"
      },
      "source": [
        "new_selu_model_history = new_selu_model.fit(X_train, y_train, epochs=10, callbacks=[scheduler_callback])\n",
        "new_selu_model_history"
      ],
      "id": "SnKRr5ic7bgD",
      "execution_count": null,
      "outputs": [
        {
          "output_type": "stream",
          "name": "stdout",
          "text": [
            "Epoch 1/10\n",
            "1875/1875 [==============================] - 8s 4ms/step - loss: 0.5377 - accuracy: 0.8113 - lr: 0.0120\n",
            "Epoch 2/10\n",
            "1875/1875 [==============================] - 7s 4ms/step - loss: 0.4595 - accuracy: 0.8361 - lr: 0.0240\n",
            "Epoch 3/10\n",
            "1875/1875 [==============================] - 7s 4ms/step - loss: 0.4347 - accuracy: 0.8443 - lr: 0.0360\n",
            "Epoch 4/10\n",
            "1875/1875 [==============================] - 7s 4ms/step - loss: 0.4117 - accuracy: 0.8515 - lr: 0.0480\n",
            "Epoch 5/10\n",
            "1875/1875 [==============================] - 7s 4ms/step - loss: 0.3969 - accuracy: 0.8555 - lr: 0.0600\n",
            "Epoch 6/10\n",
            "1875/1875 [==============================] - 8s 4ms/step - loss: 0.3865 - accuracy: 0.8596 - lr: 0.0720\n",
            "Epoch 7/10\n",
            "1875/1875 [==============================] - 7s 4ms/step - loss: 0.3773 - accuracy: 0.8634 - lr: 0.0840\n",
            "Epoch 8/10\n",
            "1875/1875 [==============================] - 7s 4ms/step - loss: 0.3765 - accuracy: 0.8640 - lr: 0.0960\n",
            "Epoch 9/10\n",
            "1875/1875 [==============================] - 8s 4ms/step - loss: 0.3748 - accuracy: 0.8664 - lr: 0.1080\n",
            "Epoch 10/10\n",
            "1875/1875 [==============================] - 7s 4ms/step - loss: 0.3864 - accuracy: 0.8655 - lr: 0.1200\n"
          ]
        },
        {
          "output_type": "execute_result",
          "data": {
            "text/plain": [
              "<keras.callbacks.History at 0x7fd50fc718d0>"
            ]
          },
          "metadata": {},
          "execution_count": 156
        }
      ]
    },
    {
      "cell_type": "code",
      "metadata": {
        "colab": {
          "base_uri": "https://localhost:8080/",
          "height": 295
        },
        "id": "hXcD5AWr721u",
        "outputId": "46627c1d-8e6f-4c45-ec09-b580558cb47f"
      },
      "source": [
        "plt.plot(new_selu_model_history.history['lr'], new_selu_model_history.history['accuracy'])\n",
        "plt.title('New Selu model accuracy regarding LR')\n",
        "plt.ylabel('Accuracy')\n",
        "plt.xlabel('Learning rate')\n",
        "plt.show()"
      ],
      "id": "hXcD5AWr721u",
      "execution_count": null,
      "outputs": [
        {
          "output_type": "display_data",
          "data": {
            "image/png": "[encoded data removed]",
            "text/plain": [
              "<Figure size 432x288 with 1 Axes>"
            ]
          },
          "metadata": {
            "needs_background": "light"
          }
        }
      ]
    },
    {
      "cell_type": "markdown",
      "metadata": {
        "id": "Dsvf98JIm7rB"
      },
      "source": [
        "By following the paper's recommendations, ```min_lr``` will be equal to **0.012** and ```max_lr``` to **0.1080** as the accuracy started increasing from a learning rate of 0.02 and started decreasing from a learning rate of 0.1080"
      ],
      "id": "Dsvf98JIm7rB"
    },
    {
      "cell_type": "markdown",
      "metadata": {
        "id": "kSMFT9M4qjPp"
      },
      "source": [
        "### Implementing the CLR (triangle version)"
      ],
      "id": "kSMFT9M4qjPp"
    },
    {
      "cell_type": "code",
      "metadata": {
        "id": "vwxOcwCCpGe3"
      },
      "source": [
        "min_lr = 0.012\n",
        "max_lr = 0.1080"
      ],
      "id": "vwxOcwCCpGe3",
      "execution_count": 45,
      "outputs": []
    },
    {
      "cell_type": "markdown",
      "metadata": {
        "id": "iy8x05Ne9rZ1"
      },
      "source": [
        "As the cycle length is equivalent to 8 epochs, the stepsize will be equivalent to 4 epochs"
      ],
      "id": "iy8x05Ne9rZ1"
    },
    {
      "cell_type": "code",
      "metadata": {
        "colab": {
          "base_uri": "https://localhost:8080/"
        },
        "id": "6cjHB75dqnVZ",
        "outputId": "509a6a53-27fa-4376-b0d6-74dbf2360007"
      },
      "source": [
        "lr_diff = max_lr - min_lr\n",
        "lr_diff"
      ],
      "id": "6cjHB75dqnVZ",
      "execution_count": 46,
      "outputs": [
        {
          "output_type": "execute_result",
          "data": {
            "text/plain": [
              "0.096"
            ]
          },
          "metadata": {},
          "execution_count": 46
        }
      ]
    },
    {
      "cell_type": "markdown",
      "metadata": {
        "id": "xY6EliKY-PA1"
      },
      "source": [
        "The paper states that the max learning rate should be reached by the stepsize, therefore, the learning rate must be raised by 0.096 to reach 0.1080 at epoch 5, then decrease from 0.01080 to reach 0.012 at epoch 9 (as the peak of the triangle will be at epoch 5) "
      ],
      "id": "xY6EliKY-PA1"
    },
    {
      "cell_type": "code",
      "metadata": {
        "colab": {
          "base_uri": "https://localhost:8080/",
          "height": 384
        },
        "id": "ZgjSCSBaURJy",
        "outputId": "9f2e9ac3-d012-4c4e-c716-b69bf67dbf60"
      },
      "source": [
        "# My beautiful Paint schema of what I am trying to implement\n",
        "from IPython.display import Image\n",
        "Image('implementation_schema.JPG')"
      ],
      "id": "ZgjSCSBaURJy",
      "execution_count": 47,
      "outputs": [
        {
          "output_type": "execute_result",
          "data": {
            "image/jpeg": "[encoded data removed]",
            "text/plain": [
              "<IPython.core.display.Image object>"
            ]
          },
          "metadata": {},
          "execution_count": 47
        }
      ]
    },
    {
      "cell_type": "code",
      "metadata": {
        "colab": {
          "base_uri": "https://localhost:8080/"
        },
        "id": "wo-XWqh8DF0e",
        "outputId": "a8220537-8f44-4f19-a52c-31c75e352c8a"
      },
      "source": [
        "lr_bias = lr_diff / 4\n",
        "lr_bias"
      ],
      "id": "wo-XWqh8DF0e",
      "execution_count": 48,
      "outputs": [
        {
          "output_type": "execute_result",
          "data": {
            "text/plain": [
              "0.024"
            ]
          },
          "metadata": {},
          "execution_count": 48
        }
      ]
    },
    {
      "cell_type": "markdown",
      "metadata": {
        "id": "fLgrjGVnVkqz"
      },
      "source": [
        "The learning rate will be biased by 0.024 at each epoch (except for the first one which represents the min base learning rate"
      ],
      "id": "fLgrjGVnVkqz"
    },
    {
      "cell_type": "code",
      "metadata": {
        "id": "pgX-5Zkn-OYF"
      },
      "source": [
        "opt = tf.keras.optimizers.SGD(learning_rate=min_lr)"
      ],
      "id": "pgX-5Zkn-OYF",
      "execution_count": 49,
      "outputs": []
    },
    {
      "cell_type": "code",
      "metadata": {
        "id": "jUE5LTfxALCq"
      },
      "source": [
        "new_selu_model = Sequential()\n",
        "new_selu_model.add(Dense(units=800, activation='selu', input_shape=[image_height*image_width]))\n",
        "new_selu_model.add(Dense(units=500, activation='selu'))\n",
        "new_selu_model.add(Dense(units=class_count, activation='softmax')) # as many neurones as classes\n",
        "# softmax normalizes the model's outputs so that it looks like a proba distribution with Sum(output_i) = 1"
      ],
      "id": "jUE5LTfxALCq",
      "execution_count": 50,
      "outputs": []
    },
    {
      "cell_type": "code",
      "metadata": {
        "id": "PgggcQkyAUJa"
      },
      "source": [
        "new_selu_model.compile(optimizer=opt, loss='sparse_categorical_crossentropy', metrics=['accuracy', lr_metric])\n",
        "# categorical_crossentropy : used when class values are already one-hot-encoded\n",
        "# sparse_categorical_crossentropy : used when class values are not already one-hot-encoded"
      ],
      "id": "PgggcQkyAUJa",
      "execution_count": 51,
      "outputs": []
    },
    {
      "cell_type": "code",
      "metadata": {
        "id": "lvcFXmW-AZDr"
      },
      "source": [
        "def scheduler(epoch, lr):\n",
        "  if epoch == 0:\n",
        "    return lr\n",
        "  elif epoch <= 4: # the 5th epoch has index 4\n",
        "    return lr + lr_bias\n",
        "  else:\n",
        "    return lr - lr_bias"
      ],
      "id": "lvcFXmW-AZDr",
      "execution_count": 52,
      "outputs": []
    },
    {
      "cell_type": "code",
      "metadata": {
        "id": "xB574obCAa_P"
      },
      "source": [
        "scheduler_callback = tf.keras.callbacks.LearningRateScheduler(scheduler)"
      ],
      "id": "xB574obCAa_P",
      "execution_count": 53,
      "outputs": []
    },
    {
      "cell_type": "code",
      "metadata": {
        "colab": {
          "base_uri": "https://localhost:8080/"
        },
        "id": "FTE87uC3AdIq",
        "outputId": "bd1654e1-b24c-40ed-ad1f-796b58609d47"
      },
      "source": [
        "new_selu_model_history = new_selu_model.fit(X_train, y_train, epochs=int(epochs_per_cycle + 1), callbacks=[scheduler_callback])\n",
        "new_selu_model_history"
      ],
      "id": "FTE87uC3AdIq",
      "execution_count": 54,
      "outputs": [
        {
          "output_type": "stream",
          "name": "stdout",
          "text": [
            "Epoch 1/9\n",
            "1875/1875 [==============================] - 8s 4ms/step - loss: 0.5369 - accuracy: 0.8099 - lr: 0.0120\n",
            "Epoch 2/9\n",
            "1875/1875 [==============================] - 7s 4ms/step - loss: 0.4784 - accuracy: 0.8305 - lr: 0.0360\n",
            "Epoch 3/9\n",
            "1875/1875 [==============================] - 7s 4ms/step - loss: 0.4540 - accuracy: 0.8346 - lr: 0.0600\n",
            "Epoch 4/9\n",
            "1875/1875 [==============================] - 7s 4ms/step - loss: 0.4317 - accuracy: 0.8465 - lr: 0.0840\n",
            "Epoch 5/9\n",
            "1875/1875 [==============================] - 7s 4ms/step - loss: 0.4267 - accuracy: 0.8483 - lr: 0.1080\n",
            "Epoch 6/9\n",
            "1875/1875 [==============================] - 7s 4ms/step - loss: 0.3544 - accuracy: 0.8701 - lr: 0.0840\n",
            "Epoch 7/9\n",
            "1875/1875 [==============================] - 7s 4ms/step - loss: 0.3086 - accuracy: 0.8867 - lr: 0.0600\n",
            "Epoch 8/9\n",
            "1875/1875 [==============================] - 7s 4ms/step - loss: 0.2734 - accuracy: 0.8985 - lr: 0.0360\n",
            "Epoch 9/9\n",
            "1875/1875 [==============================] - 7s 4ms/step - loss: 0.2446 - accuracy: 0.9094 - lr: 0.0120\n"
          ]
        },
        {
          "output_type": "execute_result",
          "data": {
            "text/plain": [
              "<keras.callbacks.History at 0x7f4ef030ea10>"
            ]
          },
          "metadata": {},
          "execution_count": 54
        }
      ]
    },
    {
      "cell_type": "code",
      "metadata": {
        "id": "xDOnQsQPBA0r",
        "colab": {
          "base_uri": "https://localhost:8080/",
          "height": 295
        },
        "outputId": "17fe885f-7426-4cdd-b8dd-a9694485058a"
      },
      "source": [
        "plt.plot(new_selu_model_history.history['accuracy'])\n",
        "plt.title('New Selu model accuracy')\n",
        "plt.ylabel('Accuracy')\n",
        "plt.xlabel('Epoch')\n",
        "plt.legend(['Train'], loc='upper right')\n",
        "plt.show()"
      ],
      "id": "xDOnQsQPBA0r",
      "execution_count": 57,
      "outputs": [
        {
          "output_type": "display_data",
          "data": {
            "image/png": "[encoded data removed]",
            "text/plain": [
              "<Figure size 432x288 with 1 Axes>"
            ]
          },
          "metadata": {
            "needs_background": "light"
          }
        }
      ]
    },
    {
      "cell_type": "markdown",
      "metadata": {
        "id": "x5ZznH-IXzzJ"
      },
      "source": [
        "The peak accuracy reached is 0.9094 at the end of the cycle"
      ],
      "id": "x5ZznH-IXzzJ"
    }
  ]
}